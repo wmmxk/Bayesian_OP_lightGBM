{
 "cells": [
  {
   "cell_type": "code",
   "execution_count": 1,
   "metadata": {},
   "outputs": [],
   "source": [
    "import lightgbm as lgb\n",
    "import pandas as pd\n",
    "import numpy as np\n",
    "from bayes_opt import BayesianOptimization"
   ]
  },
  {
   "cell_type": "code",
   "execution_count": 8,
   "metadata": {},
   "outputs": [
    {
     "ename": "TypeError",
     "evalue": "train() got an unexpected keyword argument 'num_iteration'",
     "output_type": "error",
     "traceback": [
      "\u001b[0;31m---------------------------------------------------------------------------\u001b[0m",
      "\u001b[0;31mTypeError\u001b[0m                                 Traceback (most recent call last)",
      "\u001b[0;32m<ipython-input-8-7009d67b4251>\u001b[0m in \u001b[0;36m<module>\u001b[0;34m\u001b[0m\n\u001b[1;32m     25\u001b[0m \u001b[0;34m\u001b[0m\u001b[0m\n\u001b[1;32m     26\u001b[0m gbm = lgb.train(params, train_data, num_boost_round=200,\n\u001b[0;32m---> 27\u001b[0;31m                 num_iteration=20, valid_sets=lgb_eval, early_stopping_rounds=10)\n\u001b[0m\u001b[1;32m     28\u001b[0m \u001b[0;34m\u001b[0m\u001b[0m\n\u001b[1;32m     29\u001b[0m \u001b[0my_pred\u001b[0m \u001b[0;34m=\u001b[0m \u001b[0mgbm\u001b[0m\u001b[0;34m.\u001b[0m\u001b[0mpredict\u001b[0m\u001b[0;34m(\u001b[0m\u001b[0mX_test\u001b[0m\u001b[0;34m,\u001b[0m \u001b[0mnum_iteration\u001b[0m\u001b[0;34m=\u001b[0m\u001b[0mgbm\u001b[0m\u001b[0;34m.\u001b[0m\u001b[0mbest_iteration\u001b[0m\u001b[0;34m)\u001b[0m\u001b[0;34m\u001b[0m\u001b[0;34m\u001b[0m\u001b[0m\n",
      "\u001b[0;31mTypeError\u001b[0m: train() got an unexpected keyword argument 'num_iteration'"
     ]
    }
   ],
   "source": [
    "df_train = pd.read_csv(\"./regression.train\", header=None, sep=\"\\t\")\n",
    "y = df_train[0]\n",
    "X = df_train.drop(0, axis=1)\n",
    "\n",
    "\n",
    "df_test = pd.read_csv(\"./regression.test\", header=None, sep=\"\\t\")\n",
    "y_test = df_train[0]\n",
    "X_test = df_train.drop(0, axis=1)\n",
    "\n",
    "train_data = lgb.Dataset(data=X, label=y)\n",
    "lgb_eval = lgb.Dataset(X_test, y_test, reference=train_data)\n",
    "\n",
    "params = {'boosting_type': 'gbdt',\n",
    "          'objective': 'regression',\n",
    "          'metric': {'mae'},\n",
    "         'num_leaves': 24,\n",
    "        'feature_fraction': 0.7,\n",
    "        'bagging_fraction': 0.85,\n",
    "        'max_depth': 5,\n",
    "         'learning_rate': 0.02,\n",
    "        'lambda_l1': 1,\n",
    "        'lambda_l2': 1,\n",
    "        'min_split_gain': 0.01,\n",
    "        'min_child_weight': 10}\n",
    "\n",
    "gbm = lgb.train(params, train_data, num_boost_round=200,\n",
    "                 valid_sets=lgb_eval, early_stopping_rounds=10)\n",
    "\n",
    "y_pred = gbm.predict(X_test, num_iteration=gbm.best_iteration)\n",
    "print(\"the shape of y_pred\", y_pred.shape)\n",
    "print(\"the shape of y_truth\", y_test.shape)\n",
    "print(sum((y_pred > 0.5) == y_test))\n",
    "                                    "
   ]
  },
  {
   "cell_type": "code",
   "execution_count": 3,
   "metadata": {},
   "outputs": [
    {
     "name": "stdout",
     "output_type": "stream",
     "text": [
      "|   iter    |  target   | baggin... | featur... | lambda_l1 | lambda_l2 | max_depth | min_ch... | min_sp... | num_le... |\n",
      "-------------------------------------------------------------------------------------------------------------------------\n"
     ]
    },
    {
     "name": "stderr",
     "output_type": "stream",
     "text": [
      "/home/wxk/.conda/envs/gcn/lib/python3.6/site-packages/lightgbm/engine.py:430: UserWarning: Found `num_iterations` in params. Will use it instead of argument\n",
      "  warnings.warn(\"Found `{}` in params. Will use it instead of argument\".format(alias))\n",
      "/home/wxk/.conda/envs/gcn/lib/python3.6/site-packages/lightgbm/engine.py:435: UserWarning: Found `early_stopping_round` in params. Will use it instead of argument\n",
      "  warnings.warn(\"Found `{}` in params. Will use it instead of argument\".format(alias))\n"
     ]
    },
    {
     "name": "stdout",
     "output_type": "stream",
     "text": [
      "| \u001b[0m 1       \u001b[0m | \u001b[0m-0.388   \u001b[0m | \u001b[0m 0.9098  \u001b[0m | \u001b[0m 0.6722  \u001b[0m | \u001b[0m 3.014   \u001b[0m | \u001b[0m 1.635   \u001b[0m | \u001b[0m 7.118   \u001b[0m | \u001b[0m 34.07   \u001b[0m | \u001b[0m 0.04432 \u001b[0m | \u001b[0m 42.73   \u001b[0m |\n"
     ]
    },
    {
     "name": "stderr",
     "output_type": "stream",
     "text": [
      "/home/wxk/.conda/envs/gcn/lib/python3.6/site-packages/lightgbm/engine.py:430: UserWarning: Found `num_iterations` in params. Will use it instead of argument\n",
      "  warnings.warn(\"Found `{}` in params. Will use it instead of argument\".format(alias))\n",
      "/home/wxk/.conda/envs/gcn/lib/python3.6/site-packages/lightgbm/engine.py:435: UserWarning: Found `early_stopping_round` in params. Will use it instead of argument\n",
      "  warnings.warn(\"Found `{}` in params. Will use it instead of argument\".format(alias))\n"
     ]
    },
    {
     "name": "stdout",
     "output_type": "stream",
     "text": [
      "| \u001b[0m 2       \u001b[0m | \u001b[0m-0.3904  \u001b[0m | \u001b[0m 0.9927  \u001b[0m | \u001b[0m 0.4068  \u001b[0m | \u001b[0m 3.959   \u001b[0m | \u001b[0m 1.587   \u001b[0m | \u001b[0m 7.84    \u001b[0m | \u001b[0m 46.65   \u001b[0m | \u001b[0m 0.008033\u001b[0m | \u001b[0m 25.83   \u001b[0m |\n"
     ]
    },
    {
     "name": "stderr",
     "output_type": "stream",
     "text": [
      "/home/wxk/.conda/envs/gcn/lib/python3.6/site-packages/lightgbm/engine.py:430: UserWarning: Found `num_iterations` in params. Will use it instead of argument\n",
      "  warnings.warn(\"Found `{}` in params. Will use it instead of argument\".format(alias))\n",
      "/home/wxk/.conda/envs/gcn/lib/python3.6/site-packages/lightgbm/engine.py:435: UserWarning: Found `early_stopping_round` in params. Will use it instead of argument\n",
      "  warnings.warn(\"Found `{}` in params. Will use it instead of argument\".format(alias))\n"
     ]
    },
    {
     "name": "stdout",
     "output_type": "stream",
     "text": [
      "| \u001b[95m 3       \u001b[0m | \u001b[95m-0.3873  \u001b[0m | \u001b[95m 0.804   \u001b[0m | \u001b[95m 0.7661  \u001b[0m | \u001b[95m 3.891   \u001b[0m | \u001b[95m 2.61    \u001b[0m | \u001b[95m 9.893   \u001b[0m | \u001b[95m 40.96   \u001b[0m | \u001b[95m 0.04669 \u001b[0m | \u001b[95m 40.39   \u001b[0m |\n"
     ]
    },
    {
     "name": "stderr",
     "output_type": "stream",
     "text": [
      "/home/wxk/.conda/envs/gcn/lib/python3.6/site-packages/lightgbm/engine.py:430: UserWarning: Found `num_iterations` in params. Will use it instead of argument\n",
      "  warnings.warn(\"Found `{}` in params. Will use it instead of argument\".format(alias))\n",
      "/home/wxk/.conda/envs/gcn/lib/python3.6/site-packages/lightgbm/engine.py:435: UserWarning: Found `early_stopping_round` in params. Will use it instead of argument\n",
      "  warnings.warn(\"Found `{}` in params. Will use it instead of argument\".format(alias))\n"
     ]
    },
    {
     "name": "stdout",
     "output_type": "stream",
     "text": [
      "| \u001b[95m 4       \u001b[0m | \u001b[95m-0.3872  \u001b[0m | \u001b[95m 0.8237  \u001b[0m | \u001b[95m 0.6119  \u001b[0m | \u001b[95m 0.7168  \u001b[0m | \u001b[95m 2.834   \u001b[0m | \u001b[95m 7.609   \u001b[0m | \u001b[95m 23.66   \u001b[0m | \u001b[95m 0.02719 \u001b[0m | \u001b[95m 40.26   \u001b[0m |\n"
     ]
    },
    {
     "name": "stderr",
     "output_type": "stream",
     "text": [
      "/home/wxk/.conda/envs/gcn/lib/python3.6/site-packages/lightgbm/engine.py:430: UserWarning: Found `num_iterations` in params. Will use it instead of argument\n",
      "  warnings.warn(\"Found `{}` in params. Will use it instead of argument\".format(alias))\n",
      "/home/wxk/.conda/envs/gcn/lib/python3.6/site-packages/lightgbm/engine.py:435: UserWarning: Found `early_stopping_round` in params. Will use it instead of argument\n",
      "  warnings.warn(\"Found `{}` in params. Will use it instead of argument\".format(alias))\n"
     ]
    },
    {
     "name": "stdout",
     "output_type": "stream",
     "text": [
      "| \u001b[0m 5       \u001b[0m | \u001b[0m-0.3908  \u001b[0m | \u001b[0m 0.8912  \u001b[0m | \u001b[0m 0.5547  \u001b[0m | \u001b[0m 0.09395 \u001b[0m | \u001b[0m 1.853   \u001b[0m | \u001b[0m 8.06    \u001b[0m | \u001b[0m 32.76   \u001b[0m | \u001b[0m 0.09443 \u001b[0m | \u001b[0m 38.32   \u001b[0m |\n"
     ]
    },
    {
     "name": "stderr",
     "output_type": "stream",
     "text": [
      "/home/wxk/.conda/envs/gcn/lib/python3.6/site-packages/lightgbm/engine.py:430: UserWarning: Found `num_iterations` in params. Will use it instead of argument\n",
      "  warnings.warn(\"Found `{}` in params. Will use it instead of argument\".format(alias))\n",
      "/home/wxk/.conda/envs/gcn/lib/python3.6/site-packages/lightgbm/engine.py:435: UserWarning: Found `early_stopping_round` in params. Will use it instead of argument\n",
      "  warnings.warn(\"Found `{}` in params. Will use it instead of argument\".format(alias))\n"
     ]
    },
    {
     "name": "stdout",
     "output_type": "stream",
     "text": [
      "| \u001b[0m 6       \u001b[0m | \u001b[0m-0.3901  \u001b[0m | \u001b[0m 0.8719  \u001b[0m | \u001b[0m 0.4496  \u001b[0m | \u001b[0m 3.488   \u001b[0m | \u001b[0m 0.1807  \u001b[0m | \u001b[0m 8.334   \u001b[0m | \u001b[0m 35.18   \u001b[0m | \u001b[0m 0.02183 \u001b[0m | \u001b[0m 26.71   \u001b[0m |\n"
     ]
    },
    {
     "name": "stderr",
     "output_type": "stream",
     "text": [
      "/home/wxk/.conda/envs/gcn/lib/python3.6/site-packages/lightgbm/engine.py:430: UserWarning: Found `num_iterations` in params. Will use it instead of argument\n",
      "  warnings.warn(\"Found `{}` in params. Will use it instead of argument\".format(alias))\n",
      "/home/wxk/.conda/envs/gcn/lib/python3.6/site-packages/lightgbm/engine.py:435: UserWarning: Found `early_stopping_round` in params. Will use it instead of argument\n",
      "  warnings.warn(\"Found `{}` in params. Will use it instead of argument\".format(alias))\n"
     ]
    },
    {
     "name": "stdout",
     "output_type": "stream",
     "text": [
      "| \u001b[0m 7       \u001b[0m | \u001b[0m-0.3917  \u001b[0m | \u001b[0m 0.8631  \u001b[0m | \u001b[0m 0.391   \u001b[0m | \u001b[0m 2.851   \u001b[0m | \u001b[0m 1.316   \u001b[0m | \u001b[0m 9.942   \u001b[0m | \u001b[0m 9.592   \u001b[0m | \u001b[0m 0.02168 \u001b[0m | \u001b[0m 27.39   \u001b[0m |\n"
     ]
    },
    {
     "name": "stderr",
     "output_type": "stream",
     "text": [
      "/home/wxk/.conda/envs/gcn/lib/python3.6/site-packages/lightgbm/engine.py:430: UserWarning: Found `num_iterations` in params. Will use it instead of argument\n",
      "  warnings.warn(\"Found `{}` in params. Will use it instead of argument\".format(alias))\n",
      "/home/wxk/.conda/envs/gcn/lib/python3.6/site-packages/lightgbm/engine.py:435: UserWarning: Found `early_stopping_round` in params. Will use it instead of argument\n",
      "  warnings.warn(\"Found `{}` in params. Will use it instead of argument\".format(alias))\n"
     ]
    },
    {
     "name": "stdout",
     "output_type": "stream",
     "text": [
      "| \u001b[0m 8       \u001b[0m | \u001b[0m-0.3948  \u001b[0m | \u001b[0m 0.9306  \u001b[0m | \u001b[0m 0.3026  \u001b[0m | \u001b[0m 2.332   \u001b[0m | \u001b[0m 0.7333  \u001b[0m | \u001b[0m 5.795   \u001b[0m | \u001b[0m 9.967   \u001b[0m | \u001b[0m 0.06598 \u001b[0m | \u001b[0m 26.9    \u001b[0m |\n"
     ]
    },
    {
     "name": "stderr",
     "output_type": "stream",
     "text": [
      "/home/wxk/.conda/envs/gcn/lib/python3.6/site-packages/lightgbm/engine.py:430: UserWarning: Found `num_iterations` in params. Will use it instead of argument\n",
      "  warnings.warn(\"Found `{}` in params. Will use it instead of argument\".format(alias))\n",
      "/home/wxk/.conda/envs/gcn/lib/python3.6/site-packages/lightgbm/engine.py:435: UserWarning: Found `early_stopping_round` in params. Will use it instead of argument\n",
      "  warnings.warn(\"Found `{}` in params. Will use it instead of argument\".format(alias))\n"
     ]
    },
    {
     "name": "stdout",
     "output_type": "stream",
     "text": [
      "| \u001b[0m 9       \u001b[0m | \u001b[0m-0.396   \u001b[0m | \u001b[0m 0.8393  \u001b[0m | \u001b[0m 0.395   \u001b[0m | \u001b[0m 4.105   \u001b[0m | \u001b[0m 0.2913  \u001b[0m | \u001b[0m 9.19    \u001b[0m | \u001b[0m 9.324   \u001b[0m | \u001b[0m 0.09767 \u001b[0m | \u001b[0m 33.84   \u001b[0m |\n"
     ]
    },
    {
     "name": "stderr",
     "output_type": "stream",
     "text": [
      "/home/wxk/.conda/envs/gcn/lib/python3.6/site-packages/lightgbm/engine.py:430: UserWarning: Found `num_iterations` in params. Will use it instead of argument\n",
      "  warnings.warn(\"Found `{}` in params. Will use it instead of argument\".format(alias))\n",
      "/home/wxk/.conda/envs/gcn/lib/python3.6/site-packages/lightgbm/engine.py:435: UserWarning: Found `early_stopping_round` in params. Will use it instead of argument\n",
      "  warnings.warn(\"Found `{}` in params. Will use it instead of argument\".format(alias))\n"
     ]
    },
    {
     "name": "stdout",
     "output_type": "stream",
     "text": [
      "| \u001b[0m 10      \u001b[0m | \u001b[0m-0.3894  \u001b[0m | \u001b[0m 0.9954  \u001b[0m | \u001b[0m 0.5839  \u001b[0m | \u001b[0m 3.696   \u001b[0m | \u001b[0m 0.1176  \u001b[0m | \u001b[0m 6.414   \u001b[0m | \u001b[0m 10.41   \u001b[0m | \u001b[0m 0.03032 \u001b[0m | \u001b[0m 26.49   \u001b[0m |\n"
     ]
    },
    {
     "name": "stderr",
     "output_type": "stream",
     "text": [
      "/home/wxk/.conda/envs/gcn/lib/python3.6/site-packages/lightgbm/engine.py:430: UserWarning: Found `num_iterations` in params. Will use it instead of argument\n",
      "  warnings.warn(\"Found `{}` in params. Will use it instead of argument\".format(alias))\n",
      "/home/wxk/.conda/envs/gcn/lib/python3.6/site-packages/lightgbm/engine.py:435: UserWarning: Found `early_stopping_round` in params. Will use it instead of argument\n",
      "  warnings.warn(\"Found `{}` in params. Will use it instead of argument\".format(alias))\n"
     ]
    },
    {
     "name": "stdout",
     "output_type": "stream",
     "text": [
      "| \u001b[0m 11      \u001b[0m | \u001b[0m-0.3909  \u001b[0m | \u001b[0m 0.8636  \u001b[0m | \u001b[0m 0.4314  \u001b[0m | \u001b[0m 0.3207  \u001b[0m | \u001b[0m 2.077   \u001b[0m | \u001b[0m 7.833   \u001b[0m | \u001b[0m 16.94   \u001b[0m | \u001b[0m 0.0528  \u001b[0m | \u001b[0m 25.97   \u001b[0m |\n"
     ]
    },
    {
     "name": "stderr",
     "output_type": "stream",
     "text": [
      "/home/wxk/.conda/envs/gcn/lib/python3.6/site-packages/lightgbm/engine.py:430: UserWarning: Found `num_iterations` in params. Will use it instead of argument\n",
      "  warnings.warn(\"Found `{}` in params. Will use it instead of argument\".format(alias))\n",
      "/home/wxk/.conda/envs/gcn/lib/python3.6/site-packages/lightgbm/engine.py:435: UserWarning: Found `early_stopping_round` in params. Will use it instead of argument\n",
      "  warnings.warn(\"Found `{}` in params. Will use it instead of argument\".format(alias))\n"
     ]
    },
    {
     "name": "stdout",
     "output_type": "stream",
     "text": [
      "| \u001b[95m 12      \u001b[0m | \u001b[95m-0.3856  \u001b[0m | \u001b[95m 0.9152  \u001b[0m | \u001b[95m 0.8434  \u001b[0m | \u001b[95m 1.593   \u001b[0m | \u001b[95m 2.002   \u001b[0m | \u001b[95m 5.659   \u001b[0m | \u001b[95m 37.23   \u001b[0m | \u001b[95m 0.02965 \u001b[0m | \u001b[95m 27.85   \u001b[0m |\n"
     ]
    },
    {
     "name": "stderr",
     "output_type": "stream",
     "text": [
      "/home/wxk/.conda/envs/gcn/lib/python3.6/site-packages/lightgbm/engine.py:430: UserWarning: Found `num_iterations` in params. Will use it instead of argument\n",
      "  warnings.warn(\"Found `{}` in params. Will use it instead of argument\".format(alias))\n",
      "/home/wxk/.conda/envs/gcn/lib/python3.6/site-packages/lightgbm/engine.py:435: UserWarning: Found `early_stopping_round` in params. Will use it instead of argument\n",
      "  warnings.warn(\"Found `{}` in params. Will use it instead of argument\".format(alias))\n"
     ]
    },
    {
     "name": "stdout",
     "output_type": "stream",
     "text": [
      "| \u001b[0m 13      \u001b[0m | \u001b[0m-0.4055  \u001b[0m | \u001b[0m 0.9173  \u001b[0m | \u001b[0m 0.1161  \u001b[0m | \u001b[0m 4.145   \u001b[0m | \u001b[0m 0.01409 \u001b[0m | \u001b[0m 8.389   \u001b[0m | \u001b[0m 17.15   \u001b[0m | \u001b[0m 0.07378 \u001b[0m | \u001b[0m 44.21   \u001b[0m |\n"
     ]
    },
    {
     "name": "stderr",
     "output_type": "stream",
     "text": [
      "/home/wxk/.conda/envs/gcn/lib/python3.6/site-packages/lightgbm/engine.py:430: UserWarning: Found `num_iterations` in params. Will use it instead of argument\n",
      "  warnings.warn(\"Found `{}` in params. Will use it instead of argument\".format(alias))\n",
      "/home/wxk/.conda/envs/gcn/lib/python3.6/site-packages/lightgbm/engine.py:435: UserWarning: Found `early_stopping_round` in params. Will use it instead of argument\n",
      "  warnings.warn(\"Found `{}` in params. Will use it instead of argument\".format(alias))\n"
     ]
    },
    {
     "name": "stdout",
     "output_type": "stream",
     "text": [
      "| \u001b[0m 14      \u001b[0m | \u001b[0m-0.3896  \u001b[0m | \u001b[0m 0.8498  \u001b[0m | \u001b[0m 0.5609  \u001b[0m | \u001b[0m 2.96    \u001b[0m | \u001b[0m 1.717   \u001b[0m | \u001b[0m 6.115   \u001b[0m | \u001b[0m 47.87   \u001b[0m | \u001b[0m 0.04527 \u001b[0m | \u001b[0m 41.77   \u001b[0m |\n"
     ]
    },
    {
     "name": "stderr",
     "output_type": "stream",
     "text": [
      "/home/wxk/.conda/envs/gcn/lib/python3.6/site-packages/lightgbm/engine.py:430: UserWarning: Found `num_iterations` in params. Will use it instead of argument\n",
      "  warnings.warn(\"Found `{}` in params. Will use it instead of argument\".format(alias))\n",
      "/home/wxk/.conda/envs/gcn/lib/python3.6/site-packages/lightgbm/engine.py:435: UserWarning: Found `early_stopping_round` in params. Will use it instead of argument\n",
      "  warnings.warn(\"Found `{}` in params. Will use it instead of argument\".format(alias))\n"
     ]
    },
    {
     "name": "stdout",
     "output_type": "stream",
     "text": [
      "| \u001b[0m 15      \u001b[0m | \u001b[0m-0.398   \u001b[0m | \u001b[0m 0.9399  \u001b[0m | \u001b[0m 0.3379  \u001b[0m | \u001b[0m 4.069   \u001b[0m | \u001b[0m 1.19    \u001b[0m | \u001b[0m 9.406   \u001b[0m | \u001b[0m 31.16   \u001b[0m | \u001b[0m 0.08829 \u001b[0m | \u001b[0m 38.54   \u001b[0m |\n"
     ]
    },
    {
     "name": "stderr",
     "output_type": "stream",
     "text": [
      "/home/wxk/.conda/envs/gcn/lib/python3.6/site-packages/lightgbm/engine.py:430: UserWarning: Found `num_iterations` in params. Will use it instead of argument\n",
      "  warnings.warn(\"Found `{}` in params. Will use it instead of argument\".format(alias))\n",
      "/home/wxk/.conda/envs/gcn/lib/python3.6/site-packages/lightgbm/engine.py:435: UserWarning: Found `early_stopping_round` in params. Will use it instead of argument\n",
      "  warnings.warn(\"Found `{}` in params. Will use it instead of argument\".format(alias))\n"
     ]
    },
    {
     "name": "stdout",
     "output_type": "stream",
     "text": [
      "| \u001b[0m 16      \u001b[0m | \u001b[0m-0.3877  \u001b[0m | \u001b[0m 0.9317  \u001b[0m | \u001b[0m 0.7119  \u001b[0m | \u001b[0m 0.2841  \u001b[0m | \u001b[0m 2.809   \u001b[0m | \u001b[0m 5.028   \u001b[0m | \u001b[0m 5.48    \u001b[0m | \u001b[0m 0.01632 \u001b[0m | \u001b[0m 44.68   \u001b[0m |\n"
     ]
    },
    {
     "ename": "KeyboardInterrupt",
     "evalue": "",
     "output_type": "error",
     "traceback": [
      "\u001b[0;31m---------------------------------------------------------------------------\u001b[0m",
      "\u001b[0;31mStopIteration\u001b[0m                             Traceback (most recent call last)",
      "\u001b[0;32m~/.conda/envs/gcn/lib/python3.6/site-packages/bayes_opt/bayesian_optimization.py\u001b[0m in \u001b[0;36mmaximize\u001b[0;34m(self, init_points, n_iter, acq, kappa, xi, **gp_params)\u001b[0m\n\u001b[1;32m    168\u001b[0m             \u001b[0;32mtry\u001b[0m\u001b[0;34m:\u001b[0m\u001b[0;34m\u001b[0m\u001b[0;34m\u001b[0m\u001b[0m\n\u001b[0;32m--> 169\u001b[0;31m                 \u001b[0mx_probe\u001b[0m \u001b[0;34m=\u001b[0m \u001b[0mnext\u001b[0m\u001b[0;34m(\u001b[0m\u001b[0mself\u001b[0m\u001b[0;34m.\u001b[0m\u001b[0m_queue\u001b[0m\u001b[0;34m)\u001b[0m\u001b[0;34m\u001b[0m\u001b[0;34m\u001b[0m\u001b[0m\n\u001b[0m\u001b[1;32m    170\u001b[0m             \u001b[0;32mexcept\u001b[0m \u001b[0mStopIteration\u001b[0m\u001b[0;34m:\u001b[0m\u001b[0;34m\u001b[0m\u001b[0;34m\u001b[0m\u001b[0m\n",
      "\u001b[0;32m~/.conda/envs/gcn/lib/python3.6/site-packages/bayes_opt/bayesian_optimization.py\u001b[0m in \u001b[0;36m__next__\u001b[0;34m(self)\u001b[0m\n\u001b[1;32m     25\u001b[0m         \u001b[0;32mif\u001b[0m \u001b[0mself\u001b[0m\u001b[0;34m.\u001b[0m\u001b[0mempty\u001b[0m\u001b[0;34m:\u001b[0m\u001b[0;34m\u001b[0m\u001b[0;34m\u001b[0m\u001b[0m\n\u001b[0;32m---> 26\u001b[0;31m             \u001b[0;32mraise\u001b[0m \u001b[0mStopIteration\u001b[0m\u001b[0;34m(\u001b[0m\u001b[0;34m\"Queue is empty, no more objects to retrieve.\"\u001b[0m\u001b[0;34m)\u001b[0m\u001b[0;34m\u001b[0m\u001b[0;34m\u001b[0m\u001b[0m\n\u001b[0m\u001b[1;32m     27\u001b[0m         \u001b[0mobj\u001b[0m \u001b[0;34m=\u001b[0m \u001b[0mself\u001b[0m\u001b[0;34m.\u001b[0m\u001b[0m_queue\u001b[0m\u001b[0;34m[\u001b[0m\u001b[0;36m0\u001b[0m\u001b[0;34m]\u001b[0m\u001b[0;34m\u001b[0m\u001b[0;34m\u001b[0m\u001b[0m\n",
      "\u001b[0;31mStopIteration\u001b[0m: Queue is empty, no more objects to retrieve.",
      "\nDuring handling of the above exception, another exception occurred:\n",
      "\u001b[0;31mKeyboardInterrupt\u001b[0m                         Traceback (most recent call last)",
      "\u001b[0;32m<ipython-input-3-5a3625f4047a>\u001b[0m in \u001b[0;36m<module>\u001b[0;34m\u001b[0m\n\u001b[1;32m     36\u001b[0m     \u001b[0;32mreturn\u001b[0m \u001b[0mlgbBO\u001b[0m\u001b[0;34m\u001b[0m\u001b[0;34m\u001b[0m\u001b[0m\n\u001b[1;32m     37\u001b[0m \u001b[0;34m\u001b[0m\u001b[0m\n\u001b[0;32m---> 38\u001b[0;31m \u001b[0mopt_params\u001b[0m \u001b[0;34m=\u001b[0m \u001b[0mbayes_parameter_opt_lgb\u001b[0m\u001b[0;34m(\u001b[0m\u001b[0mtrain_data\u001b[0m\u001b[0;34m,\u001b[0m \u001b[0mlgb_eval\u001b[0m\u001b[0;34m)\u001b[0m\u001b[0;34m\u001b[0m\u001b[0;34m\u001b[0m\u001b[0m\n\u001b[0m",
      "\u001b[0;32m<ipython-input-3-5a3625f4047a>\u001b[0m in \u001b[0;36mbayes_parameter_opt_lgb\u001b[0;34m(train_data, lgb_eval, init_round, opt_round, random_seed, n_iterations, learning_rate)\u001b[0m\n\u001b[1;32m     31\u001b[0m                                             'min_child_weight': (5, 50)}, random_state=0)\n\u001b[1;32m     32\u001b[0m     \u001b[0;31m# optimize\u001b[0m\u001b[0;34m\u001b[0m\u001b[0;34m\u001b[0m\u001b[0;34m\u001b[0m\u001b[0m\n\u001b[0;32m---> 33\u001b[0;31m     \u001b[0mlgbBO\u001b[0m\u001b[0;34m.\u001b[0m\u001b[0mmaximize\u001b[0m\u001b[0;34m(\u001b[0m\u001b[0minit_points\u001b[0m\u001b[0;34m=\u001b[0m\u001b[0minit_round\u001b[0m\u001b[0;34m,\u001b[0m \u001b[0mn_iter\u001b[0m\u001b[0;34m=\u001b[0m\u001b[0mopt_round\u001b[0m\u001b[0;34m)\u001b[0m\u001b[0;34m\u001b[0m\u001b[0;34m\u001b[0m\u001b[0m\n\u001b[0m\u001b[1;32m     34\u001b[0m \u001b[0;34m\u001b[0m\u001b[0m\n\u001b[1;32m     35\u001b[0m \u001b[0;34m\u001b[0m\u001b[0m\n",
      "\u001b[0;32m~/.conda/envs/gcn/lib/python3.6/site-packages/bayes_opt/bayesian_optimization.py\u001b[0m in \u001b[0;36mmaximize\u001b[0;34m(self, init_points, n_iter, acq, kappa, xi, **gp_params)\u001b[0m\n\u001b[1;32m    169\u001b[0m                 \u001b[0mx_probe\u001b[0m \u001b[0;34m=\u001b[0m \u001b[0mnext\u001b[0m\u001b[0;34m(\u001b[0m\u001b[0mself\u001b[0m\u001b[0;34m.\u001b[0m\u001b[0m_queue\u001b[0m\u001b[0;34m)\u001b[0m\u001b[0;34m\u001b[0m\u001b[0;34m\u001b[0m\u001b[0m\n\u001b[1;32m    170\u001b[0m             \u001b[0;32mexcept\u001b[0m \u001b[0mStopIteration\u001b[0m\u001b[0;34m:\u001b[0m\u001b[0;34m\u001b[0m\u001b[0;34m\u001b[0m\u001b[0m\n\u001b[0;32m--> 171\u001b[0;31m                 \u001b[0mx_probe\u001b[0m \u001b[0;34m=\u001b[0m \u001b[0mself\u001b[0m\u001b[0;34m.\u001b[0m\u001b[0msuggest\u001b[0m\u001b[0;34m(\u001b[0m\u001b[0mutil\u001b[0m\u001b[0;34m)\u001b[0m\u001b[0;34m\u001b[0m\u001b[0;34m\u001b[0m\u001b[0m\n\u001b[0m\u001b[1;32m    172\u001b[0m                 \u001b[0miteration\u001b[0m \u001b[0;34m+=\u001b[0m \u001b[0;36m1\u001b[0m\u001b[0;34m\u001b[0m\u001b[0;34m\u001b[0m\u001b[0m\n\u001b[1;32m    173\u001b[0m \u001b[0;34m\u001b[0m\u001b[0m\n",
      "\u001b[0;32m~/.conda/envs/gcn/lib/python3.6/site-packages/bayes_opt/bayesian_optimization.py\u001b[0m in \u001b[0;36msuggest\u001b[0;34m(self, utility_function)\u001b[0m\n\u001b[1;32m    130\u001b[0m             \u001b[0my_max\u001b[0m\u001b[0;34m=\u001b[0m\u001b[0mself\u001b[0m\u001b[0;34m.\u001b[0m\u001b[0m_space\u001b[0m\u001b[0;34m.\u001b[0m\u001b[0mtarget\u001b[0m\u001b[0;34m.\u001b[0m\u001b[0mmax\u001b[0m\u001b[0;34m(\u001b[0m\u001b[0;34m)\u001b[0m\u001b[0;34m,\u001b[0m\u001b[0;34m\u001b[0m\u001b[0;34m\u001b[0m\u001b[0m\n\u001b[1;32m    131\u001b[0m             \u001b[0mbounds\u001b[0m\u001b[0;34m=\u001b[0m\u001b[0mself\u001b[0m\u001b[0;34m.\u001b[0m\u001b[0m_space\u001b[0m\u001b[0;34m.\u001b[0m\u001b[0mbounds\u001b[0m\u001b[0;34m,\u001b[0m\u001b[0;34m\u001b[0m\u001b[0;34m\u001b[0m\u001b[0m\n\u001b[0;32m--> 132\u001b[0;31m             \u001b[0mrandom_state\u001b[0m\u001b[0;34m=\u001b[0m\u001b[0mself\u001b[0m\u001b[0;34m.\u001b[0m\u001b[0m_random_state\u001b[0m\u001b[0;34m\u001b[0m\u001b[0;34m\u001b[0m\u001b[0m\n\u001b[0m\u001b[1;32m    133\u001b[0m         )\n\u001b[1;32m    134\u001b[0m \u001b[0;34m\u001b[0m\u001b[0m\n",
      "\u001b[0;32m~/.conda/envs/gcn/lib/python3.6/site-packages/bayes_opt/util.py\u001b[0m in \u001b[0;36macq_max\u001b[0;34m(ac, gp, y_max, bounds, random_state, n_warmup, n_iter)\u001b[0m\n\u001b[1;32m     56\u001b[0m                        \u001b[0mx_try\u001b[0m\u001b[0;34m.\u001b[0m\u001b[0mreshape\u001b[0m\u001b[0;34m(\u001b[0m\u001b[0;36m1\u001b[0m\u001b[0;34m,\u001b[0m \u001b[0;34m-\u001b[0m\u001b[0;36m1\u001b[0m\u001b[0;34m)\u001b[0m\u001b[0;34m,\u001b[0m\u001b[0;34m\u001b[0m\u001b[0;34m\u001b[0m\u001b[0m\n\u001b[1;32m     57\u001b[0m                        \u001b[0mbounds\u001b[0m\u001b[0;34m=\u001b[0m\u001b[0mbounds\u001b[0m\u001b[0;34m,\u001b[0m\u001b[0;34m\u001b[0m\u001b[0;34m\u001b[0m\u001b[0m\n\u001b[0;32m---> 58\u001b[0;31m                        method=\"L-BFGS-B\")\n\u001b[0m\u001b[1;32m     59\u001b[0m \u001b[0;34m\u001b[0m\u001b[0m\n\u001b[1;32m     60\u001b[0m         \u001b[0;31m# See if success\u001b[0m\u001b[0;34m\u001b[0m\u001b[0;34m\u001b[0m\u001b[0;34m\u001b[0m\u001b[0m\n",
      "\u001b[0;32m~/.conda/envs/gcn/lib/python3.6/site-packages/scipy/optimize/_minimize.py\u001b[0m in \u001b[0;36mminimize\u001b[0;34m(fun, x0, args, method, jac, hess, hessp, bounds, constraints, tol, callback, options)\u001b[0m\n\u001b[1;32m    598\u001b[0m     \u001b[0;32melif\u001b[0m \u001b[0mmeth\u001b[0m \u001b[0;34m==\u001b[0m \u001b[0;34m'l-bfgs-b'\u001b[0m\u001b[0;34m:\u001b[0m\u001b[0;34m\u001b[0m\u001b[0;34m\u001b[0m\u001b[0m\n\u001b[1;32m    599\u001b[0m         return _minimize_lbfgsb(fun, x0, args, jac, bounds,\n\u001b[0;32m--> 600\u001b[0;31m                                 callback=callback, **options)\n\u001b[0m\u001b[1;32m    601\u001b[0m     \u001b[0;32melif\u001b[0m \u001b[0mmeth\u001b[0m \u001b[0;34m==\u001b[0m \u001b[0;34m'tnc'\u001b[0m\u001b[0;34m:\u001b[0m\u001b[0;34m\u001b[0m\u001b[0;34m\u001b[0m\u001b[0m\n\u001b[1;32m    602\u001b[0m         return _minimize_tnc(fun, x0, args, jac, bounds, callback=callback,\n",
      "\u001b[0;32m~/.conda/envs/gcn/lib/python3.6/site-packages/scipy/optimize/lbfgsb.py\u001b[0m in \u001b[0;36m_minimize_lbfgsb\u001b[0;34m(fun, x0, args, jac, bounds, disp, maxcor, ftol, gtol, eps, maxfun, maxiter, iprint, callback, maxls, **unknown_options)\u001b[0m\n\u001b[1;32m    333\u001b[0m             \u001b[0;31m# until the completion of the current minimization iteration.\u001b[0m\u001b[0;34m\u001b[0m\u001b[0;34m\u001b[0m\u001b[0;34m\u001b[0m\u001b[0m\n\u001b[1;32m    334\u001b[0m             \u001b[0;31m# Overwrite f and g:\u001b[0m\u001b[0;34m\u001b[0m\u001b[0;34m\u001b[0m\u001b[0;34m\u001b[0m\u001b[0m\n\u001b[0;32m--> 335\u001b[0;31m             \u001b[0mf\u001b[0m\u001b[0;34m,\u001b[0m \u001b[0mg\u001b[0m \u001b[0;34m=\u001b[0m \u001b[0mfunc_and_grad\u001b[0m\u001b[0;34m(\u001b[0m\u001b[0mx\u001b[0m\u001b[0;34m)\u001b[0m\u001b[0;34m\u001b[0m\u001b[0;34m\u001b[0m\u001b[0m\n\u001b[0m\u001b[1;32m    336\u001b[0m         \u001b[0;32melif\u001b[0m \u001b[0mtask_str\u001b[0m\u001b[0;34m.\u001b[0m\u001b[0mstartswith\u001b[0m\u001b[0;34m(\u001b[0m\u001b[0;34mb'NEW_X'\u001b[0m\u001b[0;34m)\u001b[0m\u001b[0;34m:\u001b[0m\u001b[0;34m\u001b[0m\u001b[0;34m\u001b[0m\u001b[0m\n\u001b[1;32m    337\u001b[0m             \u001b[0;31m# new iteration\u001b[0m\u001b[0;34m\u001b[0m\u001b[0;34m\u001b[0m\u001b[0;34m\u001b[0m\u001b[0m\n",
      "\u001b[0;32m~/.conda/envs/gcn/lib/python3.6/site-packages/scipy/optimize/lbfgsb.py\u001b[0m in \u001b[0;36mfunc_and_grad\u001b[0;34m(x)\u001b[0m\n\u001b[1;32m    278\u001b[0m     \u001b[0;32mif\u001b[0m \u001b[0mjac\u001b[0m \u001b[0;32mis\u001b[0m \u001b[0;32mNone\u001b[0m\u001b[0;34m:\u001b[0m\u001b[0;34m\u001b[0m\u001b[0;34m\u001b[0m\u001b[0m\n\u001b[1;32m    279\u001b[0m         \u001b[0;32mdef\u001b[0m \u001b[0mfunc_and_grad\u001b[0m\u001b[0;34m(\u001b[0m\u001b[0mx\u001b[0m\u001b[0;34m)\u001b[0m\u001b[0;34m:\u001b[0m\u001b[0;34m\u001b[0m\u001b[0;34m\u001b[0m\u001b[0m\n\u001b[0;32m--> 280\u001b[0;31m             \u001b[0mf\u001b[0m \u001b[0;34m=\u001b[0m \u001b[0mfun\u001b[0m\u001b[0;34m(\u001b[0m\u001b[0mx\u001b[0m\u001b[0;34m,\u001b[0m \u001b[0;34m*\u001b[0m\u001b[0margs\u001b[0m\u001b[0;34m)\u001b[0m\u001b[0;34m\u001b[0m\u001b[0;34m\u001b[0m\u001b[0m\n\u001b[0m\u001b[1;32m    281\u001b[0m             \u001b[0mg\u001b[0m \u001b[0;34m=\u001b[0m \u001b[0m_approx_fprime_helper\u001b[0m\u001b[0;34m(\u001b[0m\u001b[0mx\u001b[0m\u001b[0;34m,\u001b[0m \u001b[0mfun\u001b[0m\u001b[0;34m,\u001b[0m \u001b[0mepsilon\u001b[0m\u001b[0;34m,\u001b[0m \u001b[0margs\u001b[0m\u001b[0;34m=\u001b[0m\u001b[0margs\u001b[0m\u001b[0;34m,\u001b[0m \u001b[0mf0\u001b[0m\u001b[0;34m=\u001b[0m\u001b[0mf\u001b[0m\u001b[0;34m)\u001b[0m\u001b[0;34m\u001b[0m\u001b[0;34m\u001b[0m\u001b[0m\n\u001b[1;32m    282\u001b[0m             \u001b[0;32mreturn\u001b[0m \u001b[0mf\u001b[0m\u001b[0;34m,\u001b[0m \u001b[0mg\u001b[0m\u001b[0;34m\u001b[0m\u001b[0;34m\u001b[0m\u001b[0m\n",
      "\u001b[0;32m~/.conda/envs/gcn/lib/python3.6/site-packages/scipy/optimize/optimize.py\u001b[0m in \u001b[0;36mfunction_wrapper\u001b[0;34m(*wrapper_args)\u001b[0m\n\u001b[1;32m    324\u001b[0m     \u001b[0;32mdef\u001b[0m \u001b[0mfunction_wrapper\u001b[0m\u001b[0;34m(\u001b[0m\u001b[0;34m*\u001b[0m\u001b[0mwrapper_args\u001b[0m\u001b[0;34m)\u001b[0m\u001b[0;34m:\u001b[0m\u001b[0;34m\u001b[0m\u001b[0;34m\u001b[0m\u001b[0m\n\u001b[1;32m    325\u001b[0m         \u001b[0mncalls\u001b[0m\u001b[0;34m[\u001b[0m\u001b[0;36m0\u001b[0m\u001b[0;34m]\u001b[0m \u001b[0;34m+=\u001b[0m \u001b[0;36m1\u001b[0m\u001b[0;34m\u001b[0m\u001b[0;34m\u001b[0m\u001b[0m\n\u001b[0;32m--> 326\u001b[0;31m         \u001b[0;32mreturn\u001b[0m \u001b[0mfunction\u001b[0m\u001b[0;34m(\u001b[0m\u001b[0;34m*\u001b[0m\u001b[0;34m(\u001b[0m\u001b[0mwrapper_args\u001b[0m \u001b[0;34m+\u001b[0m \u001b[0margs\u001b[0m\u001b[0;34m)\u001b[0m\u001b[0;34m)\u001b[0m\u001b[0;34m\u001b[0m\u001b[0;34m\u001b[0m\u001b[0m\n\u001b[0m\u001b[1;32m    327\u001b[0m \u001b[0;34m\u001b[0m\u001b[0m\n\u001b[1;32m    328\u001b[0m     \u001b[0;32mreturn\u001b[0m \u001b[0mncalls\u001b[0m\u001b[0;34m,\u001b[0m \u001b[0mfunction_wrapper\u001b[0m\u001b[0;34m\u001b[0m\u001b[0;34m\u001b[0m\u001b[0m\n",
      "\u001b[0;32m~/.conda/envs/gcn/lib/python3.6/site-packages/bayes_opt/util.py\u001b[0m in \u001b[0;36m<lambda>\u001b[0;34m(x)\u001b[0m\n\u001b[1;32m     53\u001b[0m     \u001b[0;32mfor\u001b[0m \u001b[0mx_try\u001b[0m \u001b[0;32min\u001b[0m \u001b[0mx_seeds\u001b[0m\u001b[0;34m:\u001b[0m\u001b[0;34m\u001b[0m\u001b[0;34m\u001b[0m\u001b[0m\n\u001b[1;32m     54\u001b[0m         \u001b[0;31m# Find the minimum of minus the acquisition function\u001b[0m\u001b[0;34m\u001b[0m\u001b[0;34m\u001b[0m\u001b[0;34m\u001b[0m\u001b[0m\n\u001b[0;32m---> 55\u001b[0;31m         res = minimize(lambda x: -ac(x.reshape(1, -1), gp=gp, y_max=y_max),\n\u001b[0m\u001b[1;32m     56\u001b[0m                        \u001b[0mx_try\u001b[0m\u001b[0;34m.\u001b[0m\u001b[0mreshape\u001b[0m\u001b[0;34m(\u001b[0m\u001b[0;36m1\u001b[0m\u001b[0;34m,\u001b[0m \u001b[0;34m-\u001b[0m\u001b[0;36m1\u001b[0m\u001b[0;34m)\u001b[0m\u001b[0;34m,\u001b[0m\u001b[0;34m\u001b[0m\u001b[0;34m\u001b[0m\u001b[0m\n\u001b[1;32m     57\u001b[0m                        \u001b[0mbounds\u001b[0m\u001b[0;34m=\u001b[0m\u001b[0mbounds\u001b[0m\u001b[0;34m,\u001b[0m\u001b[0;34m\u001b[0m\u001b[0;34m\u001b[0m\u001b[0m\n",
      "\u001b[0;32m~/.conda/envs/gcn/lib/python3.6/site-packages/bayes_opt/util.py\u001b[0m in \u001b[0;36mutility\u001b[0;34m(self, x, gp, y_max)\u001b[0m\n\u001b[1;32m     95\u001b[0m     \u001b[0;32mdef\u001b[0m \u001b[0mutility\u001b[0m\u001b[0;34m(\u001b[0m\u001b[0mself\u001b[0m\u001b[0;34m,\u001b[0m \u001b[0mx\u001b[0m\u001b[0;34m,\u001b[0m \u001b[0mgp\u001b[0m\u001b[0;34m,\u001b[0m \u001b[0my_max\u001b[0m\u001b[0;34m)\u001b[0m\u001b[0;34m:\u001b[0m\u001b[0;34m\u001b[0m\u001b[0;34m\u001b[0m\u001b[0m\n\u001b[1;32m     96\u001b[0m         \u001b[0;32mif\u001b[0m \u001b[0mself\u001b[0m\u001b[0;34m.\u001b[0m\u001b[0mkind\u001b[0m \u001b[0;34m==\u001b[0m \u001b[0;34m'ucb'\u001b[0m\u001b[0;34m:\u001b[0m\u001b[0;34m\u001b[0m\u001b[0;34m\u001b[0m\u001b[0m\n\u001b[0;32m---> 97\u001b[0;31m             \u001b[0;32mreturn\u001b[0m \u001b[0mself\u001b[0m\u001b[0;34m.\u001b[0m\u001b[0m_ucb\u001b[0m\u001b[0;34m(\u001b[0m\u001b[0mx\u001b[0m\u001b[0;34m,\u001b[0m \u001b[0mgp\u001b[0m\u001b[0;34m,\u001b[0m \u001b[0mself\u001b[0m\u001b[0;34m.\u001b[0m\u001b[0mkappa\u001b[0m\u001b[0;34m)\u001b[0m\u001b[0;34m\u001b[0m\u001b[0;34m\u001b[0m\u001b[0m\n\u001b[0m\u001b[1;32m     98\u001b[0m         \u001b[0;32mif\u001b[0m \u001b[0mself\u001b[0m\u001b[0;34m.\u001b[0m\u001b[0mkind\u001b[0m \u001b[0;34m==\u001b[0m \u001b[0;34m'ei'\u001b[0m\u001b[0;34m:\u001b[0m\u001b[0;34m\u001b[0m\u001b[0;34m\u001b[0m\u001b[0m\n\u001b[1;32m     99\u001b[0m             \u001b[0;32mreturn\u001b[0m \u001b[0mself\u001b[0m\u001b[0;34m.\u001b[0m\u001b[0m_ei\u001b[0m\u001b[0;34m(\u001b[0m\u001b[0mx\u001b[0m\u001b[0;34m,\u001b[0m \u001b[0mgp\u001b[0m\u001b[0;34m,\u001b[0m \u001b[0my_max\u001b[0m\u001b[0;34m,\u001b[0m \u001b[0mself\u001b[0m\u001b[0;34m.\u001b[0m\u001b[0mxi\u001b[0m\u001b[0;34m)\u001b[0m\u001b[0;34m\u001b[0m\u001b[0;34m\u001b[0m\u001b[0m\n",
      "\u001b[0;32m~/.conda/envs/gcn/lib/python3.6/site-packages/bayes_opt/util.py\u001b[0m in \u001b[0;36m_ucb\u001b[0;34m(x, gp, kappa)\u001b[0m\n\u001b[1;32m    105\u001b[0m         \u001b[0;32mwith\u001b[0m \u001b[0mwarnings\u001b[0m\u001b[0;34m.\u001b[0m\u001b[0mcatch_warnings\u001b[0m\u001b[0;34m(\u001b[0m\u001b[0;34m)\u001b[0m\u001b[0;34m:\u001b[0m\u001b[0;34m\u001b[0m\u001b[0;34m\u001b[0m\u001b[0m\n\u001b[1;32m    106\u001b[0m             \u001b[0mwarnings\u001b[0m\u001b[0;34m.\u001b[0m\u001b[0msimplefilter\u001b[0m\u001b[0;34m(\u001b[0m\u001b[0;34m\"ignore\"\u001b[0m\u001b[0;34m)\u001b[0m\u001b[0;34m\u001b[0m\u001b[0;34m\u001b[0m\u001b[0m\n\u001b[0;32m--> 107\u001b[0;31m             \u001b[0mmean\u001b[0m\u001b[0;34m,\u001b[0m \u001b[0mstd\u001b[0m \u001b[0;34m=\u001b[0m \u001b[0mgp\u001b[0m\u001b[0;34m.\u001b[0m\u001b[0mpredict\u001b[0m\u001b[0;34m(\u001b[0m\u001b[0mx\u001b[0m\u001b[0;34m,\u001b[0m \u001b[0mreturn_std\u001b[0m\u001b[0;34m=\u001b[0m\u001b[0;32mTrue\u001b[0m\u001b[0;34m)\u001b[0m\u001b[0;34m\u001b[0m\u001b[0;34m\u001b[0m\u001b[0m\n\u001b[0m\u001b[1;32m    108\u001b[0m \u001b[0;34m\u001b[0m\u001b[0m\n\u001b[1;32m    109\u001b[0m         \u001b[0;32mreturn\u001b[0m \u001b[0mmean\u001b[0m \u001b[0;34m+\u001b[0m \u001b[0mkappa\u001b[0m \u001b[0;34m*\u001b[0m \u001b[0mstd\u001b[0m\u001b[0;34m\u001b[0m\u001b[0;34m\u001b[0m\u001b[0m\n",
      "\u001b[0;32m~/.conda/envs/gcn/lib/python3.6/site-packages/sklearn/gaussian_process/gpr.py\u001b[0m in \u001b[0;36mpredict\u001b[0;34m(self, X, return_std, return_cov)\u001b[0m\n\u001b[1;32m    343\u001b[0m                 \u001b[0;31m# numerical issues. If yes: set the variance to 0.\u001b[0m\u001b[0;34m\u001b[0m\u001b[0;34m\u001b[0m\u001b[0;34m\u001b[0m\u001b[0m\n\u001b[1;32m    344\u001b[0m                 \u001b[0my_var_negative\u001b[0m \u001b[0;34m=\u001b[0m \u001b[0my_var\u001b[0m \u001b[0;34m<\u001b[0m \u001b[0;36m0\u001b[0m\u001b[0;34m\u001b[0m\u001b[0;34m\u001b[0m\u001b[0m\n\u001b[0;32m--> 345\u001b[0;31m                 \u001b[0;32mif\u001b[0m \u001b[0mnp\u001b[0m\u001b[0;34m.\u001b[0m\u001b[0many\u001b[0m\u001b[0;34m(\u001b[0m\u001b[0my_var_negative\u001b[0m\u001b[0;34m)\u001b[0m\u001b[0;34m:\u001b[0m\u001b[0;34m\u001b[0m\u001b[0;34m\u001b[0m\u001b[0m\n\u001b[0m\u001b[1;32m    346\u001b[0m                     warnings.warn(\"Predicted variances smaller than 0. \"\n\u001b[1;32m    347\u001b[0m                                   \"Setting those variances to 0.\")\n",
      "\u001b[0;32m~/.conda/envs/gcn/lib/python3.6/site-packages/numpy/core/fromnumeric.py\u001b[0m in \u001b[0;36many\u001b[0;34m(a, axis, out, keepdims)\u001b[0m\n\u001b[1;32m   2162\u001b[0m \u001b[0;34m\u001b[0m\u001b[0m\n\u001b[1;32m   2163\u001b[0m     \"\"\"\n\u001b[0;32m-> 2164\u001b[0;31m     \u001b[0;32mreturn\u001b[0m \u001b[0m_wrapreduction\u001b[0m\u001b[0;34m(\u001b[0m\u001b[0ma\u001b[0m\u001b[0;34m,\u001b[0m \u001b[0mnp\u001b[0m\u001b[0;34m.\u001b[0m\u001b[0mlogical_or\u001b[0m\u001b[0;34m,\u001b[0m \u001b[0;34m'any'\u001b[0m\u001b[0;34m,\u001b[0m \u001b[0maxis\u001b[0m\u001b[0;34m,\u001b[0m \u001b[0;32mNone\u001b[0m\u001b[0;34m,\u001b[0m \u001b[0mout\u001b[0m\u001b[0;34m,\u001b[0m \u001b[0mkeepdims\u001b[0m\u001b[0;34m=\u001b[0m\u001b[0mkeepdims\u001b[0m\u001b[0;34m)\u001b[0m\u001b[0;34m\u001b[0m\u001b[0;34m\u001b[0m\u001b[0m\n\u001b[0m\u001b[1;32m   2165\u001b[0m \u001b[0;34m\u001b[0m\u001b[0m\n\u001b[1;32m   2166\u001b[0m \u001b[0;34m\u001b[0m\u001b[0m\n",
      "\u001b[0;32m~/.conda/envs/gcn/lib/python3.6/site-packages/numpy/core/fromnumeric.py\u001b[0m in \u001b[0;36m_wrapreduction\u001b[0;34m(obj, ufunc, method, axis, dtype, out, **kwargs)\u001b[0m\n\u001b[1;32m     67\u001b[0m \u001b[0;34m\u001b[0m\u001b[0m\n\u001b[1;32m     68\u001b[0m \u001b[0;34m\u001b[0m\u001b[0m\n\u001b[0;32m---> 69\u001b[0;31m \u001b[0;32mdef\u001b[0m \u001b[0m_wrapreduction\u001b[0m\u001b[0;34m(\u001b[0m\u001b[0mobj\u001b[0m\u001b[0;34m,\u001b[0m \u001b[0mufunc\u001b[0m\u001b[0;34m,\u001b[0m \u001b[0mmethod\u001b[0m\u001b[0;34m,\u001b[0m \u001b[0maxis\u001b[0m\u001b[0;34m,\u001b[0m \u001b[0mdtype\u001b[0m\u001b[0;34m,\u001b[0m \u001b[0mout\u001b[0m\u001b[0;34m,\u001b[0m \u001b[0;34m**\u001b[0m\u001b[0mkwargs\u001b[0m\u001b[0;34m)\u001b[0m\u001b[0;34m:\u001b[0m\u001b[0;34m\u001b[0m\u001b[0;34m\u001b[0m\u001b[0m\n\u001b[0m\u001b[1;32m     70\u001b[0m     passkwargs = {k: v for k, v in kwargs.items()\n\u001b[1;32m     71\u001b[0m                   if v is not np._NoValue}\n",
      "\u001b[0;31mKeyboardInterrupt\u001b[0m: "
     ]
    }
   ],
   "source": [
    "def bayes_parameter_opt_lgb(train_data, lgb_eval, init_round=15, opt_round=25,\n",
    "                            random_seed=6, n_iterations=2000, learning_rate=0.05):\n",
    "\n",
    "    def lgb_eval(num_leaves, feature_fraction, bagging_fraction, \n",
    "                 max_depth, lambda_l1, lambda_l2, min_split_gain, min_child_weight):\n",
    "        params = {'objective': 'regression','boosting_type': 'gbdt',\n",
    "                  'num_iterations': n_iterations, \n",
    "                  'learning_rate':learning_rate, 'early_stopping_round':100, \n",
    "                  'metric':{'mae'}}\n",
    "        params[\"num_leaves\"] = int(round(num_leaves))\n",
    "        params['feature_fraction'] = max(min(feature_fraction, 1), 0)\n",
    "        params['bagging_fraction'] = max(min(bagging_fraction, 1), 0)\n",
    "        params['max_depth'] = int(round(max_depth))\n",
    "        params['lambda_l1'] = max(lambda_l1, 0)\n",
    "        params['lambda_l2'] = max(lambda_l2, 0)\n",
    "        params['min_split_gain'] = min_split_gain\n",
    "        params['min_child_weight'] = min_child_weight\n",
    "        gbm = lgb.cv(params, train_data, nfold=3, early_stopping_rounds=20)\n",
    "        return -min(np.array(gbm['l1-mean'])) # -gbm.best_score['valid_0']['l1']\n",
    "#         gbm = lgb.train(params, train_data, num_boost_round=3000,\n",
    "#                         valid_sets=lgb_eval, early_stopping_rounds=10)\n",
    "    \n",
    "\n",
    "    lgbBO = BayesianOptimization(lgb_eval, {'num_leaves': (24, 45),\n",
    "                                            'feature_fraction': (0.1, 0.9),\n",
    "                                            'bagging_fraction': (0.8, 1),\n",
    "                                            'max_depth': (5, 10),\n",
    "                                            'lambda_l1': (0, 5),\n",
    "                                            'lambda_l2': (0, 3),\n",
    "                                            'min_split_gain': (0.001, 0.1),\n",
    "                                            'min_child_weight': (5, 50)}, random_state=0)\n",
    "    # optimize\n",
    "    lgbBO.maximize(init_points=init_round, n_iter=opt_round)\n",
    "    \n",
    "\n",
    "    return lgbBO\n",
    "\n",
    "opt_params = bayes_parameter_opt_lgb(train_data, lgb_eval)"
   ]
  },
  {
   "cell_type": "code",
   "execution_count": 5,
   "metadata": {},
   "outputs": [
    {
     "data": {
      "text/plain": [
       "[{'target': -0.3850880748785738,\n",
       "  'params': {'bagging_fraction': 0.9930206089804453,\n",
       "   'feature_fraction': 0.8928020095326513,\n",
       "   'lambda_l1': 0.4975860239948754,\n",
       "   'lambda_l2': 2.691237823526113,\n",
       "   'max_depth': 9.654239662932703,\n",
       "   'min_child_weight': 41.41381242424631,\n",
       "   'min_split_gain': 0.01670472500893779,\n",
       "   'num_leaves': 33.22837367467527}},\n",
       " {'target': -0.38555201075603146,\n",
       "  'params': {'bagging_fraction': 0.8054598352148743,\n",
       "   'feature_fraction': 0.8975441212826849,\n",
       "   'lambda_l1': 2.4953362486792763,\n",
       "   'lambda_l2': 2.9942646682994223,\n",
       "   'max_depth': 9.87136147644345,\n",
       "   'min_child_weight': 48.88111169863027,\n",
       "   'min_split_gain': 0.014240225148487579,\n",
       "   'num_leaves': 27.397502172455894}},\n",
       " {'target': -0.3857388999653826,\n",
       "  'params': {'bagging_fraction': 0.8584694037613704,\n",
       "   'feature_fraction': 0.8740981518258352,\n",
       "   'lambda_l1': 0.2674183897134913,\n",
       "   'lambda_l2': 1.7850615152059315,\n",
       "   'max_depth': 9.998325676492389,\n",
       "   'min_child_weight': 40.01956056747095,\n",
       "   'min_split_gain': 0.011291759794116722,\n",
       "   'num_leaves': 24.63264150395895}},\n",
       " {'target': -0.3858301887332059,\n",
       "  'params': {'bagging_fraction': 0.987445056039059,\n",
       "   'feature_fraction': 0.8936199602325269,\n",
       "   'lambda_l1': 4.3293616794097876,\n",
       "   'lambda_l2': 2.8800803272870232,\n",
       "   'max_depth': 9.964455587214935,\n",
       "   'min_child_weight': 48.88971003011883,\n",
       "   'min_split_gain': 0.0032912003809377048,\n",
       "   'num_leaves': 29.2902761400291}},\n",
       " {'target': -0.38586354737393047,\n",
       "  'params': {'bagging_fraction': 0.9113152867037199,\n",
       "   'feature_fraction': 0.875375906187728,\n",
       "   'lambda_l1': 0.4234724702867937,\n",
       "   'lambda_l2': 2.46202963794922,\n",
       "   'max_depth': 9.887050589345025,\n",
       "   'min_child_weight': 48.037285344941765,\n",
       "   'min_split_gain': 0.06327686537568233,\n",
       "   'num_leaves': 24.057230596981924}},\n",
       " {'target': -0.3860313699332305,\n",
       "  'params': {'bagging_fraction': 0.9844639525113343,\n",
       "   'feature_fraction': 0.8846560528520229,\n",
       "   'lambda_l1': 0.03991408834347676,\n",
       "   'lambda_l2': 0.6985017911424837,\n",
       "   'max_depth': 9.844152575584786,\n",
       "   'min_child_weight': 44.538915320196,\n",
       "   'min_split_gain': 0.04127260899514386,\n",
       "   'num_leaves': 25.774512759269175}},\n",
       " {'target': -0.3860453603777419,\n",
       "  'params': {'bagging_fraction': 0.8964506743522563,\n",
       "   'feature_fraction': 0.8890856894667091,\n",
       "   'lambda_l1': 0.018780645040384902,\n",
       "   'lambda_l2': 2.9375183242493614,\n",
       "   'max_depth': 9.757642103072234,\n",
       "   'min_child_weight': 42.003180043434895,\n",
       "   'min_split_gain': 0.01407368503075623,\n",
       "   'num_leaves': 41.39769988883295}},\n",
       " {'target': -0.3860785624629661,\n",
       "  'params': {'bagging_fraction': 0.8933546380901711,\n",
       "   'feature_fraction': 0.8971759972113474,\n",
       "   'lambda_l1': 0.1168109197265288,\n",
       "   'lambda_l2': 0.05837181033087091,\n",
       "   'max_depth': 9.735631564314211,\n",
       "   'min_child_weight': 45.5365780851932,\n",
       "   'min_split_gain': 0.009871251327879731,\n",
       "   'num_leaves': 26.94675760379642}},\n",
       " {'target': -0.3863744128830901,\n",
       "  'params': {'bagging_fraction': 0.8120087914947949,\n",
       "   'feature_fraction': 0.8746167331809763,\n",
       "   'lambda_l1': 0.2846510336271907,\n",
       "   'lambda_l2': 0.15242944955137538,\n",
       "   'max_depth': 9.340600525222598,\n",
       "   'min_child_weight': 48.77851641310993,\n",
       "   'min_split_gain': 0.03780932167156402,\n",
       "   'num_leaves': 32.6357974617183}},\n",
       " {'target': -0.38648911248225687,\n",
       "  'params': {'bagging_fraction': 0.8841594752852691,\n",
       "   'feature_fraction': 0.893988627113321,\n",
       "   'lambda_l1': 0.10503565275223059,\n",
       "   'lambda_l2': 2.871628039667164,\n",
       "   'max_depth': 9.298915190099313,\n",
       "   'min_child_weight': 41.99577003710679,\n",
       "   'min_split_gain': 0.033015194317746806,\n",
       "   'num_leaves': 31.627692174425707}},\n",
       " {'target': -0.3867371412182395,\n",
       "  'params': {'bagging_fraction': 0.96400544259495,\n",
       "   'feature_fraction': 0.8991652383326878,\n",
       "   'lambda_l1': 0.5802871462278564,\n",
       "   'lambda_l2': 2.7285209390162097,\n",
       "   'max_depth': 9.748834485896431,\n",
       "   'min_child_weight': 5.188741564202062,\n",
       "   'min_split_gain': 0.04242669621083388,\n",
       "   'num_leaves': 35.59542795269974}},\n",
       " {'target': -0.3867833820904351,\n",
       "  'params': {'bagging_fraction': 0.9210273007237306,\n",
       "   'feature_fraction': 0.8759231359743817,\n",
       "   'lambda_l1': 0.20923324281282074,\n",
       "   'lambda_l2': 2.6673809322576787,\n",
       "   'max_depth': 9.828995153499807,\n",
       "   'min_child_weight': 49.053804699379825,\n",
       "   'min_split_gain': 0.05285841515007555,\n",
       "   'num_leaves': 35.640643095814426}},\n",
       " {'target': -0.38679699938754813,\n",
       "  'params': {'bagging_fraction': 0.907273993065692,\n",
       "   'feature_fraction': 0.790217103850835,\n",
       "   'lambda_l1': 0.4914137842516275,\n",
       "   'lambda_l2': 2.797628443147246,\n",
       "   'max_depth': 9.996443963067101,\n",
       "   'min_child_weight': 48.44435678218986,\n",
       "   'min_split_gain': 0.011447068428940332,\n",
       "   'num_leaves': 44.77858322111179}},\n",
       " {'target': -0.3867974354748334,\n",
       "  'params': {'bagging_fraction': 0.8642337470468937,\n",
       "   'feature_fraction': 0.883384497784344,\n",
       "   'lambda_l1': 0.2621827064113469,\n",
       "   'lambda_l2': 2.916610102963441,\n",
       "   'max_depth': 9.685637167616475,\n",
       "   'min_child_weight': 5.956828379145272,\n",
       "   'min_split_gain': 0.03216048836096532,\n",
       "   'num_leaves': 33.21183887240136}},\n",
       " {'target': -0.38698914814812196,\n",
       "  'params': {'bagging_fraction': 0.94359435637877,\n",
       "   'feature_fraction': 0.898579134547682,\n",
       "   'lambda_l1': 0.8727279210051286,\n",
       "   'lambda_l2': 2.948415366381027,\n",
       "   'max_depth': 9.584774950785325,\n",
       "   'min_child_weight': 37.43716311394115,\n",
       "   'min_split_gain': 0.015707118931495012,\n",
       "   'num_leaves': 25.061591672062566}},\n",
       " {'target': -0.38725058774021454,\n",
       "  'params': {'bagging_fraction': 0.9151892991112359,\n",
       "   'feature_fraction': 0.8434369580609713,\n",
       "   'lambda_l1': 1.5928447622566182,\n",
       "   'lambda_l2': 2.002231139891045,\n",
       "   'max_depth': 5.658989312021961,\n",
       "   'min_child_weight': 37.23472418533545,\n",
       "   'min_split_gain': 0.029651203201772912,\n",
       "   'num_leaves': 27.847018602149454}},\n",
       " {'target': -0.38753664314390374,\n",
       "  'params': {'bagging_fraction': 0.828266986335988,\n",
       "   'feature_fraction': 0.8093853154033833,\n",
       "   'lambda_l1': 3.7427229266919433,\n",
       "   'lambda_l2': 0.19553231814169258,\n",
       "   'max_depth': 9.565294138040501,\n",
       "   'min_child_weight': 48.76665322991344,\n",
       "   'min_split_gain': 0.007951042189870668,\n",
       "   'num_leaves': 24.009313667703257}},\n",
       " {'target': -0.38796233515755274,\n",
       "  'params': {'bagging_fraction': 0.8422812519522762,\n",
       "   'feature_fraction': 0.8459206533197114,\n",
       "   'lambda_l1': 0.12441632756128473,\n",
       "   'lambda_l2': 2.9147571328065656,\n",
       "   'max_depth': 5.635486901769143,\n",
       "   'min_child_weight': 38.761858078358756,\n",
       "   'min_split_gain': 0.05426438487829363,\n",
       "   'num_leaves': 44.528554401636086}},\n",
       " {'target': -0.38847854175235846,\n",
       "  'params': {'bagging_fraction': 0.9678727474165884,\n",
       "   'feature_fraction': 0.8691868162588677,\n",
       "   'lambda_l1': 0.7588820863959994,\n",
       "   'lambda_l2': 0.4869551410888926,\n",
       "   'max_depth': 9.524696167326827,\n",
       "   'min_child_weight': 7.3456403649276645,\n",
       "   'min_split_gain': 0.0444426046267357,\n",
       "   'num_leaves': 24.429095248311217}},\n",
       " {'target': -0.38851605777931986,\n",
       "  'params': {'bagging_fraction': 0.9675686186615926,\n",
       "   'feature_fraction': 0.8896982917776802,\n",
       "   'lambda_l1': 0.05109098705185111,\n",
       "   'lambda_l2': 2.0295208255382837,\n",
       "   'max_depth': 5.691017900615683,\n",
       "   'min_child_weight': 5.159642109139332,\n",
       "   'min_split_gain': 0.05343408261272284,\n",
       "   'num_leaves': 43.57855978023362}},\n",
       " {'target': -0.38852727601452436,\n",
       "  'params': {'bagging_fraction': 0.8236548851737867,\n",
       "   'feature_fraction': 0.6119368170620191,\n",
       "   'lambda_l1': 0.716766437045232,\n",
       "   'lambda_l2': 2.8340067511487517,\n",
       "   'max_depth': 7.6092416087503585,\n",
       "   'min_child_weight': 23.659787299573562,\n",
       "   'min_split_gain': 0.027191005598358072,\n",
       "   'num_leaves': 40.25890747811855}},\n",
       " {'target': -0.3885389229622706,\n",
       "  'params': {'bagging_fraction': 0.9365565841681698,\n",
       "   'feature_fraction': 0.8723599626575432,\n",
       "   'lambda_l1': 0.03234799821231038,\n",
       "   'lambda_l2': 0.07672683538530212,\n",
       "   'max_depth': 6.7411535016943915,\n",
       "   'min_child_weight': 5.167732863842382,\n",
       "   'min_split_gain': 0.05597944236629941,\n",
       "   'num_leaves': 24.769945863062066}},\n",
       " {'target': -0.38861252166979304,\n",
       "  'params': {'bagging_fraction': 0.9173623521748909,\n",
       "   'feature_fraction': 0.8360782310966371,\n",
       "   'lambda_l1': 0.22273548894200024,\n",
       "   'lambda_l2': 2.9049232023717284,\n",
       "   'max_depth': 5.369768379176439,\n",
       "   'min_child_weight': 48.940789136080824,\n",
       "   'min_split_gain': 0.04045434511261392,\n",
       "   'num_leaves': 38.76708247982962}},\n",
       " {'target': -0.3891072696020806,\n",
       "  'params': {'bagging_fraction': 0.8040436794880652,\n",
       "   'feature_fraction': 0.7660958764383504,\n",
       "   'lambda_l1': 3.8907837547492523,\n",
       "   'lambda_l2': 2.6100364447404574,\n",
       "   'max_depth': 9.89309171116382,\n",
       "   'min_child_weight': 40.96213538975256,\n",
       "   'min_split_gain': 0.04668645686304026,\n",
       "   'num_leaves': 40.39111270201556}},\n",
       " {'target': -0.38918480756878937,\n",
       "  'params': {'bagging_fraction': 0.9938149473784841,\n",
       "   'feature_fraction': 0.8419403707173293,\n",
       "   'lambda_l1': 0.2588305818977049,\n",
       "   'lambda_l2': 2.7479022839703102,\n",
       "   'max_depth': 5.165189250154406,\n",
       "   'min_child_weight': 16.172937294283177,\n",
       "   'min_split_gain': 0.042585321730409985,\n",
       "   'num_leaves': 36.46758843496998}},\n",
       " {'target': -0.38920460338788176,\n",
       "  'params': {'bagging_fraction': 0.909762700785465,\n",
       "   'feature_fraction': 0.6721514930979355,\n",
       "   'lambda_l1': 3.0138168803582195,\n",
       "   'lambda_l2': 1.6346495489906907,\n",
       "   'max_depth': 7.118273996694524,\n",
       "   'min_child_weight': 34.065235087999525,\n",
       "   'min_split_gain': 0.04432113391500656,\n",
       "   'num_leaves': 42.727233016423675}},\n",
       " {'target': -0.38951641330204406,\n",
       "  'params': {'bagging_fraction': 0.8236023078225821,\n",
       "   'feature_fraction': 0.8937358416799989,\n",
       "   'lambda_l1': 4.985008964041277,\n",
       "   'lambda_l2': 2.9883075259807375,\n",
       "   'max_depth': 9.676757355383003,\n",
       "   'min_child_weight': 31.461345044354953,\n",
       "   'min_split_gain': 0.060196572719756834,\n",
       "   'num_leaves': 24.472169201316127}},\n",
       " {'target': -0.3897440842718453,\n",
       "  'params': {'bagging_fraction': 0.8218462901061384,\n",
       "   'feature_fraction': 0.8752403853327583,\n",
       "   'lambda_l1': 3.7666695679503945,\n",
       "   'lambda_l2': 0.0639732227706531,\n",
       "   'max_depth': 5.581744443241742,\n",
       "   'min_child_weight': 48.30027421124234,\n",
       "   'min_split_gain': 0.08838127681598192,\n",
       "   'num_leaves': 24.56906698774787}},\n",
       " {'target': -0.3899114179252918,\n",
       "  'params': {'bagging_fraction': 0.9953522176380674,\n",
       "   'feature_fraction': 0.5838764157960368,\n",
       "   'lambda_l1': 3.6963178969915083,\n",
       "   'lambda_l2': 0.11756337676296202,\n",
       "   'max_depth': 6.414034812882048,\n",
       "   'min_child_weight': 10.4088452545926,\n",
       "   'min_split_gain': 0.03031787955469235,\n",
       "   'num_leaves': 26.493282098039124}},\n",
       " {'target': -0.39035070947108047,\n",
       "  'params': {'bagging_fraction': 0.9927325521002058,\n",
       "   'feature_fraction': 0.40675321506062223,\n",
       "   'lambda_l1': 3.958625190413323,\n",
       "   'lambda_l2': 1.5866847592587134,\n",
       "   'max_depth': 7.840222805469661,\n",
       "   'min_child_weight': 46.65184872316975,\n",
       "   'min_split_gain': 0.008032569761590808,\n",
       "   'num_leaves': 25.829715293732356}},\n",
       " {'target': -0.39047200106321495,\n",
       "  'params': {'bagging_fraction': 0.8719015801147573,\n",
       "   'feature_fraction': 0.4496255630394732,\n",
       "   'lambda_l1': 3.4881559796363244,\n",
       "   'lambda_l2': 0.1806764148878095,\n",
       "   'max_depth': 8.333833577228338,\n",
       "   'min_child_weight': 35.178704132817174,\n",
       "   'min_split_gain': 0.02182787354631025,\n",
       "   'num_leaves': 26.70745225075192}},\n",
       " {'target': -0.3906544417063141,\n",
       "  'params': {'bagging_fraction': 0.8678294702639751,\n",
       "   'feature_fraction': 0.8886988339259476,\n",
       "   'lambda_l1': 4.562324498745286,\n",
       "   'lambda_l2': 2.949138581738202,\n",
       "   'max_depth': 6.328143250768452,\n",
       "   'min_child_weight': 7.762331196278801,\n",
       "   'min_split_gain': 0.0967024903278279,\n",
       "   'num_leaves': 24.899306698752863}},\n",
       " {'target': -0.39083253498033604,\n",
       "  'params': {'bagging_fraction': 0.8912300664433097,\n",
       "   'feature_fraction': 0.5547471590949188,\n",
       "   'lambda_l1': 0.09394900218177571,\n",
       "   'lambda_l2': 1.8529064912276312,\n",
       "   'max_depth': 8.060478613612107,\n",
       "   'min_child_weight': 32.76202985936406,\n",
       "   'min_split_gain': 0.0944310597729478,\n",
       "   'num_leaves': 38.31822628117315}},\n",
       " {'target': -0.39088434028463603,\n",
       "  'params': {'bagging_fraction': 0.8497506287039917,\n",
       "   'feature_fraction': 0.5609258675342695,\n",
       "   'lambda_l1': 2.9602096563591953,\n",
       "   'lambda_l2': 1.71675571737262,\n",
       "   'max_depth': 6.115408163203091,\n",
       "   'min_child_weight': 47.87370551826432,\n",
       "   'min_split_gain': 0.04526541248314511,\n",
       "   'num_leaves': 41.77458212189369}},\n",
       " {'target': -0.3921021080363951,\n",
       "  'params': {'bagging_fraction': 0.8630856701848368,\n",
       "   'feature_fraction': 0.3909686167540981,\n",
       "   'lambda_l1': 2.8509838520893984,\n",
       "   'lambda_l2': 1.315804540386961,\n",
       "   'max_depth': 9.941869190296131,\n",
       "   'min_child_weight': 9.592016483661263,\n",
       "   'min_split_gain': 0.021678798853388637,\n",
       "   'num_leaves': 27.387499875584922}},\n",
       " {'target': -0.3922644477823916,\n",
       "  'params': {'bagging_fraction': 0.8635966358787952,\n",
       "   'feature_fraction': 0.431410395611736,\n",
       "   'lambda_l1': 0.3207374817439218,\n",
       "   'lambda_l2': 2.0774163581100593,\n",
       "   'max_depth': 7.8330072710328755,\n",
       "   'min_child_weight': 16.942527092275043,\n",
       "   'min_split_gain': 0.05280155729320327,\n",
       "   'num_leaves': 25.972750725927277}},\n",
       " {'target': -0.3963829042183415,\n",
       "  'params': {'bagging_fraction': 0.8393164723360107,\n",
       "   'feature_fraction': 0.3949801365287713,\n",
       "   'lambda_l1': 4.104966149239676,\n",
       "   'lambda_l2': 0.2913038273791838,\n",
       "   'max_depth': 9.189724537494019,\n",
       "   'min_child_weight': 9.324428355228338,\n",
       "   'min_split_gain': 0.09766948703632619,\n",
       "   'num_leaves': 33.84167523460174}},\n",
       " {'target': -0.39638808884769633,\n",
       "  'params': {'bagging_fraction': 0.9306216650930796,\n",
       "   'feature_fraction': 0.3026332820318257,\n",
       "   'lambda_l1': 2.331553864281531,\n",
       "   'lambda_l2': 0.7332767760048082,\n",
       "   'max_depth': 5.794847918227599,\n",
       "   'min_child_weight': 9.966881352393731,\n",
       "   'min_split_gain': 0.06597662935706207,\n",
       "   'num_leaves': 26.90184197832089}},\n",
       " {'target': -0.39851199929427494,\n",
       "  'params': {'bagging_fraction': 0.9398958550635008,\n",
       "   'feature_fraction': 0.337949560684107,\n",
       "   'lambda_l1': 4.068989098512386,\n",
       "   'lambda_l2': 1.189517222540954,\n",
       "   'max_depth': 9.405515985555809,\n",
       "   'min_child_weight': 31.157279268613642,\n",
       "   'min_split_gain': 0.08829180082363043,\n",
       "   'num_leaves': 38.54316339163309}},\n",
       " {'target': -0.40517594940003615,\n",
       "  'params': {'bagging_fraction': 0.9173025869620166,\n",
       "   'feature_fraction': 0.11608603694999485,\n",
       "   'lambda_l1': 4.144700146086816,\n",
       "   'lambda_l2': 0.014086428577641197,\n",
       "   'max_depth': 8.389082683981151,\n",
       "   'min_child_weight': 17.15035879364742,\n",
       "   'min_split_gain': 0.0737842081901369,\n",
       "   'num_leaves': 44.2059594474662}}]"
      ]
     },
     "execution_count": 5,
     "metadata": {},
     "output_type": "execute_result"
    }
   ],
   "source": [
    "sorted(opt_params.res, key = lambda x: -x['target'])"
   ]
  }
 ],
 "metadata": {
  "kernelspec": {
   "display_name": "Python 3",
   "language": "python",
   "name": "python3"
  },
  "language_info": {
   "codemirror_mode": {
    "name": "ipython",
    "version": 3
   },
   "file_extension": ".py",
   "mimetype": "text/x-python",
   "name": "python",
   "nbconvert_exporter": "python",
   "pygments_lexer": "ipython3",
   "version": "3.6.8"
  }
 },
 "nbformat": 4,
 "nbformat_minor": 2
}
