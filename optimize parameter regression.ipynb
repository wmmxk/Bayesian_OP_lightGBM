{
 "cells": [
  {
   "cell_type": "code",
   "execution_count": 1,
   "metadata": {
    "scrolled": false
   },
   "outputs": [
    {
     "name": "stdout",
     "output_type": "stream",
     "text": [
      "[1]\tvalid_0's l1: 0.496232\n",
      "Training until validation scores don't improve for 10 rounds.\n",
      "[2]\tvalid_0's l1: 0.494701\n",
      "[3]\tvalid_0's l1: 0.493282\n",
      "[4]\tvalid_0's l1: 0.492212\n",
      "[5]\tvalid_0's l1: 0.490486\n",
      "[6]\tvalid_0's l1: 0.488977\n",
      "[7]\tvalid_0's l1: 0.48754\n",
      "[8]\tvalid_0's l1: 0.486135\n",
      "[9]\tvalid_0's l1: 0.48488\n",
      "[10]\tvalid_0's l1: 0.483417\n",
      "[11]\tvalid_0's l1: 0.482388\n",
      "[12]\tvalid_0's l1: 0.480743\n",
      "[13]\tvalid_0's l1: 0.480059\n",
      "[14]\tvalid_0's l1: 0.478711\n",
      "[15]\tvalid_0's l1: 0.477369\n",
      "[16]\tvalid_0's l1: 0.476113\n",
      "[17]\tvalid_0's l1: 0.474724\n",
      "[18]\tvalid_0's l1: 0.473703\n",
      "[19]\tvalid_0's l1: 0.472454\n",
      "[20]\tvalid_0's l1: 0.471162\n",
      "[21]\tvalid_0's l1: 0.469788\n",
      "[22]\tvalid_0's l1: 0.468557\n",
      "[23]\tvalid_0's l1: 0.46733\n",
      "[24]\tvalid_0's l1: 0.465964\n",
      "[25]\tvalid_0's l1: 0.465133\n",
      "[26]\tvalid_0's l1: 0.463945\n",
      "[27]\tvalid_0's l1: 0.462769\n",
      "[28]\tvalid_0's l1: 0.4614\n",
      "[29]\tvalid_0's l1: 0.460348\n",
      "[30]\tvalid_0's l1: 0.459473\n",
      "[31]\tvalid_0's l1: 0.458381\n",
      "[32]\tvalid_0's l1: 0.457143\n",
      "[33]\tvalid_0's l1: 0.455867\n",
      "[34]\tvalid_0's l1: 0.454575\n",
      "[35]\tvalid_0's l1: 0.453425\n",
      "[36]\tvalid_0's l1: 0.452646\n",
      "[37]\tvalid_0's l1: 0.451597\n",
      "[38]\tvalid_0's l1: 0.450554\n",
      "[39]\tvalid_0's l1: 0.449362\n",
      "[40]\tvalid_0's l1: 0.448309\n",
      "[41]\tvalid_0's l1: 0.447336\n",
      "[42]\tvalid_0's l1: 0.446382\n",
      "[43]\tvalid_0's l1: 0.445813\n",
      "[44]\tvalid_0's l1: 0.444833\n",
      "[45]\tvalid_0's l1: 0.443652\n",
      "[46]\tvalid_0's l1: 0.442569\n",
      "[47]\tvalid_0's l1: 0.441638\n",
      "[48]\tvalid_0's l1: 0.440677\n",
      "[49]\tvalid_0's l1: 0.439773\n",
      "[50]\tvalid_0's l1: 0.438746\n",
      "[51]\tvalid_0's l1: 0.437932\n",
      "[52]\tvalid_0's l1: 0.436912\n",
      "[53]\tvalid_0's l1: 0.436034\n",
      "[54]\tvalid_0's l1: 0.435632\n",
      "[55]\tvalid_0's l1: 0.434807\n",
      "[56]\tvalid_0's l1: 0.433921\n",
      "[57]\tvalid_0's l1: 0.433132\n",
      "[58]\tvalid_0's l1: 0.43239\n",
      "[59]\tvalid_0's l1: 0.431557\n",
      "[60]\tvalid_0's l1: 0.43078\n",
      "[61]\tvalid_0's l1: 0.429892\n",
      "[62]\tvalid_0's l1: 0.429129\n",
      "[63]\tvalid_0's l1: 0.428296\n",
      "[64]\tvalid_0's l1: 0.42779\n",
      "[65]\tvalid_0's l1: 0.4269\n",
      "[66]\tvalid_0's l1: 0.426016\n",
      "[67]\tvalid_0's l1: 0.425117\n",
      "[68]\tvalid_0's l1: 0.42435\n",
      "[69]\tvalid_0's l1: 0.423492\n",
      "[70]\tvalid_0's l1: 0.422732\n",
      "[71]\tvalid_0's l1: 0.421947\n",
      "[72]\tvalid_0's l1: 0.421322\n",
      "[73]\tvalid_0's l1: 0.420574\n",
      "[74]\tvalid_0's l1: 0.419762\n",
      "[75]\tvalid_0's l1: 0.419101\n",
      "[76]\tvalid_0's l1: 0.418434\n",
      "[77]\tvalid_0's l1: 0.417958\n",
      "[78]\tvalid_0's l1: 0.41747\n",
      "[79]\tvalid_0's l1: 0.416922\n",
      "[80]\tvalid_0's l1: 0.416356\n",
      "[81]\tvalid_0's l1: 0.415607\n",
      "[82]\tvalid_0's l1: 0.414894\n",
      "[83]\tvalid_0's l1: 0.414311\n",
      "[84]\tvalid_0's l1: 0.413562\n",
      "[85]\tvalid_0's l1: 0.412915\n",
      "[86]\tvalid_0's l1: 0.41223\n",
      "[87]\tvalid_0's l1: 0.41159\n",
      "[88]\tvalid_0's l1: 0.410905\n",
      "[89]\tvalid_0's l1: 0.410106\n",
      "[90]\tvalid_0's l1: 0.40939\n",
      "[91]\tvalid_0's l1: 0.408689\n",
      "[92]\tvalid_0's l1: 0.408027\n",
      "[93]\tvalid_0's l1: 0.407488\n",
      "[94]\tvalid_0's l1: 0.406883\n",
      "[95]\tvalid_0's l1: 0.406306\n",
      "[96]\tvalid_0's l1: 0.405952\n",
      "[97]\tvalid_0's l1: 0.405403\n",
      "[98]\tvalid_0's l1: 0.404829\n",
      "[99]\tvalid_0's l1: 0.404289\n",
      "[100]\tvalid_0's l1: 0.403553\n",
      "[101]\tvalid_0's l1: 0.403023\n",
      "[102]\tvalid_0's l1: 0.402422\n",
      "[103]\tvalid_0's l1: 0.401993\n",
      "[104]\tvalid_0's l1: 0.401371\n",
      "[105]\tvalid_0's l1: 0.400772\n",
      "[106]\tvalid_0's l1: 0.400173\n",
      "[107]\tvalid_0's l1: 0.399572\n",
      "[108]\tvalid_0's l1: 0.399039\n",
      "[109]\tvalid_0's l1: 0.398479\n",
      "[110]\tvalid_0's l1: 0.397876\n",
      "[111]\tvalid_0's l1: 0.397383\n",
      "[112]\tvalid_0's l1: 0.396933\n",
      "[113]\tvalid_0's l1: 0.396381\n",
      "[114]\tvalid_0's l1: 0.395942\n",
      "[115]\tvalid_0's l1: 0.395579\n",
      "[116]\tvalid_0's l1: 0.395019\n",
      "[117]\tvalid_0's l1: 0.394418\n",
      "[118]\tvalid_0's l1: 0.39397\n",
      "[119]\tvalid_0's l1: 0.393412\n",
      "[120]\tvalid_0's l1: 0.392823\n",
      "[121]\tvalid_0's l1: 0.392336\n",
      "[122]\tvalid_0's l1: 0.391909\n",
      "[123]\tvalid_0's l1: 0.391378\n",
      "[124]\tvalid_0's l1: 0.390917\n",
      "[125]\tvalid_0's l1: 0.390458\n",
      "[126]\tvalid_0's l1: 0.390055\n",
      "[127]\tvalid_0's l1: 0.38963\n",
      "[128]\tvalid_0's l1: 0.389087\n",
      "[129]\tvalid_0's l1: 0.388678\n",
      "[130]\tvalid_0's l1: 0.388255\n",
      "[131]\tvalid_0's l1: 0.387778\n",
      "[132]\tvalid_0's l1: 0.387345\n",
      "[133]\tvalid_0's l1: 0.386917\n",
      "[134]\tvalid_0's l1: 0.386524\n",
      "[135]\tvalid_0's l1: 0.385978\n",
      "[136]\tvalid_0's l1: 0.385649\n",
      "[137]\tvalid_0's l1: 0.385095\n",
      "[138]\tvalid_0's l1: 0.384717\n",
      "[139]\tvalid_0's l1: 0.384278\n",
      "[140]\tvalid_0's l1: 0.383879\n",
      "[141]\tvalid_0's l1: 0.3834\n",
      "[142]\tvalid_0's l1: 0.383017\n",
      "[143]\tvalid_0's l1: 0.382679\n",
      "[144]\tvalid_0's l1: 0.382338\n",
      "[145]\tvalid_0's l1: 0.381963\n",
      "[146]\tvalid_0's l1: 0.381643\n",
      "[147]\tvalid_0's l1: 0.381264\n",
      "[148]\tvalid_0's l1: 0.380868\n",
      "[149]\tvalid_0's l1: 0.380497\n",
      "[150]\tvalid_0's l1: 0.380233\n",
      "[151]\tvalid_0's l1: 0.379838\n",
      "[152]\tvalid_0's l1: 0.379557\n",
      "[153]\tvalid_0's l1: 0.379123\n",
      "[154]\tvalid_0's l1: 0.378617\n",
      "[155]\tvalid_0's l1: 0.378367\n",
      "[156]\tvalid_0's l1: 0.37803\n",
      "[157]\tvalid_0's l1: 0.377734\n",
      "[158]\tvalid_0's l1: 0.37743\n",
      "[159]\tvalid_0's l1: 0.377174\n",
      "[160]\tvalid_0's l1: 0.376875\n",
      "[161]\tvalid_0's l1: 0.376506\n",
      "[162]\tvalid_0's l1: 0.376151\n",
      "[163]\tvalid_0's l1: 0.375826\n",
      "[164]\tvalid_0's l1: 0.375515\n",
      "[165]\tvalid_0's l1: 0.375208\n",
      "[166]\tvalid_0's l1: 0.37496\n",
      "[167]\tvalid_0's l1: 0.374558\n",
      "[168]\tvalid_0's l1: 0.374159\n",
      "[169]\tvalid_0's l1: 0.373809\n",
      "[170]\tvalid_0's l1: 0.373434\n",
      "[171]\tvalid_0's l1: 0.372963\n",
      "[172]\tvalid_0's l1: 0.372696\n",
      "[173]\tvalid_0's l1: 0.372285\n",
      "[174]\tvalid_0's l1: 0.372019\n",
      "[175]\tvalid_0's l1: 0.37178\n",
      "[176]\tvalid_0's l1: 0.371492\n",
      "[177]\tvalid_0's l1: 0.371221\n",
      "[178]\tvalid_0's l1: 0.37083\n",
      "[179]\tvalid_0's l1: 0.370559\n",
      "[180]\tvalid_0's l1: 0.37029\n",
      "[181]\tvalid_0's l1: 0.370151\n",
      "[182]\tvalid_0's l1: 0.369824\n",
      "[183]\tvalid_0's l1: 0.369619\n",
      "[184]\tvalid_0's l1: 0.369457\n",
      "[185]\tvalid_0's l1: 0.369324\n",
      "[186]\tvalid_0's l1: 0.368938\n",
      "[187]\tvalid_0's l1: 0.36875\n",
      "[188]\tvalid_0's l1: 0.3685\n",
      "[189]\tvalid_0's l1: 0.368344\n",
      "[190]\tvalid_0's l1: 0.367988\n",
      "[191]\tvalid_0's l1: 0.367733\n",
      "[192]\tvalid_0's l1: 0.367529\n",
      "[193]\tvalid_0's l1: 0.367263\n",
      "[194]\tvalid_0's l1: 0.367079\n",
      "[195]\tvalid_0's l1: 0.366945\n",
      "[196]\tvalid_0's l1: 0.366705\n",
      "[197]\tvalid_0's l1: 0.366416\n",
      "[198]\tvalid_0's l1: 0.36615\n",
      "[199]\tvalid_0's l1: 0.366048\n",
      "[200]\tvalid_0's l1: 0.365799\n",
      "[201]\tvalid_0's l1: 0.365593\n",
      "[202]\tvalid_0's l1: 0.365312\n",
      "[203]\tvalid_0's l1: 0.365138\n",
      "[204]\tvalid_0's l1: 0.365021\n",
      "[205]\tvalid_0's l1: 0.364858\n",
      "[206]\tvalid_0's l1: 0.364592\n",
      "[207]\tvalid_0's l1: 0.364252\n",
      "[208]\tvalid_0's l1: 0.363996\n",
      "[209]\tvalid_0's l1: 0.363833\n",
      "[210]\tvalid_0's l1: 0.363637\n",
      "[211]\tvalid_0's l1: 0.363417\n",
      "[212]\tvalid_0's l1: 0.363287\n",
      "[213]\tvalid_0's l1: 0.363051\n",
      "[214]\tvalid_0's l1: 0.362905\n",
      "[215]\tvalid_0's l1: 0.362732\n",
      "[216]\tvalid_0's l1: 0.362481\n",
      "[217]\tvalid_0's l1: 0.362303\n",
      "[218]\tvalid_0's l1: 0.362159\n",
      "[219]\tvalid_0's l1: 0.361875\n",
      "[220]\tvalid_0's l1: 0.361758\n",
      "[221]\tvalid_0's l1: 0.361577\n",
      "[222]\tvalid_0's l1: 0.361276\n",
      "[223]\tvalid_0's l1: 0.361015\n",
      "[224]\tvalid_0's l1: 0.360778\n",
      "[225]\tvalid_0's l1: 0.360642\n",
      "[226]\tvalid_0's l1: 0.360372\n",
      "[227]\tvalid_0's l1: 0.360251\n",
      "[228]\tvalid_0's l1: 0.360057\n",
      "[229]\tvalid_0's l1: 0.359903\n",
      "[230]\tvalid_0's l1: 0.359768\n",
      "[231]\tvalid_0's l1: 0.359664\n",
      "[232]\tvalid_0's l1: 0.359426\n",
      "[233]\tvalid_0's l1: 0.359234\n",
      "[234]\tvalid_0's l1: 0.358988\n",
      "[235]\tvalid_0's l1: 0.358842\n",
      "[236]\tvalid_0's l1: 0.358747\n",
      "[237]\tvalid_0's l1: 0.358562\n",
      "[238]\tvalid_0's l1: 0.358316\n",
      "[239]\tvalid_0's l1: 0.358156\n",
      "[240]\tvalid_0's l1: 0.357955\n",
      "[241]\tvalid_0's l1: 0.357777\n",
      "[242]\tvalid_0's l1: 0.3576\n",
      "[243]\tvalid_0's l1: 0.357351\n",
      "[244]\tvalid_0's l1: 0.35725\n",
      "[245]\tvalid_0's l1: 0.357139\n",
      "[246]\tvalid_0's l1: 0.356957\n",
      "[247]\tvalid_0's l1: 0.356744\n",
      "[248]\tvalid_0's l1: 0.356484\n",
      "[249]\tvalid_0's l1: 0.356322\n",
      "[250]\tvalid_0's l1: 0.356198\n",
      "[251]\tvalid_0's l1: 0.356057\n",
      "[252]\tvalid_0's l1: 0.355874\n",
      "[253]\tvalid_0's l1: 0.355665\n",
      "[254]\tvalid_0's l1: 0.355575\n",
      "[255]\tvalid_0's l1: 0.355314\n",
      "[256]\tvalid_0's l1: 0.355119\n",
      "[257]\tvalid_0's l1: 0.354876\n",
      "[258]\tvalid_0's l1: 0.354643\n",
      "[259]\tvalid_0's l1: 0.354491\n",
      "[260]\tvalid_0's l1: 0.354314\n",
      "[261]\tvalid_0's l1: 0.354266\n",
      "[262]\tvalid_0's l1: 0.354073\n",
      "[263]\tvalid_0's l1: 0.353863\n",
      "[264]\tvalid_0's l1: 0.353724\n",
      "[265]\tvalid_0's l1: 0.353557\n",
      "[266]\tvalid_0's l1: 0.353463\n",
      "[267]\tvalid_0's l1: 0.35328\n",
      "[268]\tvalid_0's l1: 0.353187\n",
      "[269]\tvalid_0's l1: 0.353001\n",
      "[270]\tvalid_0's l1: 0.352915\n",
      "[271]\tvalid_0's l1: 0.352771\n",
      "[272]\tvalid_0's l1: 0.352532\n",
      "[273]\tvalid_0's l1: 0.352419\n",
      "[274]\tvalid_0's l1: 0.352182\n",
      "[275]\tvalid_0's l1: 0.352051\n",
      "[276]\tvalid_0's l1: 0.351853\n",
      "[277]\tvalid_0's l1: 0.35173\n",
      "[278]\tvalid_0's l1: 0.351646\n",
      "[279]\tvalid_0's l1: 0.351516\n",
      "[280]\tvalid_0's l1: 0.35132\n",
      "[281]\tvalid_0's l1: 0.351233\n",
      "[282]\tvalid_0's l1: 0.351083\n",
      "[283]\tvalid_0's l1: 0.35095\n",
      "[284]\tvalid_0's l1: 0.350727\n",
      "[285]\tvalid_0's l1: 0.350545\n",
      "[286]\tvalid_0's l1: 0.350326\n",
      "[287]\tvalid_0's l1: 0.350193\n",
      "[288]\tvalid_0's l1: 0.350005\n",
      "[289]\tvalid_0's l1: 0.349919\n",
      "[290]\tvalid_0's l1: 0.349826\n",
      "[291]\tvalid_0's l1: 0.349643\n",
      "[292]\tvalid_0's l1: 0.34943\n"
     ]
    },
    {
     "name": "stdout",
     "output_type": "stream",
     "text": [
      "[293]\tvalid_0's l1: 0.349278\n",
      "[294]\tvalid_0's l1: 0.349078\n",
      "[295]\tvalid_0's l1: 0.34893\n",
      "[296]\tvalid_0's l1: 0.348836\n",
      "[297]\tvalid_0's l1: 0.348658\n",
      "[298]\tvalid_0's l1: 0.348423\n",
      "[299]\tvalid_0's l1: 0.348304\n",
      "[300]\tvalid_0's l1: 0.348182\n",
      "Did not meet early stopping. Best iteration is:\n",
      "[300]\tvalid_0's l1: 0.348182\n",
      "the shape of y_pred (7000,)\n",
      "the shape of y_truth (7000,)\n",
      "5612\n"
     ]
    }
   ],
   "source": [
    "import lightgbm as lgb\n",
    "import pandas as pd\n",
    "import numpy as np\n",
    "from bayes_opt import BayesianOptimization\n",
    "\n",
    "df_train = pd.read_csv(\"./regression.train\", header=None, sep=\"\\t\")\n",
    "y = df_train[0]\n",
    "X = df_train.drop(0, axis=1)\n",
    "\n",
    "\n",
    "df_test = pd.read_csv(\"./regression.test\", header=None, sep=\"\\t\")\n",
    "y_test = df_train[0]\n",
    "X_test = df_train.drop(0, axis=1)\n",
    "\n",
    "train_data = lgb.Dataset(data=X, label=y)\n",
    "lgb_eval = lgb.Dataset(X_test, y_test, reference=train_data)\n",
    "\n",
    "params = {'boosting_type': 'gbdt',\n",
    "          'objective': 'regression',\n",
    "          'metric': {'mae'},\n",
    "         'num_leaves': 24,\n",
    "        'feature_fraction': 0.7,\n",
    "        'bagging_fraction': 0.85,\n",
    "        'max_depth': 5,\n",
    "         'learning_rate': 0.02,\n",
    "        'lambda_l1': 1,\n",
    "        'lambda_l2': 1,\n",
    "        'min_split_gain': 0.01,\n",
    "        'min_child_weight': 10}\n",
    "\n",
    "gbm = lgb.train(params, train_data, num_boost_round=300, valid_sets=lgb_eval, early_stopping_rounds=10)\n",
    "\n",
    "y_pred = gbm.predict(X_test, num_iteration=gbm.best_iteration)\n",
    "print(\"the shape of y_pred\", y_pred.shape)\n",
    "print(\"the shape of y_truth\", y_test.shape)\n",
    "print(sum((y_pred > 0.5) == y_test))\n",
    "                                    "
   ]
  },
  {
   "cell_type": "code",
   "execution_count": 2,
   "metadata": {},
   "outputs": [],
   "source": [
    "gbm = lgb.cv(params, train_data, nfold=3)"
   ]
  },
  {
   "cell_type": "code",
   "execution_count": 3,
   "metadata": {},
   "outputs": [
    {
     "name": "stdout",
     "output_type": "stream",
     "text": [
      "|   iter    |  target   | baggin... | featur... | lambda_l1 | lambda_l2 | max_depth | min_ch... | min_sp... | num_le... |\n",
      "-------------------------------------------------------------------------------------------------------------------------\n"
     ]
    },
    {
     "name": "stderr",
     "output_type": "stream",
     "text": [
      "/home/wxk/anaconda3/envs/whale/lib/python3.6/site-packages/lightgbm/engine.py:430: UserWarning: Found `num_iterations` in params. Will use it instead of argument\n",
      "  warnings.warn(\"Found `{}` in params. Will use it instead of argument\".format(alias))\n",
      "/home/wxk/anaconda3/envs/whale/lib/python3.6/site-packages/lightgbm/engine.py:435: UserWarning: Found `early_stopping_round` in params. Will use it instead of argument\n",
      "  warnings.warn(\"Found `{}` in params. Will use it instead of argument\".format(alias))\n"
     ]
    },
    {
     "name": "stdout",
     "output_type": "stream",
     "text": [
      "| \u001b[0m 1       \u001b[0m | \u001b[0m-0.3892  \u001b[0m | \u001b[0m 0.9098  \u001b[0m | \u001b[0m 0.6722  \u001b[0m | \u001b[0m 3.014   \u001b[0m | \u001b[0m 1.635   \u001b[0m | \u001b[0m 7.118   \u001b[0m | \u001b[0m 34.07   \u001b[0m | \u001b[0m 0.04432 \u001b[0m | \u001b[0m 42.73   \u001b[0m |\n"
     ]
    },
    {
     "name": "stderr",
     "output_type": "stream",
     "text": [
      "/home/wxk/anaconda3/envs/whale/lib/python3.6/site-packages/lightgbm/engine.py:430: UserWarning: Found `num_iterations` in params. Will use it instead of argument\n",
      "  warnings.warn(\"Found `{}` in params. Will use it instead of argument\".format(alias))\n",
      "/home/wxk/anaconda3/envs/whale/lib/python3.6/site-packages/lightgbm/engine.py:435: UserWarning: Found `early_stopping_round` in params. Will use it instead of argument\n",
      "  warnings.warn(\"Found `{}` in params. Will use it instead of argument\".format(alias))\n"
     ]
    },
    {
     "name": "stdout",
     "output_type": "stream",
     "text": [
      "| \u001b[0m 2       \u001b[0m | \u001b[0m-0.3904  \u001b[0m | \u001b[0m 0.9927  \u001b[0m | \u001b[0m 0.4068  \u001b[0m | \u001b[0m 3.959   \u001b[0m | \u001b[0m 1.587   \u001b[0m | \u001b[0m 7.84    \u001b[0m | \u001b[0m 46.65   \u001b[0m | \u001b[0m 0.008033\u001b[0m | \u001b[0m 25.83   \u001b[0m |\n"
     ]
    },
    {
     "name": "stderr",
     "output_type": "stream",
     "text": [
      "/home/wxk/anaconda3/envs/whale/lib/python3.6/site-packages/lightgbm/engine.py:430: UserWarning: Found `num_iterations` in params. Will use it instead of argument\n",
      "  warnings.warn(\"Found `{}` in params. Will use it instead of argument\".format(alias))\n",
      "/home/wxk/anaconda3/envs/whale/lib/python3.6/site-packages/lightgbm/engine.py:435: UserWarning: Found `early_stopping_round` in params. Will use it instead of argument\n",
      "  warnings.warn(\"Found `{}` in params. Will use it instead of argument\".format(alias))\n"
     ]
    },
    {
     "name": "stdout",
     "output_type": "stream",
     "text": [
      "| \u001b[95m 3       \u001b[0m | \u001b[95m-0.3891  \u001b[0m | \u001b[95m 0.804   \u001b[0m | \u001b[95m 0.7661  \u001b[0m | \u001b[95m 3.891   \u001b[0m | \u001b[95m 2.61    \u001b[0m | \u001b[95m 9.893   \u001b[0m | \u001b[95m 40.96   \u001b[0m | \u001b[95m 0.04669 \u001b[0m | \u001b[95m 40.39   \u001b[0m |\n"
     ]
    },
    {
     "name": "stderr",
     "output_type": "stream",
     "text": [
      "/home/wxk/anaconda3/envs/whale/lib/python3.6/site-packages/lightgbm/engine.py:430: UserWarning: Found `num_iterations` in params. Will use it instead of argument\n",
      "  warnings.warn(\"Found `{}` in params. Will use it instead of argument\".format(alias))\n",
      "/home/wxk/anaconda3/envs/whale/lib/python3.6/site-packages/lightgbm/engine.py:435: UserWarning: Found `early_stopping_round` in params. Will use it instead of argument\n",
      "  warnings.warn(\"Found `{}` in params. Will use it instead of argument\".format(alias))\n"
     ]
    },
    {
     "name": "stdout",
     "output_type": "stream",
     "text": [
      "| \u001b[95m 4       \u001b[0m | \u001b[95m-0.3885  \u001b[0m | \u001b[95m 0.8237  \u001b[0m | \u001b[95m 0.6119  \u001b[0m | \u001b[95m 0.7168  \u001b[0m | \u001b[95m 2.834   \u001b[0m | \u001b[95m 7.609   \u001b[0m | \u001b[95m 23.66   \u001b[0m | \u001b[95m 0.02719 \u001b[0m | \u001b[95m 40.26   \u001b[0m |\n"
     ]
    },
    {
     "name": "stderr",
     "output_type": "stream",
     "text": [
      "/home/wxk/anaconda3/envs/whale/lib/python3.6/site-packages/lightgbm/engine.py:430: UserWarning: Found `num_iterations` in params. Will use it instead of argument\n",
      "  warnings.warn(\"Found `{}` in params. Will use it instead of argument\".format(alias))\n",
      "/home/wxk/anaconda3/envs/whale/lib/python3.6/site-packages/lightgbm/engine.py:435: UserWarning: Found `early_stopping_round` in params. Will use it instead of argument\n",
      "  warnings.warn(\"Found `{}` in params. Will use it instead of argument\".format(alias))\n"
     ]
    },
    {
     "name": "stdout",
     "output_type": "stream",
     "text": [
      "| \u001b[0m 5       \u001b[0m | \u001b[0m-0.3908  \u001b[0m | \u001b[0m 0.8912  \u001b[0m | \u001b[0m 0.5547  \u001b[0m | \u001b[0m 0.09395 \u001b[0m | \u001b[0m 1.853   \u001b[0m | \u001b[0m 8.06    \u001b[0m | \u001b[0m 32.76   \u001b[0m | \u001b[0m 0.09443 \u001b[0m | \u001b[0m 38.32   \u001b[0m |\n"
     ]
    },
    {
     "name": "stderr",
     "output_type": "stream",
     "text": [
      "/home/wxk/anaconda3/envs/whale/lib/python3.6/site-packages/lightgbm/engine.py:430: UserWarning: Found `num_iterations` in params. Will use it instead of argument\n",
      "  warnings.warn(\"Found `{}` in params. Will use it instead of argument\".format(alias))\n",
      "/home/wxk/anaconda3/envs/whale/lib/python3.6/site-packages/lightgbm/engine.py:435: UserWarning: Found `early_stopping_round` in params. Will use it instead of argument\n",
      "  warnings.warn(\"Found `{}` in params. Will use it instead of argument\".format(alias))\n"
     ]
    },
    {
     "name": "stdout",
     "output_type": "stream",
     "text": [
      "| \u001b[0m 6       \u001b[0m | \u001b[0m-0.3905  \u001b[0m | \u001b[0m 0.8719  \u001b[0m | \u001b[0m 0.4496  \u001b[0m | \u001b[0m 3.488   \u001b[0m | \u001b[0m 0.1807  \u001b[0m | \u001b[0m 8.334   \u001b[0m | \u001b[0m 35.18   \u001b[0m | \u001b[0m 0.02183 \u001b[0m | \u001b[0m 26.71   \u001b[0m |\n"
     ]
    },
    {
     "name": "stderr",
     "output_type": "stream",
     "text": [
      "/home/wxk/anaconda3/envs/whale/lib/python3.6/site-packages/lightgbm/engine.py:430: UserWarning: Found `num_iterations` in params. Will use it instead of argument\n",
      "  warnings.warn(\"Found `{}` in params. Will use it instead of argument\".format(alias))\n",
      "/home/wxk/anaconda3/envs/whale/lib/python3.6/site-packages/lightgbm/engine.py:435: UserWarning: Found `early_stopping_round` in params. Will use it instead of argument\n",
      "  warnings.warn(\"Found `{}` in params. Will use it instead of argument\".format(alias))\n"
     ]
    },
    {
     "name": "stdout",
     "output_type": "stream",
     "text": [
      "| \u001b[0m 7       \u001b[0m | \u001b[0m-0.3921  \u001b[0m | \u001b[0m 0.8631  \u001b[0m | \u001b[0m 0.391   \u001b[0m | \u001b[0m 2.851   \u001b[0m | \u001b[0m 1.316   \u001b[0m | \u001b[0m 9.942   \u001b[0m | \u001b[0m 9.592   \u001b[0m | \u001b[0m 0.02168 \u001b[0m | \u001b[0m 27.39   \u001b[0m |\n"
     ]
    },
    {
     "name": "stderr",
     "output_type": "stream",
     "text": [
      "/home/wxk/anaconda3/envs/whale/lib/python3.6/site-packages/lightgbm/engine.py:430: UserWarning: Found `num_iterations` in params. Will use it instead of argument\n",
      "  warnings.warn(\"Found `{}` in params. Will use it instead of argument\".format(alias))\n",
      "/home/wxk/anaconda3/envs/whale/lib/python3.6/site-packages/lightgbm/engine.py:435: UserWarning: Found `early_stopping_round` in params. Will use it instead of argument\n",
      "  warnings.warn(\"Found `{}` in params. Will use it instead of argument\".format(alias))\n"
     ]
    },
    {
     "name": "stdout",
     "output_type": "stream",
     "text": [
      "| \u001b[0m 8       \u001b[0m | \u001b[0m-0.3964  \u001b[0m | \u001b[0m 0.9306  \u001b[0m | \u001b[0m 0.3026  \u001b[0m | \u001b[0m 2.332   \u001b[0m | \u001b[0m 0.7333  \u001b[0m | \u001b[0m 5.795   \u001b[0m | \u001b[0m 9.967   \u001b[0m | \u001b[0m 0.06598 \u001b[0m | \u001b[0m 26.9    \u001b[0m |\n"
     ]
    },
    {
     "name": "stderr",
     "output_type": "stream",
     "text": [
      "/home/wxk/anaconda3/envs/whale/lib/python3.6/site-packages/lightgbm/engine.py:430: UserWarning: Found `num_iterations` in params. Will use it instead of argument\n",
      "  warnings.warn(\"Found `{}` in params. Will use it instead of argument\".format(alias))\n",
      "/home/wxk/anaconda3/envs/whale/lib/python3.6/site-packages/lightgbm/engine.py:435: UserWarning: Found `early_stopping_round` in params. Will use it instead of argument\n",
      "  warnings.warn(\"Found `{}` in params. Will use it instead of argument\".format(alias))\n"
     ]
    },
    {
     "name": "stdout",
     "output_type": "stream",
     "text": [
      "| \u001b[0m 9       \u001b[0m | \u001b[0m-0.3964  \u001b[0m | \u001b[0m 0.8393  \u001b[0m | \u001b[0m 0.395   \u001b[0m | \u001b[0m 4.105   \u001b[0m | \u001b[0m 0.2913  \u001b[0m | \u001b[0m 9.19    \u001b[0m | \u001b[0m 9.324   \u001b[0m | \u001b[0m 0.09767 \u001b[0m | \u001b[0m 33.84   \u001b[0m |\n"
     ]
    },
    {
     "name": "stderr",
     "output_type": "stream",
     "text": [
      "/home/wxk/anaconda3/envs/whale/lib/python3.6/site-packages/lightgbm/engine.py:430: UserWarning: Found `num_iterations` in params. Will use it instead of argument\n",
      "  warnings.warn(\"Found `{}` in params. Will use it instead of argument\".format(alias))\n",
      "/home/wxk/anaconda3/envs/whale/lib/python3.6/site-packages/lightgbm/engine.py:435: UserWarning: Found `early_stopping_round` in params. Will use it instead of argument\n",
      "  warnings.warn(\"Found `{}` in params. Will use it instead of argument\".format(alias))\n"
     ]
    },
    {
     "name": "stdout",
     "output_type": "stream",
     "text": [
      "| \u001b[0m 10      \u001b[0m | \u001b[0m-0.3899  \u001b[0m | \u001b[0m 0.9954  \u001b[0m | \u001b[0m 0.5839  \u001b[0m | \u001b[0m 3.696   \u001b[0m | \u001b[0m 0.1176  \u001b[0m | \u001b[0m 6.414   \u001b[0m | \u001b[0m 10.41   \u001b[0m | \u001b[0m 0.03032 \u001b[0m | \u001b[0m 26.49   \u001b[0m |\n"
     ]
    },
    {
     "name": "stderr",
     "output_type": "stream",
     "text": [
      "/home/wxk/anaconda3/envs/whale/lib/python3.6/site-packages/lightgbm/engine.py:430: UserWarning: Found `num_iterations` in params. Will use it instead of argument\n",
      "  warnings.warn(\"Found `{}` in params. Will use it instead of argument\".format(alias))\n",
      "/home/wxk/anaconda3/envs/whale/lib/python3.6/site-packages/lightgbm/engine.py:435: UserWarning: Found `early_stopping_round` in params. Will use it instead of argument\n",
      "  warnings.warn(\"Found `{}` in params. Will use it instead of argument\".format(alias))\n"
     ]
    },
    {
     "name": "stdout",
     "output_type": "stream",
     "text": [
      "| \u001b[0m 11      \u001b[0m | \u001b[0m-0.3923  \u001b[0m | \u001b[0m 0.8636  \u001b[0m | \u001b[0m 0.4314  \u001b[0m | \u001b[0m 0.3207  \u001b[0m | \u001b[0m 2.077   \u001b[0m | \u001b[0m 7.833   \u001b[0m | \u001b[0m 16.94   \u001b[0m | \u001b[0m 0.0528  \u001b[0m | \u001b[0m 25.97   \u001b[0m |\n"
     ]
    },
    {
     "name": "stderr",
     "output_type": "stream",
     "text": [
      "/home/wxk/anaconda3/envs/whale/lib/python3.6/site-packages/lightgbm/engine.py:430: UserWarning: Found `num_iterations` in params. Will use it instead of argument\n",
      "  warnings.warn(\"Found `{}` in params. Will use it instead of argument\".format(alias))\n",
      "/home/wxk/anaconda3/envs/whale/lib/python3.6/site-packages/lightgbm/engine.py:435: UserWarning: Found `early_stopping_round` in params. Will use it instead of argument\n",
      "  warnings.warn(\"Found `{}` in params. Will use it instead of argument\".format(alias))\n"
     ]
    },
    {
     "name": "stdout",
     "output_type": "stream",
     "text": [
      "| \u001b[95m 12      \u001b[0m | \u001b[95m-0.3873  \u001b[0m | \u001b[95m 0.9152  \u001b[0m | \u001b[95m 0.8434  \u001b[0m | \u001b[95m 1.593   \u001b[0m | \u001b[95m 2.002   \u001b[0m | \u001b[95m 5.659   \u001b[0m | \u001b[95m 37.23   \u001b[0m | \u001b[95m 0.02965 \u001b[0m | \u001b[95m 27.85   \u001b[0m |\n"
     ]
    },
    {
     "name": "stderr",
     "output_type": "stream",
     "text": [
      "/home/wxk/anaconda3/envs/whale/lib/python3.6/site-packages/lightgbm/engine.py:430: UserWarning: Found `num_iterations` in params. Will use it instead of argument\n",
      "  warnings.warn(\"Found `{}` in params. Will use it instead of argument\".format(alias))\n",
      "/home/wxk/anaconda3/envs/whale/lib/python3.6/site-packages/lightgbm/engine.py:435: UserWarning: Found `early_stopping_round` in params. Will use it instead of argument\n",
      "  warnings.warn(\"Found `{}` in params. Will use it instead of argument\".format(alias))\n"
     ]
    },
    {
     "name": "stdout",
     "output_type": "stream",
     "text": [
      "| \u001b[0m 13      \u001b[0m | \u001b[0m-0.4052  \u001b[0m | \u001b[0m 0.9173  \u001b[0m | \u001b[0m 0.1161  \u001b[0m | \u001b[0m 4.145   \u001b[0m | \u001b[0m 0.01409 \u001b[0m | \u001b[0m 8.389   \u001b[0m | \u001b[0m 17.15   \u001b[0m | \u001b[0m 0.07378 \u001b[0m | \u001b[0m 44.21   \u001b[0m |\n"
     ]
    },
    {
     "name": "stderr",
     "output_type": "stream",
     "text": [
      "/home/wxk/anaconda3/envs/whale/lib/python3.6/site-packages/lightgbm/engine.py:430: UserWarning: Found `num_iterations` in params. Will use it instead of argument\n",
      "  warnings.warn(\"Found `{}` in params. Will use it instead of argument\".format(alias))\n",
      "/home/wxk/anaconda3/envs/whale/lib/python3.6/site-packages/lightgbm/engine.py:435: UserWarning: Found `early_stopping_round` in params. Will use it instead of argument\n",
      "  warnings.warn(\"Found `{}` in params. Will use it instead of argument\".format(alias))\n"
     ]
    },
    {
     "name": "stdout",
     "output_type": "stream",
     "text": [
      "| \u001b[0m 14      \u001b[0m | \u001b[0m-0.3909  \u001b[0m | \u001b[0m 0.8498  \u001b[0m | \u001b[0m 0.5609  \u001b[0m | \u001b[0m 2.96    \u001b[0m | \u001b[0m 1.717   \u001b[0m | \u001b[0m 6.115   \u001b[0m | \u001b[0m 47.87   \u001b[0m | \u001b[0m 0.04527 \u001b[0m | \u001b[0m 41.77   \u001b[0m |\n"
     ]
    },
    {
     "name": "stderr",
     "output_type": "stream",
     "text": [
      "/home/wxk/anaconda3/envs/whale/lib/python3.6/site-packages/lightgbm/engine.py:430: UserWarning: Found `num_iterations` in params. Will use it instead of argument\n",
      "  warnings.warn(\"Found `{}` in params. Will use it instead of argument\".format(alias))\n",
      "/home/wxk/anaconda3/envs/whale/lib/python3.6/site-packages/lightgbm/engine.py:435: UserWarning: Found `early_stopping_round` in params. Will use it instead of argument\n",
      "  warnings.warn(\"Found `{}` in params. Will use it instead of argument\".format(alias))\n"
     ]
    },
    {
     "name": "stdout",
     "output_type": "stream",
     "text": [
      "| \u001b[0m 15      \u001b[0m | \u001b[0m-0.3985  \u001b[0m | \u001b[0m 0.9399  \u001b[0m | \u001b[0m 0.3379  \u001b[0m | \u001b[0m 4.069   \u001b[0m | \u001b[0m 1.19    \u001b[0m | \u001b[0m 9.406   \u001b[0m | \u001b[0m 31.16   \u001b[0m | \u001b[0m 0.08829 \u001b[0m | \u001b[0m 38.54   \u001b[0m |\n"
     ]
    },
    {
     "name": "stderr",
     "output_type": "stream",
     "text": [
      "/home/wxk/anaconda3/envs/whale/lib/python3.6/site-packages/lightgbm/engine.py:430: UserWarning: Found `num_iterations` in params. Will use it instead of argument\n",
      "  warnings.warn(\"Found `{}` in params. Will use it instead of argument\".format(alias))\n",
      "/home/wxk/anaconda3/envs/whale/lib/python3.6/site-packages/lightgbm/engine.py:435: UserWarning: Found `early_stopping_round` in params. Will use it instead of argument\n",
      "  warnings.warn(\"Found `{}` in params. Will use it instead of argument\".format(alias))\n"
     ]
    },
    {
     "name": "stdout",
     "output_type": "stream",
     "text": [
      "| \u001b[0m 16      \u001b[0m | \u001b[0m-0.3885  \u001b[0m | \u001b[0m 0.9676  \u001b[0m | \u001b[0m 0.8897  \u001b[0m | \u001b[0m 0.05109 \u001b[0m | \u001b[0m 2.03    \u001b[0m | \u001b[0m 5.691   \u001b[0m | \u001b[0m 5.16    \u001b[0m | \u001b[0m 0.05343 \u001b[0m | \u001b[0m 43.58   \u001b[0m |\n"
     ]
    },
    {
     "name": "stderr",
     "output_type": "stream",
     "text": [
      "/home/wxk/anaconda3/envs/whale/lib/python3.6/site-packages/lightgbm/engine.py:430: UserWarning: Found `num_iterations` in params. Will use it instead of argument\n",
      "  warnings.warn(\"Found `{}` in params. Will use it instead of argument\".format(alias))\n",
      "/home/wxk/anaconda3/envs/whale/lib/python3.6/site-packages/lightgbm/engine.py:435: UserWarning: Found `early_stopping_round` in params. Will use it instead of argument\n",
      "  warnings.warn(\"Found `{}` in params. Will use it instead of argument\".format(alias))\n"
     ]
    },
    {
     "name": "stdout",
     "output_type": "stream",
     "text": [
      "| \u001b[95m 17      \u001b[0m | \u001b[95m-0.3859  \u001b[0m | \u001b[95m 0.9113  \u001b[0m | \u001b[95m 0.8754  \u001b[0m | \u001b[95m 0.4235  \u001b[0m | \u001b[95m 2.462   \u001b[0m | \u001b[95m 9.887   \u001b[0m | \u001b[95m 48.04   \u001b[0m | \u001b[95m 0.06328 \u001b[0m | \u001b[95m 24.06   \u001b[0m |\n"
     ]
    },
    {
     "name": "stderr",
     "output_type": "stream",
     "text": [
      "/home/wxk/anaconda3/envs/whale/lib/python3.6/site-packages/lightgbm/engine.py:430: UserWarning: Found `num_iterations` in params. Will use it instead of argument\n",
      "  warnings.warn(\"Found `{}` in params. Will use it instead of argument\".format(alias))\n",
      "/home/wxk/anaconda3/envs/whale/lib/python3.6/site-packages/lightgbm/engine.py:435: UserWarning: Found `early_stopping_round` in params. Will use it instead of argument\n",
      "  warnings.warn(\"Found `{}` in params. Will use it instead of argument\".format(alias))\n"
     ]
    },
    {
     "name": "stdout",
     "output_type": "stream",
     "text": [
      "| \u001b[0m 18      \u001b[0m | \u001b[0m-0.3907  \u001b[0m | \u001b[0m 0.8678  \u001b[0m | \u001b[0m 0.8887  \u001b[0m | \u001b[0m 4.562   \u001b[0m | \u001b[0m 2.949   \u001b[0m | \u001b[0m 6.328   \u001b[0m | \u001b[0m 7.762   \u001b[0m | \u001b[0m 0.0967  \u001b[0m | \u001b[0m 24.9    \u001b[0m |\n"
     ]
    },
    {
     "name": "stderr",
     "output_type": "stream",
     "text": [
      "/home/wxk/anaconda3/envs/whale/lib/python3.6/site-packages/lightgbm/engine.py:430: UserWarning: Found `num_iterations` in params. Will use it instead of argument\n",
      "  warnings.warn(\"Found `{}` in params. Will use it instead of argument\".format(alias))\n",
      "/home/wxk/anaconda3/envs/whale/lib/python3.6/site-packages/lightgbm/engine.py:435: UserWarning: Found `early_stopping_round` in params. Will use it instead of argument\n",
      "  warnings.warn(\"Found `{}` in params. Will use it instead of argument\".format(alias))\n"
     ]
    },
    {
     "name": "stdout",
     "output_type": "stream",
     "text": [
      "| \u001b[0m 19      \u001b[0m | \u001b[0m-0.3897  \u001b[0m | \u001b[0m 0.8218  \u001b[0m | \u001b[0m 0.8752  \u001b[0m | \u001b[0m 3.767   \u001b[0m | \u001b[0m 0.06397 \u001b[0m | \u001b[0m 5.582   \u001b[0m | \u001b[0m 48.3    \u001b[0m | \u001b[0m 0.08838 \u001b[0m | \u001b[0m 24.57   \u001b[0m |\n"
     ]
    },
    {
     "name": "stderr",
     "output_type": "stream",
     "text": [
      "/home/wxk/anaconda3/envs/whale/lib/python3.6/site-packages/lightgbm/engine.py:430: UserWarning: Found `num_iterations` in params. Will use it instead of argument\n",
      "  warnings.warn(\"Found `{}` in params. Will use it instead of argument\".format(alias))\n",
      "/home/wxk/anaconda3/envs/whale/lib/python3.6/site-packages/lightgbm/engine.py:435: UserWarning: Found `early_stopping_round` in params. Will use it instead of argument\n",
      "  warnings.warn(\"Found `{}` in params. Will use it instead of argument\".format(alias))\n"
     ]
    },
    {
     "name": "stdout",
     "output_type": "stream",
     "text": [
      "| \u001b[0m 20      \u001b[0m | \u001b[0m-0.3868  \u001b[0m | \u001b[0m 0.9073  \u001b[0m | \u001b[0m 0.7902  \u001b[0m | \u001b[0m 0.4914  \u001b[0m | \u001b[0m 2.798   \u001b[0m | \u001b[0m 9.996   \u001b[0m | \u001b[0m 48.44   \u001b[0m | \u001b[0m 0.01145 \u001b[0m | \u001b[0m 44.78   \u001b[0m |\n"
     ]
    },
    {
     "name": "stderr",
     "output_type": "stream",
     "text": [
      "/home/wxk/anaconda3/envs/whale/lib/python3.6/site-packages/lightgbm/engine.py:430: UserWarning: Found `num_iterations` in params. Will use it instead of argument\n",
      "  warnings.warn(\"Found `{}` in params. Will use it instead of argument\".format(alias))\n",
      "/home/wxk/anaconda3/envs/whale/lib/python3.6/site-packages/lightgbm/engine.py:435: UserWarning: Found `early_stopping_round` in params. Will use it instead of argument\n",
      "  warnings.warn(\"Found `{}` in params. Will use it instead of argument\".format(alias))\n"
     ]
    },
    {
     "name": "stdout",
     "output_type": "stream",
     "text": [
      "| \u001b[0m 21      \u001b[0m | \u001b[0m-0.3895  \u001b[0m | \u001b[0m 0.8236  \u001b[0m | \u001b[0m 0.8937  \u001b[0m | \u001b[0m 4.985   \u001b[0m | \u001b[0m 2.988   \u001b[0m | \u001b[0m 9.677   \u001b[0m | \u001b[0m 31.46   \u001b[0m | \u001b[0m 0.0602  \u001b[0m | \u001b[0m 24.47   \u001b[0m |\n"
     ]
    },
    {
     "name": "stderr",
     "output_type": "stream",
     "text": [
      "/home/wxk/anaconda3/envs/whale/lib/python3.6/site-packages/lightgbm/engine.py:430: UserWarning: Found `num_iterations` in params. Will use it instead of argument\n",
      "  warnings.warn(\"Found `{}` in params. Will use it instead of argument\".format(alias))\n",
      "/home/wxk/anaconda3/envs/whale/lib/python3.6/site-packages/lightgbm/engine.py:435: UserWarning: Found `early_stopping_round` in params. Will use it instead of argument\n",
      "  warnings.warn(\"Found `{}` in params. Will use it instead of argument\".format(alias))\n"
     ]
    },
    {
     "name": "stdout",
     "output_type": "stream",
     "text": [
      "| \u001b[0m 22      \u001b[0m | \u001b[0m-0.3885  \u001b[0m | \u001b[0m 0.9679  \u001b[0m | \u001b[0m 0.8692  \u001b[0m | \u001b[0m 0.7589  \u001b[0m | \u001b[0m 0.487   \u001b[0m | \u001b[0m 9.525   \u001b[0m | \u001b[0m 7.346   \u001b[0m | \u001b[0m 0.04444 \u001b[0m | \u001b[0m 24.43   \u001b[0m |\n"
     ]
    },
    {
     "name": "stderr",
     "output_type": "stream",
     "text": [
      "/home/wxk/anaconda3/envs/whale/lib/python3.6/site-packages/lightgbm/engine.py:430: UserWarning: Found `num_iterations` in params. Will use it instead of argument\n",
      "  warnings.warn(\"Found `{}` in params. Will use it instead of argument\".format(alias))\n",
      "/home/wxk/anaconda3/envs/whale/lib/python3.6/site-packages/lightgbm/engine.py:435: UserWarning: Found `early_stopping_round` in params. Will use it instead of argument\n",
      "  warnings.warn(\"Found `{}` in params. Will use it instead of argument\".format(alias))\n"
     ]
    },
    {
     "name": "stdout",
     "output_type": "stream",
     "text": [
      "| \u001b[0m 23      \u001b[0m | \u001b[0m-0.388   \u001b[0m | \u001b[0m 0.8423  \u001b[0m | \u001b[0m 0.8459  \u001b[0m | \u001b[0m 0.1244  \u001b[0m | \u001b[0m 2.915   \u001b[0m | \u001b[0m 5.635   \u001b[0m | \u001b[0m 38.76   \u001b[0m | \u001b[0m 0.05426 \u001b[0m | \u001b[0m 44.53   \u001b[0m |\n"
     ]
    },
    {
     "name": "stderr",
     "output_type": "stream",
     "text": [
      "/home/wxk/anaconda3/envs/whale/lib/python3.6/site-packages/lightgbm/engine.py:430: UserWarning: Found `num_iterations` in params. Will use it instead of argument\n",
      "  warnings.warn(\"Found `{}` in params. Will use it instead of argument\".format(alias))\n",
      "/home/wxk/anaconda3/envs/whale/lib/python3.6/site-packages/lightgbm/engine.py:435: UserWarning: Found `early_stopping_round` in params. Will use it instead of argument\n",
      "  warnings.warn(\"Found `{}` in params. Will use it instead of argument\".format(alias))\n"
     ]
    },
    {
     "name": "stdout",
     "output_type": "stream",
     "text": [
      "| \u001b[0m 24      \u001b[0m | \u001b[0m-0.3864  \u001b[0m | \u001b[0m 0.812   \u001b[0m | \u001b[0m 0.8746  \u001b[0m | \u001b[0m 0.2847  \u001b[0m | \u001b[0m 0.1524  \u001b[0m | \u001b[0m 9.341   \u001b[0m | \u001b[0m 48.78   \u001b[0m | \u001b[0m 0.03781 \u001b[0m | \u001b[0m 32.64   \u001b[0m |\n"
     ]
    },
    {
     "name": "stderr",
     "output_type": "stream",
     "text": [
      "/home/wxk/anaconda3/envs/whale/lib/python3.6/site-packages/lightgbm/engine.py:430: UserWarning: Found `num_iterations` in params. Will use it instead of argument\n",
      "  warnings.warn(\"Found `{}` in params. Will use it instead of argument\".format(alias))\n",
      "/home/wxk/anaconda3/envs/whale/lib/python3.6/site-packages/lightgbm/engine.py:435: UserWarning: Found `early_stopping_round` in params. Will use it instead of argument\n",
      "  warnings.warn(\"Found `{}` in params. Will use it instead of argument\".format(alias))\n"
     ]
    },
    {
     "name": "stdout",
     "output_type": "stream",
     "text": [
      "| \u001b[95m 25      \u001b[0m | \u001b[95m-0.3858  \u001b[0m | \u001b[95m 0.9874  \u001b[0m | \u001b[95m 0.8936  \u001b[0m | \u001b[95m 4.329   \u001b[0m | \u001b[95m 2.88    \u001b[0m | \u001b[95m 9.964   \u001b[0m | \u001b[95m 48.89   \u001b[0m | \u001b[95m 0.003291\u001b[0m | \u001b[95m 29.29   \u001b[0m |\n"
     ]
    },
    {
     "name": "stderr",
     "output_type": "stream",
     "text": [
      "/home/wxk/anaconda3/envs/whale/lib/python3.6/site-packages/lightgbm/engine.py:430: UserWarning: Found `num_iterations` in params. Will use it instead of argument\n",
      "  warnings.warn(\"Found `{}` in params. Will use it instead of argument\".format(alias))\n",
      "/home/wxk/anaconda3/envs/whale/lib/python3.6/site-packages/lightgbm/engine.py:435: UserWarning: Found `early_stopping_round` in params. Will use it instead of argument\n",
      "  warnings.warn(\"Found `{}` in params. Will use it instead of argument\".format(alias))\n"
     ]
    },
    {
     "name": "stdout",
     "output_type": "stream",
     "text": [
      "| \u001b[0m 26      \u001b[0m | \u001b[0m-0.3886  \u001b[0m | \u001b[0m 0.9174  \u001b[0m | \u001b[0m 0.8361  \u001b[0m | \u001b[0m 0.2227  \u001b[0m | \u001b[0m 2.905   \u001b[0m | \u001b[0m 5.37    \u001b[0m | \u001b[0m 48.94   \u001b[0m | \u001b[0m 0.04045 \u001b[0m | \u001b[0m 38.77   \u001b[0m |\n"
     ]
    },
    {
     "name": "stderr",
     "output_type": "stream",
     "text": [
      "/home/wxk/anaconda3/envs/whale/lib/python3.6/site-packages/lightgbm/engine.py:430: UserWarning: Found `num_iterations` in params. Will use it instead of argument\n",
      "  warnings.warn(\"Found `{}` in params. Will use it instead of argument\".format(alias))\n",
      "/home/wxk/anaconda3/envs/whale/lib/python3.6/site-packages/lightgbm/engine.py:435: UserWarning: Found `early_stopping_round` in params. Will use it instead of argument\n",
      "  warnings.warn(\"Found `{}` in params. Will use it instead of argument\".format(alias))\n"
     ]
    },
    {
     "name": "stdout",
     "output_type": "stream",
     "text": [
      "| \u001b[0m 27      \u001b[0m | \u001b[0m-0.3892  \u001b[0m | \u001b[0m 0.9938  \u001b[0m | \u001b[0m 0.8419  \u001b[0m | \u001b[0m 0.2588  \u001b[0m | \u001b[0m 2.748   \u001b[0m | \u001b[0m 5.165   \u001b[0m | \u001b[0m 16.17   \u001b[0m | \u001b[0m 0.04259 \u001b[0m | \u001b[0m 36.47   \u001b[0m |\n"
     ]
    },
    {
     "name": "stderr",
     "output_type": "stream",
     "text": [
      "/home/wxk/anaconda3/envs/whale/lib/python3.6/site-packages/lightgbm/engine.py:430: UserWarning: Found `num_iterations` in params. Will use it instead of argument\n",
      "  warnings.warn(\"Found `{}` in params. Will use it instead of argument\".format(alias))\n",
      "/home/wxk/anaconda3/envs/whale/lib/python3.6/site-packages/lightgbm/engine.py:435: UserWarning: Found `early_stopping_round` in params. Will use it instead of argument\n",
      "  warnings.warn(\"Found `{}` in params. Will use it instead of argument\".format(alias))\n"
     ]
    },
    {
     "name": "stdout",
     "output_type": "stream",
     "text": [
      "| \u001b[95m 28      \u001b[0m | \u001b[95m-0.3857  \u001b[0m | \u001b[95m 0.8585  \u001b[0m | \u001b[95m 0.8741  \u001b[0m | \u001b[95m 0.2674  \u001b[0m | \u001b[95m 1.785   \u001b[0m | \u001b[95m 9.998   \u001b[0m | \u001b[95m 40.02   \u001b[0m | \u001b[95m 0.01129 \u001b[0m | \u001b[95m 24.63   \u001b[0m |\n"
     ]
    },
    {
     "name": "stderr",
     "output_type": "stream",
     "text": [
      "/home/wxk/anaconda3/envs/whale/lib/python3.6/site-packages/lightgbm/engine.py:430: UserWarning: Found `num_iterations` in params. Will use it instead of argument\n",
      "  warnings.warn(\"Found `{}` in params. Will use it instead of argument\".format(alias))\n",
      "/home/wxk/anaconda3/envs/whale/lib/python3.6/site-packages/lightgbm/engine.py:435: UserWarning: Found `early_stopping_round` in params. Will use it instead of argument\n",
      "  warnings.warn(\"Found `{}` in params. Will use it instead of argument\".format(alias))\n"
     ]
    },
    {
     "name": "stdout",
     "output_type": "stream",
     "text": [
      "| \u001b[95m 29      \u001b[0m | \u001b[95m-0.3856  \u001b[0m | \u001b[95m 0.8055  \u001b[0m | \u001b[95m 0.8975  \u001b[0m | \u001b[95m 2.495   \u001b[0m | \u001b[95m 2.994   \u001b[0m | \u001b[95m 9.871   \u001b[0m | \u001b[95m 48.88   \u001b[0m | \u001b[95m 0.01424 \u001b[0m | \u001b[95m 27.4    \u001b[0m |\n"
     ]
    },
    {
     "name": "stderr",
     "output_type": "stream",
     "text": [
      "/home/wxk/anaconda3/envs/whale/lib/python3.6/site-packages/lightgbm/engine.py:430: UserWarning: Found `num_iterations` in params. Will use it instead of argument\n",
      "  warnings.warn(\"Found `{}` in params. Will use it instead of argument\".format(alias))\n",
      "/home/wxk/anaconda3/envs/whale/lib/python3.6/site-packages/lightgbm/engine.py:435: UserWarning: Found `early_stopping_round` in params. Will use it instead of argument\n",
      "  warnings.warn(\"Found `{}` in params. Will use it instead of argument\".format(alias))\n"
     ]
    },
    {
     "name": "stdout",
     "output_type": "stream",
     "text": [
      "| \u001b[0m 30      \u001b[0m | \u001b[0m-0.3865  \u001b[0m | \u001b[0m 0.8842  \u001b[0m | \u001b[0m 0.894   \u001b[0m | \u001b[0m 0.105   \u001b[0m | \u001b[0m 2.872   \u001b[0m | \u001b[0m 9.299   \u001b[0m | \u001b[0m 42.0    \u001b[0m | \u001b[0m 0.03302 \u001b[0m | \u001b[0m 31.63   \u001b[0m |\n"
     ]
    },
    {
     "name": "stderr",
     "output_type": "stream",
     "text": [
      "/home/wxk/anaconda3/envs/whale/lib/python3.6/site-packages/lightgbm/engine.py:430: UserWarning: Found `num_iterations` in params. Will use it instead of argument\n",
      "  warnings.warn(\"Found `{}` in params. Will use it instead of argument\".format(alias))\n",
      "/home/wxk/anaconda3/envs/whale/lib/python3.6/site-packages/lightgbm/engine.py:435: UserWarning: Found `early_stopping_round` in params. Will use it instead of argument\n",
      "  warnings.warn(\"Found `{}` in params. Will use it instead of argument\".format(alias))\n"
     ]
    },
    {
     "name": "stdout",
     "output_type": "stream",
     "text": [
      "| \u001b[0m 31      \u001b[0m | \u001b[0m-0.3875  \u001b[0m | \u001b[0m 0.8283  \u001b[0m | \u001b[0m 0.8094  \u001b[0m | \u001b[0m 3.743   \u001b[0m | \u001b[0m 0.1955  \u001b[0m | \u001b[0m 9.565   \u001b[0m | \u001b[0m 48.77   \u001b[0m | \u001b[0m 0.007951\u001b[0m | \u001b[0m 24.01   \u001b[0m |\n"
     ]
    },
    {
     "name": "stderr",
     "output_type": "stream",
     "text": [
      "/home/wxk/anaconda3/envs/whale/lib/python3.6/site-packages/lightgbm/engine.py:430: UserWarning: Found `num_iterations` in params. Will use it instead of argument\n",
      "  warnings.warn(\"Found `{}` in params. Will use it instead of argument\".format(alias))\n",
      "/home/wxk/anaconda3/envs/whale/lib/python3.6/site-packages/lightgbm/engine.py:435: UserWarning: Found `early_stopping_round` in params. Will use it instead of argument\n",
      "  warnings.warn(\"Found `{}` in params. Will use it instead of argument\".format(alias))\n"
     ]
    },
    {
     "name": "stdout",
     "output_type": "stream",
     "text": [
      "| \u001b[0m 32      \u001b[0m | \u001b[0m-0.3867  \u001b[0m | \u001b[0m 0.964   \u001b[0m | \u001b[0m 0.8992  \u001b[0m | \u001b[0m 0.5803  \u001b[0m | \u001b[0m 2.729   \u001b[0m | \u001b[0m 9.749   \u001b[0m | \u001b[0m 5.189   \u001b[0m | \u001b[0m 0.04243 \u001b[0m | \u001b[0m 35.6    \u001b[0m |\n"
     ]
    },
    {
     "name": "stderr",
     "output_type": "stream",
     "text": [
      "/home/wxk/anaconda3/envs/whale/lib/python3.6/site-packages/lightgbm/engine.py:430: UserWarning: Found `num_iterations` in params. Will use it instead of argument\n",
      "  warnings.warn(\"Found `{}` in params. Will use it instead of argument\".format(alias))\n",
      "/home/wxk/anaconda3/envs/whale/lib/python3.6/site-packages/lightgbm/engine.py:435: UserWarning: Found `early_stopping_round` in params. Will use it instead of argument\n",
      "  warnings.warn(\"Found `{}` in params. Will use it instead of argument\".format(alias))\n"
     ]
    },
    {
     "name": "stdout",
     "output_type": "stream",
     "text": [
      "| \u001b[0m 33      \u001b[0m | \u001b[0m-0.3885  \u001b[0m | \u001b[0m 0.9366  \u001b[0m | \u001b[0m 0.8724  \u001b[0m | \u001b[0m 0.03235 \u001b[0m | \u001b[0m 0.07673 \u001b[0m | \u001b[0m 6.741   \u001b[0m | \u001b[0m 5.168   \u001b[0m | \u001b[0m 0.05598 \u001b[0m | \u001b[0m 24.77   \u001b[0m |\n"
     ]
    },
    {
     "name": "stderr",
     "output_type": "stream",
     "text": [
      "/home/wxk/anaconda3/envs/whale/lib/python3.6/site-packages/lightgbm/engine.py:430: UserWarning: Found `num_iterations` in params. Will use it instead of argument\n",
      "  warnings.warn(\"Found `{}` in params. Will use it instead of argument\".format(alias))\n",
      "/home/wxk/anaconda3/envs/whale/lib/python3.6/site-packages/lightgbm/engine.py:435: UserWarning: Found `early_stopping_round` in params. Will use it instead of argument\n",
      "  warnings.warn(\"Found `{}` in params. Will use it instead of argument\".format(alias))\n"
     ]
    },
    {
     "name": "stdout",
     "output_type": "stream",
     "text": [
      "| \u001b[0m 34      \u001b[0m | \u001b[0m-0.386   \u001b[0m | \u001b[0m 0.9845  \u001b[0m | \u001b[0m 0.8847  \u001b[0m | \u001b[0m 0.03991 \u001b[0m | \u001b[0m 0.6985  \u001b[0m | \u001b[0m 9.844   \u001b[0m | \u001b[0m 44.54   \u001b[0m | \u001b[0m 0.04127 \u001b[0m | \u001b[0m 25.77   \u001b[0m |\n"
     ]
    },
    {
     "name": "stderr",
     "output_type": "stream",
     "text": [
      "/home/wxk/anaconda3/envs/whale/lib/python3.6/site-packages/lightgbm/engine.py:430: UserWarning: Found `num_iterations` in params. Will use it instead of argument\n",
      "  warnings.warn(\"Found `{}` in params. Will use it instead of argument\".format(alias))\n",
      "/home/wxk/anaconda3/envs/whale/lib/python3.6/site-packages/lightgbm/engine.py:435: UserWarning: Found `early_stopping_round` in params. Will use it instead of argument\n",
      "  warnings.warn(\"Found `{}` in params. Will use it instead of argument\".format(alias))\n"
     ]
    },
    {
     "name": "stdout",
     "output_type": "stream",
     "text": [
      "| \u001b[0m 35      \u001b[0m | \u001b[0m-0.3868  \u001b[0m | \u001b[0m 0.921   \u001b[0m | \u001b[0m 0.8759  \u001b[0m | \u001b[0m 0.2092  \u001b[0m | \u001b[0m 2.667   \u001b[0m | \u001b[0m 9.829   \u001b[0m | \u001b[0m 49.05   \u001b[0m | \u001b[0m 0.05286 \u001b[0m | \u001b[0m 35.64   \u001b[0m |\n"
     ]
    },
    {
     "name": "stderr",
     "output_type": "stream",
     "text": [
      "/home/wxk/anaconda3/envs/whale/lib/python3.6/site-packages/lightgbm/engine.py:430: UserWarning: Found `num_iterations` in params. Will use it instead of argument\n",
      "  warnings.warn(\"Found `{}` in params. Will use it instead of argument\".format(alias))\n",
      "/home/wxk/anaconda3/envs/whale/lib/python3.6/site-packages/lightgbm/engine.py:435: UserWarning: Found `early_stopping_round` in params. Will use it instead of argument\n",
      "  warnings.warn(\"Found `{}` in params. Will use it instead of argument\".format(alias))\n"
     ]
    },
    {
     "name": "stdout",
     "output_type": "stream",
     "text": [
      "| \u001b[0m 36      \u001b[0m | \u001b[0m-0.3861  \u001b[0m | \u001b[0m 0.8934  \u001b[0m | \u001b[0m 0.8972  \u001b[0m | \u001b[0m 0.1168  \u001b[0m | \u001b[0m 0.05837 \u001b[0m | \u001b[0m 9.736   \u001b[0m | \u001b[0m 45.54   \u001b[0m | \u001b[0m 0.009871\u001b[0m | \u001b[0m 26.95   \u001b[0m |\n"
     ]
    },
    {
     "name": "stderr",
     "output_type": "stream",
     "text": [
      "/home/wxk/anaconda3/envs/whale/lib/python3.6/site-packages/lightgbm/engine.py:430: UserWarning: Found `num_iterations` in params. Will use it instead of argument\n",
      "  warnings.warn(\"Found `{}` in params. Will use it instead of argument\".format(alias))\n",
      "/home/wxk/anaconda3/envs/whale/lib/python3.6/site-packages/lightgbm/engine.py:435: UserWarning: Found `early_stopping_round` in params. Will use it instead of argument\n",
      "  warnings.warn(\"Found `{}` in params. Will use it instead of argument\".format(alias))\n"
     ]
    },
    {
     "name": "stdout",
     "output_type": "stream",
     "text": [
      "| \u001b[0m 37      \u001b[0m | \u001b[0m-0.387   \u001b[0m | \u001b[0m 0.9436  \u001b[0m | \u001b[0m 0.8986  \u001b[0m | \u001b[0m 0.8727  \u001b[0m | \u001b[0m 2.948   \u001b[0m | \u001b[0m 9.585   \u001b[0m | \u001b[0m 37.44   \u001b[0m | \u001b[0m 0.01571 \u001b[0m | \u001b[0m 25.06   \u001b[0m |\n"
     ]
    },
    {
     "name": "stderr",
     "output_type": "stream",
     "text": [
      "/home/wxk/anaconda3/envs/whale/lib/python3.6/site-packages/lightgbm/engine.py:430: UserWarning: Found `num_iterations` in params. Will use it instead of argument\n",
      "  warnings.warn(\"Found `{}` in params. Will use it instead of argument\".format(alias))\n",
      "/home/wxk/anaconda3/envs/whale/lib/python3.6/site-packages/lightgbm/engine.py:435: UserWarning: Found `early_stopping_round` in params. Will use it instead of argument\n",
      "  warnings.warn(\"Found `{}` in params. Will use it instead of argument\".format(alias))\n"
     ]
    },
    {
     "name": "stdout",
     "output_type": "stream",
     "text": [
      "| \u001b[95m 38      \u001b[0m | \u001b[95m-0.3851  \u001b[0m | \u001b[95m 0.993   \u001b[0m | \u001b[95m 0.8928  \u001b[0m | \u001b[95m 0.4976  \u001b[0m | \u001b[95m 2.691   \u001b[0m | \u001b[95m 9.654   \u001b[0m | \u001b[95m 41.41   \u001b[0m | \u001b[95m 0.0167  \u001b[0m | \u001b[95m 33.23   \u001b[0m |\n"
     ]
    },
    {
     "name": "stderr",
     "output_type": "stream",
     "text": [
      "/home/wxk/anaconda3/envs/whale/lib/python3.6/site-packages/lightgbm/engine.py:430: UserWarning: Found `num_iterations` in params. Will use it instead of argument\n",
      "  warnings.warn(\"Found `{}` in params. Will use it instead of argument\".format(alias))\n",
      "/home/wxk/anaconda3/envs/whale/lib/python3.6/site-packages/lightgbm/engine.py:435: UserWarning: Found `early_stopping_round` in params. Will use it instead of argument\n",
      "  warnings.warn(\"Found `{}` in params. Will use it instead of argument\".format(alias))\n"
     ]
    },
    {
     "name": "stdout",
     "output_type": "stream",
     "text": [
      "| \u001b[0m 39      \u001b[0m | \u001b[0m-0.386   \u001b[0m | \u001b[0m 0.8965  \u001b[0m | \u001b[0m 0.8891  \u001b[0m | \u001b[0m 0.01878 \u001b[0m | \u001b[0m 2.938   \u001b[0m | \u001b[0m 9.758   \u001b[0m | \u001b[0m 42.0    \u001b[0m | \u001b[0m 0.01407 \u001b[0m | \u001b[0m 41.4    \u001b[0m |\n"
     ]
    },
    {
     "name": "stderr",
     "output_type": "stream",
     "text": [
      "/home/wxk/anaconda3/envs/whale/lib/python3.6/site-packages/lightgbm/engine.py:430: UserWarning: Found `num_iterations` in params. Will use it instead of argument\n",
      "  warnings.warn(\"Found `{}` in params. Will use it instead of argument\".format(alias))\n",
      "/home/wxk/anaconda3/envs/whale/lib/python3.6/site-packages/lightgbm/engine.py:435: UserWarning: Found `early_stopping_round` in params. Will use it instead of argument\n",
      "  warnings.warn(\"Found `{}` in params. Will use it instead of argument\".format(alias))\n"
     ]
    },
    {
     "name": "stdout",
     "output_type": "stream",
     "text": [
      "| \u001b[0m 40      \u001b[0m | \u001b[0m-0.3868  \u001b[0m | \u001b[0m 0.8642  \u001b[0m | \u001b[0m 0.8834  \u001b[0m | \u001b[0m 0.2622  \u001b[0m | \u001b[0m 2.917   \u001b[0m | \u001b[0m 9.686   \u001b[0m | \u001b[0m 5.957   \u001b[0m | \u001b[0m 0.03216 \u001b[0m | \u001b[0m 33.21   \u001b[0m |\n",
      "=========================================================================================================================\n"
     ]
    }
   ],
   "source": [
    "def bayes_parameter_opt_lgb(train_data, lgb_eval, init_round=15, opt_round=25,\n",
    "                            random_seed=6, n_iterations=2000, learning_rate=0.05):\n",
    "\n",
    "    def lgb_eval(num_leaves, feature_fraction, bagging_fraction, \n",
    "                 max_depth, lambda_l1, lambda_l2, min_split_gain, min_child_weight):\n",
    "        params = {'objective': 'regression','boosting_type': 'gbdt',\n",
    "                  'num_iterations': n_iterations, \n",
    "                  'learning_rate':learning_rate, 'early_stopping_round':100, \n",
    "                  'metric':{'mae'}}\n",
    "        params[\"num_leaves\"] = int(round(num_leaves))\n",
    "        params['feature_fraction'] = max(min(feature_fraction, 1), 0)\n",
    "        params['bagging_fraction'] = max(min(bagging_fraction, 1), 0)\n",
    "        params['max_depth'] = int(round(max_depth))\n",
    "        params['lambda_l1'] = max(lambda_l1, 0)\n",
    "        params['lambda_l2'] = max(lambda_l2, 0)\n",
    "        params['min_split_gain'] = min_split_gain\n",
    "        params['min_child_weight'] = min_child_weight\n",
    "        gbm = lgb.cv(params, train_data, nfold=3, early_stopping_rounds=20)\n",
    "        return -min(np.array(gbm['l1-mean'])) # -gbm.best_score['valid_0']['l1']\n",
    "#         gbm = lgb.train(params, train_data, num_boost_round=3000,\n",
    "#                         valid_sets=lgb_eval, early_stopping_rounds=10)\n",
    "    \n",
    "\n",
    "    lgbBO = BayesianOptimization(lgb_eval, {'num_leaves': (24, 45),\n",
    "                                            'feature_fraction': (0.1, 0.9),\n",
    "                                            'bagging_fraction': (0.8, 1),\n",
    "                                            'max_depth': (5, 10),\n",
    "                                            'lambda_l1': (0, 5),\n",
    "                                            'lambda_l2': (0, 3),\n",
    "                                            'min_split_gain': (0.001, 0.1),\n",
    "                                            'min_child_weight': (5, 50)}, random_state=0)\n",
    "    # optimize\n",
    "    lgbBO.maximize(init_points=init_round, n_iter=opt_round)\n",
    "    \n",
    "\n",
    "    return lgbBO\n",
    "\n",
    "opt_params = bayes_parameter_opt_lgb(train_data, lgb_eval)"
   ]
  },
  {
   "cell_type": "code",
   "execution_count": 5,
   "metadata": {},
   "outputs": [
    {
     "data": {
      "text/plain": [
       "[{'target': -0.3850880748785738,\n",
       "  'params': {'bagging_fraction': 0.9930206089804453,\n",
       "   'feature_fraction': 0.8928020095326513,\n",
       "   'lambda_l1': 0.4975860239948754,\n",
       "   'lambda_l2': 2.691237823526113,\n",
       "   'max_depth': 9.654239662932703,\n",
       "   'min_child_weight': 41.41381242424631,\n",
       "   'min_split_gain': 0.01670472500893779,\n",
       "   'num_leaves': 33.22837367467527}},\n",
       " {'target': -0.38555201075603146,\n",
       "  'params': {'bagging_fraction': 0.8054598352148743,\n",
       "   'feature_fraction': 0.8975441212826849,\n",
       "   'lambda_l1': 2.4953362486792763,\n",
       "   'lambda_l2': 2.9942646682994223,\n",
       "   'max_depth': 9.87136147644345,\n",
       "   'min_child_weight': 48.88111169863027,\n",
       "   'min_split_gain': 0.014240225148487579,\n",
       "   'num_leaves': 27.397502172455894}},\n",
       " {'target': -0.3857388999653826,\n",
       "  'params': {'bagging_fraction': 0.8584694037613704,\n",
       "   'feature_fraction': 0.8740981518258352,\n",
       "   'lambda_l1': 0.2674183897134913,\n",
       "   'lambda_l2': 1.7850615152059315,\n",
       "   'max_depth': 9.998325676492389,\n",
       "   'min_child_weight': 40.01956056747095,\n",
       "   'min_split_gain': 0.011291759794116722,\n",
       "   'num_leaves': 24.63264150395895}},\n",
       " {'target': -0.3858301887332059,\n",
       "  'params': {'bagging_fraction': 0.987445056039059,\n",
       "   'feature_fraction': 0.8936199602325269,\n",
       "   'lambda_l1': 4.3293616794097876,\n",
       "   'lambda_l2': 2.8800803272870232,\n",
       "   'max_depth': 9.964455587214935,\n",
       "   'min_child_weight': 48.88971003011883,\n",
       "   'min_split_gain': 0.0032912003809377048,\n",
       "   'num_leaves': 29.2902761400291}},\n",
       " {'target': -0.38586354737393047,\n",
       "  'params': {'bagging_fraction': 0.9113152867037199,\n",
       "   'feature_fraction': 0.875375906187728,\n",
       "   'lambda_l1': 0.4234724702867937,\n",
       "   'lambda_l2': 2.46202963794922,\n",
       "   'max_depth': 9.887050589345025,\n",
       "   'min_child_weight': 48.037285344941765,\n",
       "   'min_split_gain': 0.06327686537568233,\n",
       "   'num_leaves': 24.057230596981924}},\n",
       " {'target': -0.3860313699332305,\n",
       "  'params': {'bagging_fraction': 0.9844639525113343,\n",
       "   'feature_fraction': 0.8846560528520229,\n",
       "   'lambda_l1': 0.03991408834347676,\n",
       "   'lambda_l2': 0.6985017911424837,\n",
       "   'max_depth': 9.844152575584786,\n",
       "   'min_child_weight': 44.538915320196,\n",
       "   'min_split_gain': 0.04127260899514386,\n",
       "   'num_leaves': 25.774512759269175}},\n",
       " {'target': -0.3860453603777419,\n",
       "  'params': {'bagging_fraction': 0.8964506743522563,\n",
       "   'feature_fraction': 0.8890856894667091,\n",
       "   'lambda_l1': 0.018780645040384902,\n",
       "   'lambda_l2': 2.9375183242493614,\n",
       "   'max_depth': 9.757642103072234,\n",
       "   'min_child_weight': 42.003180043434895,\n",
       "   'min_split_gain': 0.01407368503075623,\n",
       "   'num_leaves': 41.39769988883295}},\n",
       " {'target': -0.3860785624629661,\n",
       "  'params': {'bagging_fraction': 0.8933546380901711,\n",
       "   'feature_fraction': 0.8971759972113474,\n",
       "   'lambda_l1': 0.1168109197265288,\n",
       "   'lambda_l2': 0.05837181033087091,\n",
       "   'max_depth': 9.735631564314211,\n",
       "   'min_child_weight': 45.5365780851932,\n",
       "   'min_split_gain': 0.009871251327879731,\n",
       "   'num_leaves': 26.94675760379642}},\n",
       " {'target': -0.3863744128830901,\n",
       "  'params': {'bagging_fraction': 0.8120087914947949,\n",
       "   'feature_fraction': 0.8746167331809763,\n",
       "   'lambda_l1': 0.2846510336271907,\n",
       "   'lambda_l2': 0.15242944955137538,\n",
       "   'max_depth': 9.340600525222598,\n",
       "   'min_child_weight': 48.77851641310993,\n",
       "   'min_split_gain': 0.03780932167156402,\n",
       "   'num_leaves': 32.6357974617183}},\n",
       " {'target': -0.38648911248225687,\n",
       "  'params': {'bagging_fraction': 0.8841594752852691,\n",
       "   'feature_fraction': 0.893988627113321,\n",
       "   'lambda_l1': 0.10503565275223059,\n",
       "   'lambda_l2': 2.871628039667164,\n",
       "   'max_depth': 9.298915190099313,\n",
       "   'min_child_weight': 41.99577003710679,\n",
       "   'min_split_gain': 0.033015194317746806,\n",
       "   'num_leaves': 31.627692174425707}},\n",
       " {'target': -0.3867371412182395,\n",
       "  'params': {'bagging_fraction': 0.96400544259495,\n",
       "   'feature_fraction': 0.8991652383326878,\n",
       "   'lambda_l1': 0.5802871462278564,\n",
       "   'lambda_l2': 2.7285209390162097,\n",
       "   'max_depth': 9.748834485896431,\n",
       "   'min_child_weight': 5.188741564202062,\n",
       "   'min_split_gain': 0.04242669621083388,\n",
       "   'num_leaves': 35.59542795269974}},\n",
       " {'target': -0.3867833820904351,\n",
       "  'params': {'bagging_fraction': 0.9210273007237306,\n",
       "   'feature_fraction': 0.8759231359743817,\n",
       "   'lambda_l1': 0.20923324281282074,\n",
       "   'lambda_l2': 2.6673809322576787,\n",
       "   'max_depth': 9.828995153499807,\n",
       "   'min_child_weight': 49.053804699379825,\n",
       "   'min_split_gain': 0.05285841515007555,\n",
       "   'num_leaves': 35.640643095814426}},\n",
       " {'target': -0.38679699938754813,\n",
       "  'params': {'bagging_fraction': 0.907273993065692,\n",
       "   'feature_fraction': 0.790217103850835,\n",
       "   'lambda_l1': 0.4914137842516275,\n",
       "   'lambda_l2': 2.797628443147246,\n",
       "   'max_depth': 9.996443963067101,\n",
       "   'min_child_weight': 48.44435678218986,\n",
       "   'min_split_gain': 0.011447068428940332,\n",
       "   'num_leaves': 44.77858322111179}},\n",
       " {'target': -0.3867974354748334,\n",
       "  'params': {'bagging_fraction': 0.8642337470468937,\n",
       "   'feature_fraction': 0.883384497784344,\n",
       "   'lambda_l1': 0.2621827064113469,\n",
       "   'lambda_l2': 2.916610102963441,\n",
       "   'max_depth': 9.685637167616475,\n",
       "   'min_child_weight': 5.956828379145272,\n",
       "   'min_split_gain': 0.03216048836096532,\n",
       "   'num_leaves': 33.21183887240136}},\n",
       " {'target': -0.38698914814812196,\n",
       "  'params': {'bagging_fraction': 0.94359435637877,\n",
       "   'feature_fraction': 0.898579134547682,\n",
       "   'lambda_l1': 0.8727279210051286,\n",
       "   'lambda_l2': 2.948415366381027,\n",
       "   'max_depth': 9.584774950785325,\n",
       "   'min_child_weight': 37.43716311394115,\n",
       "   'min_split_gain': 0.015707118931495012,\n",
       "   'num_leaves': 25.061591672062566}},\n",
       " {'target': -0.38725058774021454,\n",
       "  'params': {'bagging_fraction': 0.9151892991112359,\n",
       "   'feature_fraction': 0.8434369580609713,\n",
       "   'lambda_l1': 1.5928447622566182,\n",
       "   'lambda_l2': 2.002231139891045,\n",
       "   'max_depth': 5.658989312021961,\n",
       "   'min_child_weight': 37.23472418533545,\n",
       "   'min_split_gain': 0.029651203201772912,\n",
       "   'num_leaves': 27.847018602149454}},\n",
       " {'target': -0.38753664314390374,\n",
       "  'params': {'bagging_fraction': 0.828266986335988,\n",
       "   'feature_fraction': 0.8093853154033833,\n",
       "   'lambda_l1': 3.7427229266919433,\n",
       "   'lambda_l2': 0.19553231814169258,\n",
       "   'max_depth': 9.565294138040501,\n",
       "   'min_child_weight': 48.76665322991344,\n",
       "   'min_split_gain': 0.007951042189870668,\n",
       "   'num_leaves': 24.009313667703257}},\n",
       " {'target': -0.38796233515755274,\n",
       "  'params': {'bagging_fraction': 0.8422812519522762,\n",
       "   'feature_fraction': 0.8459206533197114,\n",
       "   'lambda_l1': 0.12441632756128473,\n",
       "   'lambda_l2': 2.9147571328065656,\n",
       "   'max_depth': 5.635486901769143,\n",
       "   'min_child_weight': 38.761858078358756,\n",
       "   'min_split_gain': 0.05426438487829363,\n",
       "   'num_leaves': 44.528554401636086}},\n",
       " {'target': -0.38847854175235846,\n",
       "  'params': {'bagging_fraction': 0.9678727474165884,\n",
       "   'feature_fraction': 0.8691868162588677,\n",
       "   'lambda_l1': 0.7588820863959994,\n",
       "   'lambda_l2': 0.4869551410888926,\n",
       "   'max_depth': 9.524696167326827,\n",
       "   'min_child_weight': 7.3456403649276645,\n",
       "   'min_split_gain': 0.0444426046267357,\n",
       "   'num_leaves': 24.429095248311217}},\n",
       " {'target': -0.38851605777931986,\n",
       "  'params': {'bagging_fraction': 0.9675686186615926,\n",
       "   'feature_fraction': 0.8896982917776802,\n",
       "   'lambda_l1': 0.05109098705185111,\n",
       "   'lambda_l2': 2.0295208255382837,\n",
       "   'max_depth': 5.691017900615683,\n",
       "   'min_child_weight': 5.159642109139332,\n",
       "   'min_split_gain': 0.05343408261272284,\n",
       "   'num_leaves': 43.57855978023362}},\n",
       " {'target': -0.38852727601452436,\n",
       "  'params': {'bagging_fraction': 0.8236548851737867,\n",
       "   'feature_fraction': 0.6119368170620191,\n",
       "   'lambda_l1': 0.716766437045232,\n",
       "   'lambda_l2': 2.8340067511487517,\n",
       "   'max_depth': 7.6092416087503585,\n",
       "   'min_child_weight': 23.659787299573562,\n",
       "   'min_split_gain': 0.027191005598358072,\n",
       "   'num_leaves': 40.25890747811855}},\n",
       " {'target': -0.3885389229622706,\n",
       "  'params': {'bagging_fraction': 0.9365565841681698,\n",
       "   'feature_fraction': 0.8723599626575432,\n",
       "   'lambda_l1': 0.03234799821231038,\n",
       "   'lambda_l2': 0.07672683538530212,\n",
       "   'max_depth': 6.7411535016943915,\n",
       "   'min_child_weight': 5.167732863842382,\n",
       "   'min_split_gain': 0.05597944236629941,\n",
       "   'num_leaves': 24.769945863062066}},\n",
       " {'target': -0.38861252166979304,\n",
       "  'params': {'bagging_fraction': 0.9173623521748909,\n",
       "   'feature_fraction': 0.8360782310966371,\n",
       "   'lambda_l1': 0.22273548894200024,\n",
       "   'lambda_l2': 2.9049232023717284,\n",
       "   'max_depth': 5.369768379176439,\n",
       "   'min_child_weight': 48.940789136080824,\n",
       "   'min_split_gain': 0.04045434511261392,\n",
       "   'num_leaves': 38.76708247982962}},\n",
       " {'target': -0.3891072696020806,\n",
       "  'params': {'bagging_fraction': 0.8040436794880652,\n",
       "   'feature_fraction': 0.7660958764383504,\n",
       "   'lambda_l1': 3.8907837547492523,\n",
       "   'lambda_l2': 2.6100364447404574,\n",
       "   'max_depth': 9.89309171116382,\n",
       "   'min_child_weight': 40.96213538975256,\n",
       "   'min_split_gain': 0.04668645686304026,\n",
       "   'num_leaves': 40.39111270201556}},\n",
       " {'target': -0.38918480756878937,\n",
       "  'params': {'bagging_fraction': 0.9938149473784841,\n",
       "   'feature_fraction': 0.8419403707173293,\n",
       "   'lambda_l1': 0.2588305818977049,\n",
       "   'lambda_l2': 2.7479022839703102,\n",
       "   'max_depth': 5.165189250154406,\n",
       "   'min_child_weight': 16.172937294283177,\n",
       "   'min_split_gain': 0.042585321730409985,\n",
       "   'num_leaves': 36.46758843496998}},\n",
       " {'target': -0.38920460338788176,\n",
       "  'params': {'bagging_fraction': 0.909762700785465,\n",
       "   'feature_fraction': 0.6721514930979355,\n",
       "   'lambda_l1': 3.0138168803582195,\n",
       "   'lambda_l2': 1.6346495489906907,\n",
       "   'max_depth': 7.118273996694524,\n",
       "   'min_child_weight': 34.065235087999525,\n",
       "   'min_split_gain': 0.04432113391500656,\n",
       "   'num_leaves': 42.727233016423675}},\n",
       " {'target': -0.38951641330204406,\n",
       "  'params': {'bagging_fraction': 0.8236023078225821,\n",
       "   'feature_fraction': 0.8937358416799989,\n",
       "   'lambda_l1': 4.985008964041277,\n",
       "   'lambda_l2': 2.9883075259807375,\n",
       "   'max_depth': 9.676757355383003,\n",
       "   'min_child_weight': 31.461345044354953,\n",
       "   'min_split_gain': 0.060196572719756834,\n",
       "   'num_leaves': 24.472169201316127}},\n",
       " {'target': -0.3897440842718453,\n",
       "  'params': {'bagging_fraction': 0.8218462901061384,\n",
       "   'feature_fraction': 0.8752403853327583,\n",
       "   'lambda_l1': 3.7666695679503945,\n",
       "   'lambda_l2': 0.0639732227706531,\n",
       "   'max_depth': 5.581744443241742,\n",
       "   'min_child_weight': 48.30027421124234,\n",
       "   'min_split_gain': 0.08838127681598192,\n",
       "   'num_leaves': 24.56906698774787}},\n",
       " {'target': -0.3899114179252918,\n",
       "  'params': {'bagging_fraction': 0.9953522176380674,\n",
       "   'feature_fraction': 0.5838764157960368,\n",
       "   'lambda_l1': 3.6963178969915083,\n",
       "   'lambda_l2': 0.11756337676296202,\n",
       "   'max_depth': 6.414034812882048,\n",
       "   'min_child_weight': 10.4088452545926,\n",
       "   'min_split_gain': 0.03031787955469235,\n",
       "   'num_leaves': 26.493282098039124}},\n",
       " {'target': -0.39035070947108047,\n",
       "  'params': {'bagging_fraction': 0.9927325521002058,\n",
       "   'feature_fraction': 0.40675321506062223,\n",
       "   'lambda_l1': 3.958625190413323,\n",
       "   'lambda_l2': 1.5866847592587134,\n",
       "   'max_depth': 7.840222805469661,\n",
       "   'min_child_weight': 46.65184872316975,\n",
       "   'min_split_gain': 0.008032569761590808,\n",
       "   'num_leaves': 25.829715293732356}},\n",
       " {'target': -0.39047200106321495,\n",
       "  'params': {'bagging_fraction': 0.8719015801147573,\n",
       "   'feature_fraction': 0.4496255630394732,\n",
       "   'lambda_l1': 3.4881559796363244,\n",
       "   'lambda_l2': 0.1806764148878095,\n",
       "   'max_depth': 8.333833577228338,\n",
       "   'min_child_weight': 35.178704132817174,\n",
       "   'min_split_gain': 0.02182787354631025,\n",
       "   'num_leaves': 26.70745225075192}},\n",
       " {'target': -0.3906544417063141,\n",
       "  'params': {'bagging_fraction': 0.8678294702639751,\n",
       "   'feature_fraction': 0.8886988339259476,\n",
       "   'lambda_l1': 4.562324498745286,\n",
       "   'lambda_l2': 2.949138581738202,\n",
       "   'max_depth': 6.328143250768452,\n",
       "   'min_child_weight': 7.762331196278801,\n",
       "   'min_split_gain': 0.0967024903278279,\n",
       "   'num_leaves': 24.899306698752863}},\n",
       " {'target': -0.39083253498033604,\n",
       "  'params': {'bagging_fraction': 0.8912300664433097,\n",
       "   'feature_fraction': 0.5547471590949188,\n",
       "   'lambda_l1': 0.09394900218177571,\n",
       "   'lambda_l2': 1.8529064912276312,\n",
       "   'max_depth': 8.060478613612107,\n",
       "   'min_child_weight': 32.76202985936406,\n",
       "   'min_split_gain': 0.0944310597729478,\n",
       "   'num_leaves': 38.31822628117315}},\n",
       " {'target': -0.39088434028463603,\n",
       "  'params': {'bagging_fraction': 0.8497506287039917,\n",
       "   'feature_fraction': 0.5609258675342695,\n",
       "   'lambda_l1': 2.9602096563591953,\n",
       "   'lambda_l2': 1.71675571737262,\n",
       "   'max_depth': 6.115408163203091,\n",
       "   'min_child_weight': 47.87370551826432,\n",
       "   'min_split_gain': 0.04526541248314511,\n",
       "   'num_leaves': 41.77458212189369}},\n",
       " {'target': -0.3921021080363951,\n",
       "  'params': {'bagging_fraction': 0.8630856701848368,\n",
       "   'feature_fraction': 0.3909686167540981,\n",
       "   'lambda_l1': 2.8509838520893984,\n",
       "   'lambda_l2': 1.315804540386961,\n",
       "   'max_depth': 9.941869190296131,\n",
       "   'min_child_weight': 9.592016483661263,\n",
       "   'min_split_gain': 0.021678798853388637,\n",
       "   'num_leaves': 27.387499875584922}},\n",
       " {'target': -0.3922644477823916,\n",
       "  'params': {'bagging_fraction': 0.8635966358787952,\n",
       "   'feature_fraction': 0.431410395611736,\n",
       "   'lambda_l1': 0.3207374817439218,\n",
       "   'lambda_l2': 2.0774163581100593,\n",
       "   'max_depth': 7.8330072710328755,\n",
       "   'min_child_weight': 16.942527092275043,\n",
       "   'min_split_gain': 0.05280155729320327,\n",
       "   'num_leaves': 25.972750725927277}},\n",
       " {'target': -0.3963829042183415,\n",
       "  'params': {'bagging_fraction': 0.8393164723360107,\n",
       "   'feature_fraction': 0.3949801365287713,\n",
       "   'lambda_l1': 4.104966149239676,\n",
       "   'lambda_l2': 0.2913038273791838,\n",
       "   'max_depth': 9.189724537494019,\n",
       "   'min_child_weight': 9.324428355228338,\n",
       "   'min_split_gain': 0.09766948703632619,\n",
       "   'num_leaves': 33.84167523460174}},\n",
       " {'target': -0.39638808884769633,\n",
       "  'params': {'bagging_fraction': 0.9306216650930796,\n",
       "   'feature_fraction': 0.3026332820318257,\n",
       "   'lambda_l1': 2.331553864281531,\n",
       "   'lambda_l2': 0.7332767760048082,\n",
       "   'max_depth': 5.794847918227599,\n",
       "   'min_child_weight': 9.966881352393731,\n",
       "   'min_split_gain': 0.06597662935706207,\n",
       "   'num_leaves': 26.90184197832089}},\n",
       " {'target': -0.39851199929427494,\n",
       "  'params': {'bagging_fraction': 0.9398958550635008,\n",
       "   'feature_fraction': 0.337949560684107,\n",
       "   'lambda_l1': 4.068989098512386,\n",
       "   'lambda_l2': 1.189517222540954,\n",
       "   'max_depth': 9.405515985555809,\n",
       "   'min_child_weight': 31.157279268613642,\n",
       "   'min_split_gain': 0.08829180082363043,\n",
       "   'num_leaves': 38.54316339163309}},\n",
       " {'target': -0.40517594940003615,\n",
       "  'params': {'bagging_fraction': 0.9173025869620166,\n",
       "   'feature_fraction': 0.11608603694999485,\n",
       "   'lambda_l1': 4.144700146086816,\n",
       "   'lambda_l2': 0.014086428577641197,\n",
       "   'max_depth': 8.389082683981151,\n",
       "   'min_child_weight': 17.15035879364742,\n",
       "   'min_split_gain': 0.0737842081901369,\n",
       "   'num_leaves': 44.2059594474662}}]"
      ]
     },
     "execution_count": 5,
     "metadata": {},
     "output_type": "execute_result"
    }
   ],
   "source": [
    "sorted(opt_params.res, key = lambda x: -x['target'])"
   ]
  }
 ],
 "metadata": {
  "kernelspec": {
   "display_name": "Python 3",
   "language": "python",
   "name": "python3"
  },
  "language_info": {
   "codemirror_mode": {
    "name": "ipython",
    "version": 3
   },
   "file_extension": ".py",
   "mimetype": "text/x-python",
   "name": "python",
   "nbconvert_exporter": "python",
   "pygments_lexer": "ipython3",
   "version": "3.6.6"
  }
 },
 "nbformat": 4,
 "nbformat_minor": 2
}
