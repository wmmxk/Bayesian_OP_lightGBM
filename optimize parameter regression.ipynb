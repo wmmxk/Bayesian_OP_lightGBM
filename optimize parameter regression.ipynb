{
 "cells": [
  {
   "cell_type": "code",
   "execution_count": 1,
   "metadata": {
    "scrolled": false
   },
   "outputs": [
    {
     "name": "stdout",
     "output_type": "stream",
     "text": [
      "[1]\tvalid_0's l1: 0.496232\n",
      "Training until validation scores don't improve for 10 rounds.\n",
      "[2]\tvalid_0's l1: 0.494701\n",
      "[3]\tvalid_0's l1: 0.493282\n",
      "[4]\tvalid_0's l1: 0.492212\n",
      "[5]\tvalid_0's l1: 0.490486\n",
      "[6]\tvalid_0's l1: 0.488977\n",
      "[7]\tvalid_0's l1: 0.48754\n",
      "[8]\tvalid_0's l1: 0.486135\n",
      "[9]\tvalid_0's l1: 0.48488\n",
      "[10]\tvalid_0's l1: 0.483417\n",
      "[11]\tvalid_0's l1: 0.482388\n",
      "[12]\tvalid_0's l1: 0.480743\n",
      "[13]\tvalid_0's l1: 0.480059\n",
      "[14]\tvalid_0's l1: 0.478711\n",
      "[15]\tvalid_0's l1: 0.477369\n",
      "[16]\tvalid_0's l1: 0.476113\n",
      "[17]\tvalid_0's l1: 0.474724\n",
      "[18]\tvalid_0's l1: 0.473703\n",
      "[19]\tvalid_0's l1: 0.472454\n",
      "[20]\tvalid_0's l1: 0.471162\n",
      "[21]\tvalid_0's l1: 0.469788\n",
      "[22]\tvalid_0's l1: 0.468557\n",
      "[23]\tvalid_0's l1: 0.46733\n",
      "[24]\tvalid_0's l1: 0.465964\n",
      "[25]\tvalid_0's l1: 0.465133\n",
      "[26]\tvalid_0's l1: 0.463945\n",
      "[27]\tvalid_0's l1: 0.462769\n",
      "[28]\tvalid_0's l1: 0.4614\n",
      "[29]\tvalid_0's l1: 0.460348\n",
      "[30]\tvalid_0's l1: 0.459473\n",
      "[31]\tvalid_0's l1: 0.458381\n",
      "[32]\tvalid_0's l1: 0.457143\n",
      "[33]\tvalid_0's l1: 0.455867\n",
      "[34]\tvalid_0's l1: 0.454575\n",
      "[35]\tvalid_0's l1: 0.453425\n",
      "[36]\tvalid_0's l1: 0.452646\n",
      "[37]\tvalid_0's l1: 0.451597\n",
      "[38]\tvalid_0's l1: 0.450554\n",
      "[39]\tvalid_0's l1: 0.449362\n",
      "[40]\tvalid_0's l1: 0.448309\n",
      "[41]\tvalid_0's l1: 0.447336\n",
      "[42]\tvalid_0's l1: 0.446382\n",
      "[43]\tvalid_0's l1: 0.445813\n",
      "[44]\tvalid_0's l1: 0.444833\n",
      "[45]\tvalid_0's l1: 0.443652\n",
      "[46]\tvalid_0's l1: 0.442569\n",
      "[47]\tvalid_0's l1: 0.441638\n",
      "[48]\tvalid_0's l1: 0.440677\n",
      "[49]\tvalid_0's l1: 0.439773\n",
      "[50]\tvalid_0's l1: 0.438746\n",
      "[51]\tvalid_0's l1: 0.437932\n",
      "[52]\tvalid_0's l1: 0.436912\n",
      "[53]\tvalid_0's l1: 0.436034\n",
      "[54]\tvalid_0's l1: 0.435632\n",
      "[55]\tvalid_0's l1: 0.434807\n",
      "[56]\tvalid_0's l1: 0.433921\n",
      "[57]\tvalid_0's l1: 0.433132\n",
      "[58]\tvalid_0's l1: 0.43239\n",
      "[59]\tvalid_0's l1: 0.431557\n",
      "[60]\tvalid_0's l1: 0.43078\n",
      "[61]\tvalid_0's l1: 0.429892\n",
      "[62]\tvalid_0's l1: 0.429129\n",
      "[63]\tvalid_0's l1: 0.428296\n",
      "[64]\tvalid_0's l1: 0.42779\n",
      "[65]\tvalid_0's l1: 0.4269\n",
      "[66]\tvalid_0's l1: 0.426016\n",
      "[67]\tvalid_0's l1: 0.425117\n",
      "[68]\tvalid_0's l1: 0.42435\n",
      "[69]\tvalid_0's l1: 0.423492\n",
      "[70]\tvalid_0's l1: 0.422732\n",
      "[71]\tvalid_0's l1: 0.421947\n",
      "[72]\tvalid_0's l1: 0.421322\n",
      "[73]\tvalid_0's l1: 0.420574\n",
      "[74]\tvalid_0's l1: 0.419762\n",
      "[75]\tvalid_0's l1: 0.419101\n",
      "[76]\tvalid_0's l1: 0.418434\n",
      "[77]\tvalid_0's l1: 0.417958\n",
      "[78]\tvalid_0's l1: 0.41747\n",
      "[79]\tvalid_0's l1: 0.416922\n",
      "[80]\tvalid_0's l1: 0.416356\n",
      "[81]\tvalid_0's l1: 0.415607\n",
      "[82]\tvalid_0's l1: 0.414894\n",
      "[83]\tvalid_0's l1: 0.414311\n",
      "[84]\tvalid_0's l1: 0.413562\n",
      "[85]\tvalid_0's l1: 0.412915\n",
      "[86]\tvalid_0's l1: 0.41223\n",
      "[87]\tvalid_0's l1: 0.41159\n",
      "[88]\tvalid_0's l1: 0.410905\n",
      "[89]\tvalid_0's l1: 0.410106\n",
      "[90]\tvalid_0's l1: 0.40939\n",
      "[91]\tvalid_0's l1: 0.408689\n",
      "[92]\tvalid_0's l1: 0.408027\n",
      "[93]\tvalid_0's l1: 0.407488\n",
      "[94]\tvalid_0's l1: 0.406883\n",
      "[95]\tvalid_0's l1: 0.406306\n",
      "[96]\tvalid_0's l1: 0.405952\n",
      "[97]\tvalid_0's l1: 0.405403\n",
      "[98]\tvalid_0's l1: 0.404829\n",
      "[99]\tvalid_0's l1: 0.404289\n",
      "[100]\tvalid_0's l1: 0.403553\n",
      "[101]\tvalid_0's l1: 0.403023\n",
      "[102]\tvalid_0's l1: 0.402422\n",
      "[103]\tvalid_0's l1: 0.401993\n",
      "[104]\tvalid_0's l1: 0.401371\n",
      "[105]\tvalid_0's l1: 0.400772\n",
      "[106]\tvalid_0's l1: 0.400173\n",
      "[107]\tvalid_0's l1: 0.399572\n",
      "[108]\tvalid_0's l1: 0.399039\n",
      "[109]\tvalid_0's l1: 0.398479\n",
      "[110]\tvalid_0's l1: 0.397876\n",
      "[111]\tvalid_0's l1: 0.397383\n",
      "[112]\tvalid_0's l1: 0.396933\n",
      "[113]\tvalid_0's l1: 0.396381\n",
      "[114]\tvalid_0's l1: 0.395942\n",
      "[115]\tvalid_0's l1: 0.395579\n",
      "[116]\tvalid_0's l1: 0.395019\n",
      "[117]\tvalid_0's l1: 0.394418\n",
      "[118]\tvalid_0's l1: 0.39397\n",
      "[119]\tvalid_0's l1: 0.393412\n",
      "[120]\tvalid_0's l1: 0.392823\n",
      "[121]\tvalid_0's l1: 0.392336\n",
      "[122]\tvalid_0's l1: 0.391909\n",
      "[123]\tvalid_0's l1: 0.391378\n",
      "[124]\tvalid_0's l1: 0.390917\n",
      "[125]\tvalid_0's l1: 0.390458\n",
      "[126]\tvalid_0's l1: 0.390055\n",
      "[127]\tvalid_0's l1: 0.38963\n",
      "[128]\tvalid_0's l1: 0.389087\n",
      "[129]\tvalid_0's l1: 0.388678\n",
      "[130]\tvalid_0's l1: 0.388255\n",
      "[131]\tvalid_0's l1: 0.387778\n",
      "[132]\tvalid_0's l1: 0.387345\n",
      "[133]\tvalid_0's l1: 0.386917\n",
      "[134]\tvalid_0's l1: 0.386524\n",
      "[135]\tvalid_0's l1: 0.385978\n",
      "[136]\tvalid_0's l1: 0.385649\n",
      "[137]\tvalid_0's l1: 0.385095\n",
      "[138]\tvalid_0's l1: 0.384717\n",
      "[139]\tvalid_0's l1: 0.384278\n",
      "[140]\tvalid_0's l1: 0.383879\n",
      "[141]\tvalid_0's l1: 0.3834\n",
      "[142]\tvalid_0's l1: 0.383017\n",
      "[143]\tvalid_0's l1: 0.382679\n",
      "[144]\tvalid_0's l1: 0.382338\n",
      "[145]\tvalid_0's l1: 0.381963\n",
      "[146]\tvalid_0's l1: 0.381643\n",
      "[147]\tvalid_0's l1: 0.381264\n",
      "[148]\tvalid_0's l1: 0.380868\n",
      "[149]\tvalid_0's l1: 0.380497\n",
      "[150]\tvalid_0's l1: 0.380233\n",
      "[151]\tvalid_0's l1: 0.379838\n",
      "[152]\tvalid_0's l1: 0.379557\n",
      "[153]\tvalid_0's l1: 0.379123\n",
      "[154]\tvalid_0's l1: 0.378617\n",
      "[155]\tvalid_0's l1: 0.378367\n",
      "[156]\tvalid_0's l1: 0.37803\n",
      "[157]\tvalid_0's l1: 0.377734\n",
      "[158]\tvalid_0's l1: 0.37743\n",
      "[159]\tvalid_0's l1: 0.377174\n",
      "[160]\tvalid_0's l1: 0.376875\n",
      "[161]\tvalid_0's l1: 0.376506\n",
      "[162]\tvalid_0's l1: 0.376151\n",
      "[163]\tvalid_0's l1: 0.375826\n",
      "[164]\tvalid_0's l1: 0.375515\n",
      "[165]\tvalid_0's l1: 0.375208\n",
      "[166]\tvalid_0's l1: 0.37496\n",
      "[167]\tvalid_0's l1: 0.374558\n",
      "[168]\tvalid_0's l1: 0.374159\n",
      "[169]\tvalid_0's l1: 0.373809\n",
      "[170]\tvalid_0's l1: 0.373434\n",
      "[171]\tvalid_0's l1: 0.372963\n",
      "[172]\tvalid_0's l1: 0.372696\n",
      "[173]\tvalid_0's l1: 0.372285\n",
      "[174]\tvalid_0's l1: 0.372019\n",
      "[175]\tvalid_0's l1: 0.37178\n",
      "[176]\tvalid_0's l1: 0.371492\n",
      "[177]\tvalid_0's l1: 0.371221\n",
      "[178]\tvalid_0's l1: 0.37083\n",
      "[179]\tvalid_0's l1: 0.370559\n",
      "[180]\tvalid_0's l1: 0.37029\n",
      "[181]\tvalid_0's l1: 0.370151\n",
      "[182]\tvalid_0's l1: 0.369824\n",
      "[183]\tvalid_0's l1: 0.369619\n",
      "[184]\tvalid_0's l1: 0.369457\n",
      "[185]\tvalid_0's l1: 0.369324\n",
      "[186]\tvalid_0's l1: 0.368938\n",
      "[187]\tvalid_0's l1: 0.36875\n",
      "[188]\tvalid_0's l1: 0.3685\n",
      "[189]\tvalid_0's l1: 0.368344\n",
      "[190]\tvalid_0's l1: 0.367988\n",
      "[191]\tvalid_0's l1: 0.367733\n",
      "[192]\tvalid_0's l1: 0.367529\n",
      "[193]\tvalid_0's l1: 0.367263\n",
      "[194]\tvalid_0's l1: 0.367079\n",
      "[195]\tvalid_0's l1: 0.366945\n",
      "[196]\tvalid_0's l1: 0.366705\n",
      "[197]\tvalid_0's l1: 0.366416\n",
      "[198]\tvalid_0's l1: 0.36615\n",
      "[199]\tvalid_0's l1: 0.366048\n",
      "[200]\tvalid_0's l1: 0.365799\n",
      "[201]\tvalid_0's l1: 0.365593\n",
      "[202]\tvalid_0's l1: 0.365312\n",
      "[203]\tvalid_0's l1: 0.365138\n",
      "[204]\tvalid_0's l1: 0.365021\n",
      "[205]\tvalid_0's l1: 0.364858\n",
      "[206]\tvalid_0's l1: 0.364592\n",
      "[207]\tvalid_0's l1: 0.364252\n",
      "[208]\tvalid_0's l1: 0.363996\n",
      "[209]\tvalid_0's l1: 0.363833\n",
      "[210]\tvalid_0's l1: 0.363637\n",
      "[211]\tvalid_0's l1: 0.363417\n",
      "[212]\tvalid_0's l1: 0.363287\n",
      "[213]\tvalid_0's l1: 0.363051\n",
      "[214]\tvalid_0's l1: 0.362905\n",
      "[215]\tvalid_0's l1: 0.362732\n",
      "[216]\tvalid_0's l1: 0.362481\n",
      "[217]\tvalid_0's l1: 0.362303\n",
      "[218]\tvalid_0's l1: 0.362159\n",
      "[219]\tvalid_0's l1: 0.361875\n",
      "[220]\tvalid_0's l1: 0.361758\n",
      "[221]\tvalid_0's l1: 0.361577\n",
      "[222]\tvalid_0's l1: 0.361276\n",
      "[223]\tvalid_0's l1: 0.361015\n",
      "[224]\tvalid_0's l1: 0.360778\n",
      "[225]\tvalid_0's l1: 0.360642\n",
      "[226]\tvalid_0's l1: 0.360372\n",
      "[227]\tvalid_0's l1: 0.360251\n",
      "[228]\tvalid_0's l1: 0.360057\n",
      "[229]\tvalid_0's l1: 0.359903\n",
      "[230]\tvalid_0's l1: 0.359768\n",
      "[231]\tvalid_0's l1: 0.359664\n",
      "[232]\tvalid_0's l1: 0.359426\n",
      "[233]\tvalid_0's l1: 0.359234\n",
      "[234]\tvalid_0's l1: 0.358988\n",
      "[235]\tvalid_0's l1: 0.358842\n",
      "[236]\tvalid_0's l1: 0.358747\n",
      "[237]\tvalid_0's l1: 0.358562\n",
      "[238]\tvalid_0's l1: 0.358316\n",
      "[239]\tvalid_0's l1: 0.358156\n",
      "[240]\tvalid_0's l1: 0.357955\n",
      "[241]\tvalid_0's l1: 0.357777\n",
      "[242]\tvalid_0's l1: 0.3576\n",
      "[243]\tvalid_0's l1: 0.357351\n",
      "[244]\tvalid_0's l1: 0.35725\n",
      "[245]\tvalid_0's l1: 0.357139\n",
      "[246]\tvalid_0's l1: 0.356957\n",
      "[247]\tvalid_0's l1: 0.356744\n",
      "[248]\tvalid_0's l1: 0.356484\n",
      "[249]\tvalid_0's l1: 0.356322\n",
      "[250]\tvalid_0's l1: 0.356198\n",
      "[251]\tvalid_0's l1: 0.356057\n",
      "[252]\tvalid_0's l1: 0.355874\n",
      "[253]\tvalid_0's l1: 0.355665\n",
      "[254]\tvalid_0's l1: 0.355575\n",
      "[255]\tvalid_0's l1: 0.355314\n",
      "[256]\tvalid_0's l1: 0.355119\n",
      "[257]\tvalid_0's l1: 0.354876\n",
      "[258]\tvalid_0's l1: 0.354643\n",
      "[259]\tvalid_0's l1: 0.354491\n",
      "[260]\tvalid_0's l1: 0.354314\n",
      "[261]\tvalid_0's l1: 0.354266\n",
      "[262]\tvalid_0's l1: 0.354073\n",
      "[263]\tvalid_0's l1: 0.353863\n",
      "[264]\tvalid_0's l1: 0.353724\n",
      "[265]\tvalid_0's l1: 0.353557\n",
      "[266]\tvalid_0's l1: 0.353463\n",
      "[267]\tvalid_0's l1: 0.35328\n",
      "[268]\tvalid_0's l1: 0.353187\n",
      "[269]\tvalid_0's l1: 0.353001\n",
      "[270]\tvalid_0's l1: 0.352915\n",
      "[271]\tvalid_0's l1: 0.352771\n",
      "[272]\tvalid_0's l1: 0.352532\n",
      "[273]\tvalid_0's l1: 0.352419\n",
      "[274]\tvalid_0's l1: 0.352182\n",
      "[275]\tvalid_0's l1: 0.352051\n",
      "[276]\tvalid_0's l1: 0.351853\n",
      "[277]\tvalid_0's l1: 0.35173\n",
      "[278]\tvalid_0's l1: 0.351646\n",
      "[279]\tvalid_0's l1: 0.351516\n",
      "[280]\tvalid_0's l1: 0.35132\n",
      "[281]\tvalid_0's l1: 0.351233\n",
      "[282]\tvalid_0's l1: 0.351083\n",
      "[283]\tvalid_0's l1: 0.35095\n",
      "[284]\tvalid_0's l1: 0.350727\n",
      "[285]\tvalid_0's l1: 0.350545\n",
      "[286]\tvalid_0's l1: 0.350326\n",
      "[287]\tvalid_0's l1: 0.350193\n",
      "[288]\tvalid_0's l1: 0.350005\n",
      "[289]\tvalid_0's l1: 0.349919\n",
      "[290]\tvalid_0's l1: 0.349826\n",
      "[291]\tvalid_0's l1: 0.349643\n",
      "[292]\tvalid_0's l1: 0.34943\n"
     ]
    },
    {
     "name": "stdout",
     "output_type": "stream",
     "text": [
      "[293]\tvalid_0's l1: 0.349278\n",
      "[294]\tvalid_0's l1: 0.349078\n",
      "[295]\tvalid_0's l1: 0.34893\n",
      "[296]\tvalid_0's l1: 0.348836\n",
      "[297]\tvalid_0's l1: 0.348658\n",
      "[298]\tvalid_0's l1: 0.348423\n",
      "[299]\tvalid_0's l1: 0.348304\n",
      "[300]\tvalid_0's l1: 0.348182\n",
      "Did not meet early stopping. Best iteration is:\n",
      "[300]\tvalid_0's l1: 0.348182\n",
      "the shape of y_pred (7000,)\n",
      "the shape of y_truth (7000,)\n",
      "5612\n"
     ]
    }
   ],
   "source": [
    "import lightgbm as lgb\n",
    "import pandas as pd\n",
    "import numpy as np\n",
    "from bayes_opt import BayesianOptimization\n",
    "\n",
    "df_train = pd.read_csv(\"./regression.train\", header=None, sep=\"\\t\")\n",
    "y = df_train[0]\n",
    "X = df_train.drop(0, axis=1)\n",
    "\n",
    "\n",
    "df_test = pd.read_csv(\"./regression.test\", header=None, sep=\"\\t\")\n",
    "y_test = df_train[0]\n",
    "X_test = df_train.drop(0, axis=1)\n",
    "\n",
    "train_data = lgb.Dataset(data=X, label=y)\n",
    "lgb_eval = lgb.Dataset(X_test, y_test, reference=train_data)\n",
    "\n",
    "params = {'boosting_type': 'gbdt',\n",
    "          'objective': 'regression',\n",
    "          'metric': {'mae'},\n",
    "         'num_leaves': 24,\n",
    "        'feature_fraction': 0.7,\n",
    "        'bagging_fraction': 0.85,\n",
    "        'max_depth': 5,\n",
    "         'learning_rate': 0.02,\n",
    "        'lambda_l1': 1,\n",
    "        'lambda_l2': 1,\n",
    "        'min_split_gain': 0.01,\n",
    "        'min_child_weight': 10}\n",
    "\n",
    "gbm = lgb.train(params, train_data, num_boost_round=300, valid_sets=lgb_eval, early_stopping_rounds=10)\n",
    "\n",
    "y_pred = gbm.predict(X_test, num_iteration=gbm.best_iteration)\n",
    "print(\"the shape of y_pred\", y_pred.shape)\n",
    "print(\"the shape of y_truth\", y_test.shape)\n",
    "print(sum((y_pred > 0.5) == y_test))\n",
    "                                    "
   ]
  },
  {
   "cell_type": "code",
   "execution_count": 2,
   "metadata": {},
   "outputs": [],
   "source": [
    "gbm = lgb.cv(params, train_data, nfold=3)"
   ]
  },
  {
   "cell_type": "code",
   "execution_count": null,
   "metadata": {},
   "outputs": [
    {
     "name": "stdout",
     "output_type": "stream",
     "text": [
      "|   iter    |  target   | baggin... | featur... | lambda_l1 | lambda_l2 | max_depth | min_ch... | min_sp... | num_le... |\n",
      "-------------------------------------------------------------------------------------------------------------------------\n"
     ]
    },
    {
     "name": "stderr",
     "output_type": "stream",
     "text": [
      "/home/wxk/anaconda3/envs/whale/lib/python3.6/site-packages/lightgbm/engine.py:430: UserWarning: Found `num_iterations` in params. Will use it instead of argument\n",
      "  warnings.warn(\"Found `{}` in params. Will use it instead of argument\".format(alias))\n",
      "/home/wxk/anaconda3/envs/whale/lib/python3.6/site-packages/lightgbm/engine.py:435: UserWarning: Found `early_stopping_round` in params. Will use it instead of argument\n",
      "  warnings.warn(\"Found `{}` in params. Will use it instead of argument\".format(alias))\n"
     ]
    },
    {
     "name": "stdout",
     "output_type": "stream",
     "text": [
      "| \u001b[0m 1       \u001b[0m | \u001b[0m-0.3892  \u001b[0m | \u001b[0m 0.9098  \u001b[0m | \u001b[0m 0.6722  \u001b[0m | \u001b[0m 3.014   \u001b[0m | \u001b[0m 1.635   \u001b[0m | \u001b[0m 7.118   \u001b[0m | \u001b[0m 34.07   \u001b[0m | \u001b[0m 0.04432 \u001b[0m | \u001b[0m 42.73   \u001b[0m |\n"
     ]
    },
    {
     "name": "stderr",
     "output_type": "stream",
     "text": [
      "/home/wxk/anaconda3/envs/whale/lib/python3.6/site-packages/lightgbm/engine.py:430: UserWarning: Found `num_iterations` in params. Will use it instead of argument\n",
      "  warnings.warn(\"Found `{}` in params. Will use it instead of argument\".format(alias))\n",
      "/home/wxk/anaconda3/envs/whale/lib/python3.6/site-packages/lightgbm/engine.py:435: UserWarning: Found `early_stopping_round` in params. Will use it instead of argument\n",
      "  warnings.warn(\"Found `{}` in params. Will use it instead of argument\".format(alias))\n"
     ]
    },
    {
     "name": "stdout",
     "output_type": "stream",
     "text": [
      "| \u001b[0m 2       \u001b[0m | \u001b[0m-0.3904  \u001b[0m | \u001b[0m 0.9927  \u001b[0m | \u001b[0m 0.4068  \u001b[0m | \u001b[0m 3.959   \u001b[0m | \u001b[0m 1.587   \u001b[0m | \u001b[0m 7.84    \u001b[0m | \u001b[0m 46.65   \u001b[0m | \u001b[0m 0.008033\u001b[0m | \u001b[0m 25.83   \u001b[0m |\n"
     ]
    },
    {
     "name": "stderr",
     "output_type": "stream",
     "text": [
      "/home/wxk/anaconda3/envs/whale/lib/python3.6/site-packages/lightgbm/engine.py:430: UserWarning: Found `num_iterations` in params. Will use it instead of argument\n",
      "  warnings.warn(\"Found `{}` in params. Will use it instead of argument\".format(alias))\n",
      "/home/wxk/anaconda3/envs/whale/lib/python3.6/site-packages/lightgbm/engine.py:435: UserWarning: Found `early_stopping_round` in params. Will use it instead of argument\n",
      "  warnings.warn(\"Found `{}` in params. Will use it instead of argument\".format(alias))\n"
     ]
    },
    {
     "name": "stdout",
     "output_type": "stream",
     "text": [
      "| \u001b[95m 3       \u001b[0m | \u001b[95m-0.3891  \u001b[0m | \u001b[95m 0.804   \u001b[0m | \u001b[95m 0.7661  \u001b[0m | \u001b[95m 3.891   \u001b[0m | \u001b[95m 2.61    \u001b[0m | \u001b[95m 9.893   \u001b[0m | \u001b[95m 40.96   \u001b[0m | \u001b[95m 0.04669 \u001b[0m | \u001b[95m 40.39   \u001b[0m |\n"
     ]
    },
    {
     "name": "stderr",
     "output_type": "stream",
     "text": [
      "/home/wxk/anaconda3/envs/whale/lib/python3.6/site-packages/lightgbm/engine.py:430: UserWarning: Found `num_iterations` in params. Will use it instead of argument\n",
      "  warnings.warn(\"Found `{}` in params. Will use it instead of argument\".format(alias))\n",
      "/home/wxk/anaconda3/envs/whale/lib/python3.6/site-packages/lightgbm/engine.py:435: UserWarning: Found `early_stopping_round` in params. Will use it instead of argument\n",
      "  warnings.warn(\"Found `{}` in params. Will use it instead of argument\".format(alias))\n"
     ]
    },
    {
     "name": "stdout",
     "output_type": "stream",
     "text": [
      "| \u001b[95m 4       \u001b[0m | \u001b[95m-0.3885  \u001b[0m | \u001b[95m 0.8237  \u001b[0m | \u001b[95m 0.6119  \u001b[0m | \u001b[95m 0.7168  \u001b[0m | \u001b[95m 2.834   \u001b[0m | \u001b[95m 7.609   \u001b[0m | \u001b[95m 23.66   \u001b[0m | \u001b[95m 0.02719 \u001b[0m | \u001b[95m 40.26   \u001b[0m |\n"
     ]
    },
    {
     "name": "stderr",
     "output_type": "stream",
     "text": [
      "/home/wxk/anaconda3/envs/whale/lib/python3.6/site-packages/lightgbm/engine.py:430: UserWarning: Found `num_iterations` in params. Will use it instead of argument\n",
      "  warnings.warn(\"Found `{}` in params. Will use it instead of argument\".format(alias))\n",
      "/home/wxk/anaconda3/envs/whale/lib/python3.6/site-packages/lightgbm/engine.py:435: UserWarning: Found `early_stopping_round` in params. Will use it instead of argument\n",
      "  warnings.warn(\"Found `{}` in params. Will use it instead of argument\".format(alias))\n"
     ]
    },
    {
     "name": "stdout",
     "output_type": "stream",
     "text": [
      "| \u001b[0m 5       \u001b[0m | \u001b[0m-0.3908  \u001b[0m | \u001b[0m 0.8912  \u001b[0m | \u001b[0m 0.5547  \u001b[0m | \u001b[0m 0.09395 \u001b[0m | \u001b[0m 1.853   \u001b[0m | \u001b[0m 8.06    \u001b[0m | \u001b[0m 32.76   \u001b[0m | \u001b[0m 0.09443 \u001b[0m | \u001b[0m 38.32   \u001b[0m |\n"
     ]
    },
    {
     "name": "stderr",
     "output_type": "stream",
     "text": [
      "/home/wxk/anaconda3/envs/whale/lib/python3.6/site-packages/lightgbm/engine.py:430: UserWarning: Found `num_iterations` in params. Will use it instead of argument\n",
      "  warnings.warn(\"Found `{}` in params. Will use it instead of argument\".format(alias))\n",
      "/home/wxk/anaconda3/envs/whale/lib/python3.6/site-packages/lightgbm/engine.py:435: UserWarning: Found `early_stopping_round` in params. Will use it instead of argument\n",
      "  warnings.warn(\"Found `{}` in params. Will use it instead of argument\".format(alias))\n"
     ]
    },
    {
     "name": "stdout",
     "output_type": "stream",
     "text": [
      "| \u001b[0m 6       \u001b[0m | \u001b[0m-0.3905  \u001b[0m | \u001b[0m 0.8719  \u001b[0m | \u001b[0m 0.4496  \u001b[0m | \u001b[0m 3.488   \u001b[0m | \u001b[0m 0.1807  \u001b[0m | \u001b[0m 8.334   \u001b[0m | \u001b[0m 35.18   \u001b[0m | \u001b[0m 0.02183 \u001b[0m | \u001b[0m 26.71   \u001b[0m |\n"
     ]
    },
    {
     "name": "stderr",
     "output_type": "stream",
     "text": [
      "/home/wxk/anaconda3/envs/whale/lib/python3.6/site-packages/lightgbm/engine.py:430: UserWarning: Found `num_iterations` in params. Will use it instead of argument\n",
      "  warnings.warn(\"Found `{}` in params. Will use it instead of argument\".format(alias))\n",
      "/home/wxk/anaconda3/envs/whale/lib/python3.6/site-packages/lightgbm/engine.py:435: UserWarning: Found `early_stopping_round` in params. Will use it instead of argument\n",
      "  warnings.warn(\"Found `{}` in params. Will use it instead of argument\".format(alias))\n"
     ]
    },
    {
     "name": "stdout",
     "output_type": "stream",
     "text": [
      "| \u001b[0m 7       \u001b[0m | \u001b[0m-0.3921  \u001b[0m | \u001b[0m 0.8631  \u001b[0m | \u001b[0m 0.391   \u001b[0m | \u001b[0m 2.851   \u001b[0m | \u001b[0m 1.316   \u001b[0m | \u001b[0m 9.942   \u001b[0m | \u001b[0m 9.592   \u001b[0m | \u001b[0m 0.02168 \u001b[0m | \u001b[0m 27.39   \u001b[0m |\n"
     ]
    },
    {
     "name": "stderr",
     "output_type": "stream",
     "text": [
      "/home/wxk/anaconda3/envs/whale/lib/python3.6/site-packages/lightgbm/engine.py:430: UserWarning: Found `num_iterations` in params. Will use it instead of argument\n",
      "  warnings.warn(\"Found `{}` in params. Will use it instead of argument\".format(alias))\n",
      "/home/wxk/anaconda3/envs/whale/lib/python3.6/site-packages/lightgbm/engine.py:435: UserWarning: Found `early_stopping_round` in params. Will use it instead of argument\n",
      "  warnings.warn(\"Found `{}` in params. Will use it instead of argument\".format(alias))\n"
     ]
    },
    {
     "name": "stdout",
     "output_type": "stream",
     "text": [
      "| \u001b[0m 8       \u001b[0m | \u001b[0m-0.3964  \u001b[0m | \u001b[0m 0.9306  \u001b[0m | \u001b[0m 0.3026  \u001b[0m | \u001b[0m 2.332   \u001b[0m | \u001b[0m 0.7333  \u001b[0m | \u001b[0m 5.795   \u001b[0m | \u001b[0m 9.967   \u001b[0m | \u001b[0m 0.06598 \u001b[0m | \u001b[0m 26.9    \u001b[0m |\n"
     ]
    },
    {
     "name": "stderr",
     "output_type": "stream",
     "text": [
      "/home/wxk/anaconda3/envs/whale/lib/python3.6/site-packages/lightgbm/engine.py:430: UserWarning: Found `num_iterations` in params. Will use it instead of argument\n",
      "  warnings.warn(\"Found `{}` in params. Will use it instead of argument\".format(alias))\n",
      "/home/wxk/anaconda3/envs/whale/lib/python3.6/site-packages/lightgbm/engine.py:435: UserWarning: Found `early_stopping_round` in params. Will use it instead of argument\n",
      "  warnings.warn(\"Found `{}` in params. Will use it instead of argument\".format(alias))\n"
     ]
    },
    {
     "name": "stdout",
     "output_type": "stream",
     "text": [
      "| \u001b[0m 9       \u001b[0m | \u001b[0m-0.3964  \u001b[0m | \u001b[0m 0.8393  \u001b[0m | \u001b[0m 0.395   \u001b[0m | \u001b[0m 4.105   \u001b[0m | \u001b[0m 0.2913  \u001b[0m | \u001b[0m 9.19    \u001b[0m | \u001b[0m 9.324   \u001b[0m | \u001b[0m 0.09767 \u001b[0m | \u001b[0m 33.84   \u001b[0m |\n"
     ]
    },
    {
     "name": "stderr",
     "output_type": "stream",
     "text": [
      "/home/wxk/anaconda3/envs/whale/lib/python3.6/site-packages/lightgbm/engine.py:430: UserWarning: Found `num_iterations` in params. Will use it instead of argument\n",
      "  warnings.warn(\"Found `{}` in params. Will use it instead of argument\".format(alias))\n",
      "/home/wxk/anaconda3/envs/whale/lib/python3.6/site-packages/lightgbm/engine.py:435: UserWarning: Found `early_stopping_round` in params. Will use it instead of argument\n",
      "  warnings.warn(\"Found `{}` in params. Will use it instead of argument\".format(alias))\n"
     ]
    },
    {
     "name": "stdout",
     "output_type": "stream",
     "text": [
      "| \u001b[0m 10      \u001b[0m | \u001b[0m-0.3899  \u001b[0m | \u001b[0m 0.9954  \u001b[0m | \u001b[0m 0.5839  \u001b[0m | \u001b[0m 3.696   \u001b[0m | \u001b[0m 0.1176  \u001b[0m | \u001b[0m 6.414   \u001b[0m | \u001b[0m 10.41   \u001b[0m | \u001b[0m 0.03032 \u001b[0m | \u001b[0m 26.49   \u001b[0m |\n"
     ]
    },
    {
     "name": "stderr",
     "output_type": "stream",
     "text": [
      "/home/wxk/anaconda3/envs/whale/lib/python3.6/site-packages/lightgbm/engine.py:430: UserWarning: Found `num_iterations` in params. Will use it instead of argument\n",
      "  warnings.warn(\"Found `{}` in params. Will use it instead of argument\".format(alias))\n",
      "/home/wxk/anaconda3/envs/whale/lib/python3.6/site-packages/lightgbm/engine.py:435: UserWarning: Found `early_stopping_round` in params. Will use it instead of argument\n",
      "  warnings.warn(\"Found `{}` in params. Will use it instead of argument\".format(alias))\n"
     ]
    },
    {
     "name": "stdout",
     "output_type": "stream",
     "text": [
      "| \u001b[0m 11      \u001b[0m | \u001b[0m-0.3923  \u001b[0m | \u001b[0m 0.8636  \u001b[0m | \u001b[0m 0.4314  \u001b[0m | \u001b[0m 0.3207  \u001b[0m | \u001b[0m 2.077   \u001b[0m | \u001b[0m 7.833   \u001b[0m | \u001b[0m 16.94   \u001b[0m | \u001b[0m 0.0528  \u001b[0m | \u001b[0m 25.97   \u001b[0m |\n"
     ]
    },
    {
     "name": "stderr",
     "output_type": "stream",
     "text": [
      "/home/wxk/anaconda3/envs/whale/lib/python3.6/site-packages/lightgbm/engine.py:430: UserWarning: Found `num_iterations` in params. Will use it instead of argument\n",
      "  warnings.warn(\"Found `{}` in params. Will use it instead of argument\".format(alias))\n",
      "/home/wxk/anaconda3/envs/whale/lib/python3.6/site-packages/lightgbm/engine.py:435: UserWarning: Found `early_stopping_round` in params. Will use it instead of argument\n",
      "  warnings.warn(\"Found `{}` in params. Will use it instead of argument\".format(alias))\n"
     ]
    },
    {
     "name": "stdout",
     "output_type": "stream",
     "text": [
      "| \u001b[95m 12      \u001b[0m | \u001b[95m-0.3873  \u001b[0m | \u001b[95m 0.9152  \u001b[0m | \u001b[95m 0.8434  \u001b[0m | \u001b[95m 1.593   \u001b[0m | \u001b[95m 2.002   \u001b[0m | \u001b[95m 5.659   \u001b[0m | \u001b[95m 37.23   \u001b[0m | \u001b[95m 0.02965 \u001b[0m | \u001b[95m 27.85   \u001b[0m |\n"
     ]
    },
    {
     "name": "stderr",
     "output_type": "stream",
     "text": [
      "/home/wxk/anaconda3/envs/whale/lib/python3.6/site-packages/lightgbm/engine.py:430: UserWarning: Found `num_iterations` in params. Will use it instead of argument\n",
      "  warnings.warn(\"Found `{}` in params. Will use it instead of argument\".format(alias))\n",
      "/home/wxk/anaconda3/envs/whale/lib/python3.6/site-packages/lightgbm/engine.py:435: UserWarning: Found `early_stopping_round` in params. Will use it instead of argument\n",
      "  warnings.warn(\"Found `{}` in params. Will use it instead of argument\".format(alias))\n"
     ]
    },
    {
     "name": "stdout",
     "output_type": "stream",
     "text": [
      "| \u001b[0m 13      \u001b[0m | \u001b[0m-0.4052  \u001b[0m | \u001b[0m 0.9173  \u001b[0m | \u001b[0m 0.1161  \u001b[0m | \u001b[0m 4.145   \u001b[0m | \u001b[0m 0.01409 \u001b[0m | \u001b[0m 8.389   \u001b[0m | \u001b[0m 17.15   \u001b[0m | \u001b[0m 0.07378 \u001b[0m | \u001b[0m 44.21   \u001b[0m |\n"
     ]
    },
    {
     "name": "stderr",
     "output_type": "stream",
     "text": [
      "/home/wxk/anaconda3/envs/whale/lib/python3.6/site-packages/lightgbm/engine.py:430: UserWarning: Found `num_iterations` in params. Will use it instead of argument\n",
      "  warnings.warn(\"Found `{}` in params. Will use it instead of argument\".format(alias))\n",
      "/home/wxk/anaconda3/envs/whale/lib/python3.6/site-packages/lightgbm/engine.py:435: UserWarning: Found `early_stopping_round` in params. Will use it instead of argument\n",
      "  warnings.warn(\"Found `{}` in params. Will use it instead of argument\".format(alias))\n"
     ]
    },
    {
     "name": "stdout",
     "output_type": "stream",
     "text": [
      "| \u001b[0m 14      \u001b[0m | \u001b[0m-0.3909  \u001b[0m | \u001b[0m 0.8498  \u001b[0m | \u001b[0m 0.5609  \u001b[0m | \u001b[0m 2.96    \u001b[0m | \u001b[0m 1.717   \u001b[0m | \u001b[0m 6.115   \u001b[0m | \u001b[0m 47.87   \u001b[0m | \u001b[0m 0.04527 \u001b[0m | \u001b[0m 41.77   \u001b[0m |\n"
     ]
    },
    {
     "name": "stderr",
     "output_type": "stream",
     "text": [
      "/home/wxk/anaconda3/envs/whale/lib/python3.6/site-packages/lightgbm/engine.py:430: UserWarning: Found `num_iterations` in params. Will use it instead of argument\n",
      "  warnings.warn(\"Found `{}` in params. Will use it instead of argument\".format(alias))\n",
      "/home/wxk/anaconda3/envs/whale/lib/python3.6/site-packages/lightgbm/engine.py:435: UserWarning: Found `early_stopping_round` in params. Will use it instead of argument\n",
      "  warnings.warn(\"Found `{}` in params. Will use it instead of argument\".format(alias))\n"
     ]
    },
    {
     "name": "stdout",
     "output_type": "stream",
     "text": [
      "| \u001b[0m 15      \u001b[0m | \u001b[0m-0.3985  \u001b[0m | \u001b[0m 0.9399  \u001b[0m | \u001b[0m 0.3379  \u001b[0m | \u001b[0m 4.069   \u001b[0m | \u001b[0m 1.19    \u001b[0m | \u001b[0m 9.406   \u001b[0m | \u001b[0m 31.16   \u001b[0m | \u001b[0m 0.08829 \u001b[0m | \u001b[0m 38.54   \u001b[0m |\n"
     ]
    },
    {
     "name": "stderr",
     "output_type": "stream",
     "text": [
      "/home/wxk/anaconda3/envs/whale/lib/python3.6/site-packages/lightgbm/engine.py:430: UserWarning: Found `num_iterations` in params. Will use it instead of argument\n",
      "  warnings.warn(\"Found `{}` in params. Will use it instead of argument\".format(alias))\n",
      "/home/wxk/anaconda3/envs/whale/lib/python3.6/site-packages/lightgbm/engine.py:435: UserWarning: Found `early_stopping_round` in params. Will use it instead of argument\n",
      "  warnings.warn(\"Found `{}` in params. Will use it instead of argument\".format(alias))\n"
     ]
    },
    {
     "name": "stdout",
     "output_type": "stream",
     "text": [
      "| \u001b[0m 16      \u001b[0m | \u001b[0m-0.3885  \u001b[0m | \u001b[0m 0.9676  \u001b[0m | \u001b[0m 0.8897  \u001b[0m | \u001b[0m 0.05109 \u001b[0m | \u001b[0m 2.03    \u001b[0m | \u001b[0m 5.691   \u001b[0m | \u001b[0m 5.16    \u001b[0m | \u001b[0m 0.05343 \u001b[0m | \u001b[0m 43.58   \u001b[0m |\n"
     ]
    },
    {
     "name": "stderr",
     "output_type": "stream",
     "text": [
      "/home/wxk/anaconda3/envs/whale/lib/python3.6/site-packages/lightgbm/engine.py:430: UserWarning: Found `num_iterations` in params. Will use it instead of argument\n",
      "  warnings.warn(\"Found `{}` in params. Will use it instead of argument\".format(alias))\n",
      "/home/wxk/anaconda3/envs/whale/lib/python3.6/site-packages/lightgbm/engine.py:435: UserWarning: Found `early_stopping_round` in params. Will use it instead of argument\n",
      "  warnings.warn(\"Found `{}` in params. Will use it instead of argument\".format(alias))\n"
     ]
    },
    {
     "name": "stdout",
     "output_type": "stream",
     "text": [
      "| \u001b[95m 17      \u001b[0m | \u001b[95m-0.3859  \u001b[0m | \u001b[95m 0.9113  \u001b[0m | \u001b[95m 0.8754  \u001b[0m | \u001b[95m 0.4235  \u001b[0m | \u001b[95m 2.462   \u001b[0m | \u001b[95m 9.887   \u001b[0m | \u001b[95m 48.04   \u001b[0m | \u001b[95m 0.06328 \u001b[0m | \u001b[95m 24.06   \u001b[0m |\n"
     ]
    }
   ],
   "source": [
    "def bayes_parameter_opt_lgb(train_data, lgb_eval, init_round=15, opt_round=25,\n",
    "                            random_seed=6, n_iterations=2000, learning_rate=0.05):\n",
    "\n",
    "    def lgb_eval(num_leaves, feature_fraction, bagging_fraction, \n",
    "                 max_depth, lambda_l1, lambda_l2, min_split_gain, min_child_weight):\n",
    "        params = {'objective': 'regression','boosting_type': 'gbdt',\n",
    "                  'num_iterations': n_iterations, \n",
    "                  'learning_rate':learning_rate, 'early_stopping_round':100, \n",
    "                  'metric':{'mae'}}\n",
    "        params[\"num_leaves\"] = int(round(num_leaves))\n",
    "        params['feature_fraction'] = max(min(feature_fraction, 1), 0)\n",
    "        params['bagging_fraction'] = max(min(bagging_fraction, 1), 0)\n",
    "        params['max_depth'] = int(round(max_depth))\n",
    "        params['lambda_l1'] = max(lambda_l1, 0)\n",
    "        params['lambda_l2'] = max(lambda_l2, 0)\n",
    "        params['min_split_gain'] = min_split_gain\n",
    "        params['min_child_weight'] = min_child_weight\n",
    "        gbm = lgb.cv(params, train_data, nfold=3, early_stopping_rounds=20)\n",
    "        return -min(np.array(gbm['l1-mean'])) # -gbm.best_score['valid_0']['l1']\n",
    "#         gbm = lgb.train(params, train_data, num_boost_round=3000,\n",
    "#                         valid_sets=lgb_eval, early_stopping_rounds=10)\n",
    "    \n",
    "\n",
    "    lgbBO = BayesianOptimization(lgb_eval, {'num_leaves': (24, 45),\n",
    "                                            'feature_fraction': (0.1, 0.9),\n",
    "                                            'bagging_fraction': (0.8, 1),\n",
    "                                            'max_depth': (5, 10),\n",
    "                                            'lambda_l1': (0, 5),\n",
    "                                            'lambda_l2': (0, 3),\n",
    "                                            'min_split_gain': (0.001, 0.1),\n",
    "                                            'min_child_weight': (5, 50)}, random_state=0)\n",
    "    # optimize\n",
    "    lgbBO.maximize(init_points=init_round, n_iter=opt_round)\n",
    "    \n",
    "\n",
    "    return lgbBO\n",
    "\n",
    "opt_params = bayes_parameter_opt_lgb(train_data, lgb_eval)"
   ]
  },
  {
   "cell_type": "code",
   "execution_count": null,
   "metadata": {},
   "outputs": [],
   "source": [
    "sorted(opt_params.res, key = lambda x: -x['target'])"
   ]
  }
 ],
 "metadata": {
  "kernelspec": {
   "display_name": "Python 3",
   "language": "python",
   "name": "python3"
  },
  "language_info": {
   "codemirror_mode": {
    "name": "ipython",
    "version": 3
   },
   "file_extension": ".py",
   "mimetype": "text/x-python",
   "name": "python",
   "nbconvert_exporter": "python",
   "pygments_lexer": "ipython3",
   "version": "3.6.6"
  }
 },
 "nbformat": 4,
 "nbformat_minor": 2
}
