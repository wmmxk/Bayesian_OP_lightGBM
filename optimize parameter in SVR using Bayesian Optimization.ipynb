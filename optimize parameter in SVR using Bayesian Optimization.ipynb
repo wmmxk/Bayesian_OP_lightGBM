{
 "cells": [
  {
   "cell_type": "code",
   "execution_count": 12,
   "metadata": {},
   "outputs": [],
   "source": [
    "from thundersvm import SVR\n",
    "import pandas as pd\n",
    "import matplotlib.pyplot as plt\n",
    "from bayes_opt import BayesianOptimization"
   ]
  },
  {
   "cell_type": "code",
   "execution_count": 21,
   "metadata": {},
   "outputs": [
    {
     "name": "stdout",
     "output_type": "stream",
     "text": [
      "/home/wxk/DataScience/faster_svm\r\n"
     ]
    }
   ],
   "source": [
    "# thudersvm path: https://github.com/Xtra-Computing/thundersvm#getting-started"
   ]
  },
  {
   "cell_type": "code",
   "execution_count": 13,
   "metadata": {},
   "outputs": [],
   "source": [
    "df = pd.read_hdf(\"/home/wxk/Data/DREAM_preterm/data/exp_ga.27.h5\", key='df')"
   ]
  },
  {
   "cell_type": "code",
   "execution_count": 14,
   "metadata": {},
   "outputs": [],
   "source": [
    "n = 250\n",
    "\n",
    "x_train = df.iloc[:n, :-1]\n",
    "y_train = df.iloc[:n, -1]\n",
    "\n",
    "x_val = df.iloc[n:n+50, :-1]\n",
    "y_val = df.iloc[n:n+50, -1]\n",
    "\n",
    "x_test = df.iloc[n+50:367, :-1]\n",
    "y_test = df.iloc[n+50:367, -1]"
   ]
  },
  {
   "cell_type": "code",
   "execution_count": 15,
   "metadata": {},
   "outputs": [],
   "source": [
    "def evaluate(model, x, y):\n",
    "    y_hat = model.predict(x)\n",
    "    rmse = np.sqrt(np.mean((y_hat - y)**2))\n",
    "    return rmse"
   ]
  },
  {
   "cell_type": "code",
   "execution_count": 16,
   "metadata": {
    "scrolled": true
   },
   "outputs": [
    {
     "name": "stdout",
     "output_type": "stream",
     "text": [
      "rmse on validation set 0.1611545480096157\n",
      "rmse on testing set 0.21488179757338355\n"
     ]
    }
   ],
   "source": [
    "clf = SVR(verbose=True, gamma=0.1098, C=1.062, epsilon=0.1102)\n",
    "clf.fit(x_train, y_train)\n",
    "y_hat_val = clf.predict(x_val)\n",
    "\n",
    "rmse_val = np.sqrt(np.mean((y_hat_val - y_val)**2))\n",
    "print(\"rmse on validation set\", rmse_val)\n",
    "\n",
    "rmse_test = evaluate(clf, x_test, y_test)\n",
    "print(\"rmse on testing set\", rmse_test)"
   ]
  },
  {
   "cell_type": "code",
   "execution_count": 19,
   "metadata": {},
   "outputs": [
    {
     "name": "stdout",
     "output_type": "stream",
     "text": [
      "|   iter    |  target   |     c     |  epsilon  |   gamma   |\n",
      "-------------------------------------------------------------\n",
      "| \u001b[0m 1       \u001b[0m | \u001b[0m-0.2619  \u001b[0m | \u001b[0m 54.93   \u001b[0m | \u001b[0m 0.1459  \u001b[0m | \u001b[0m 60.32   \u001b[0m |\n",
      "| \u001b[95m 2       \u001b[0m | \u001b[95m-0.2618  \u001b[0m | \u001b[95m 54.53   \u001b[0m | \u001b[95m 0.09049 \u001b[0m | \u001b[95m 64.62   \u001b[0m |\n",
      "| \u001b[0m 3       \u001b[0m | \u001b[0m-0.262   \u001b[0m | \u001b[0m 43.81   \u001b[0m | \u001b[0m 0.1794  \u001b[0m | \u001b[0m 96.37   \u001b[0m |\n",
      "| \u001b[0m 4       \u001b[0m | \u001b[0m-0.262   \u001b[0m | \u001b[0m 38.41   \u001b[0m | \u001b[0m 0.1604  \u001b[0m | \u001b[0m 52.94   \u001b[0m |\n",
      "| \u001b[0m 5       \u001b[0m | \u001b[0m-0.262   \u001b[0m | \u001b[0m 56.85   \u001b[0m | \u001b[0m 0.1859  \u001b[0m | \u001b[0m 7.197   \u001b[0m |\n",
      "| \u001b[0m 6       \u001b[0m | \u001b[0m-0.2618  \u001b[0m | \u001b[0m 8.804   \u001b[0m | \u001b[0m 0.01384 \u001b[0m | \u001b[0m 83.28   \u001b[0m |\n",
      "| \u001b[0m 7       \u001b[0m | \u001b[0m-0.262   \u001b[0m | \u001b[0m 77.84   \u001b[0m | \u001b[0m 0.1753  \u001b[0m | \u001b[0m 97.86   \u001b[0m |\n",
      "| \u001b[0m 8       \u001b[0m | \u001b[0m-0.2618  \u001b[0m | \u001b[0m 79.94   \u001b[0m | \u001b[0m 0.09768 \u001b[0m | \u001b[0m 78.07   \u001b[0m |\n",
      "| \u001b[0m 9       \u001b[0m | \u001b[0m-0.2619  \u001b[0m | \u001b[0m 11.92   \u001b[0m | \u001b[0m 0.1316  \u001b[0m | \u001b[0m 14.42   \u001b[0m |\n",
      "| \u001b[0m 10      \u001b[0m | \u001b[0m-0.2618  \u001b[0m | \u001b[0m 94.47   \u001b[0m | \u001b[0m 0.1092  \u001b[0m | \u001b[0m 41.52   \u001b[0m |\n",
      "| \u001b[0m 11      \u001b[0m | \u001b[0m-0.262   \u001b[0m | \u001b[0m 26.53   \u001b[0m | \u001b[0m 0.1571  \u001b[0m | \u001b[0m 45.67   \u001b[0m |\n",
      "| \u001b[0m 12      \u001b[0m | \u001b[0m-0.2618  \u001b[0m | \u001b[0m 56.89   \u001b[0m | \u001b[0m 0.01357 \u001b[0m | \u001b[0m 61.8    \u001b[0m |\n",
      "| \u001b[0m 13      \u001b[0m | \u001b[0m-0.2619  \u001b[0m | \u001b[0m 61.25   \u001b[0m | \u001b[0m 0.1272  \u001b[0m | \u001b[0m 94.38   \u001b[0m |\n",
      "| \u001b[95m 14      \u001b[0m | \u001b[95m-0.2618  \u001b[0m | \u001b[95m 68.21   \u001b[0m | \u001b[95m 0.07831 \u001b[0m | \u001b[95m 43.76   \u001b[0m |\n",
      "| \u001b[0m 15      \u001b[0m | \u001b[0m-0.2618  \u001b[0m | \u001b[0m 69.79   \u001b[0m | \u001b[0m 0.02144 \u001b[0m | \u001b[0m 66.71   \u001b[0m |\n",
      "| \u001b[95m 16      \u001b[0m | \u001b[95m-0.2618  \u001b[0m | \u001b[95m 67.1    \u001b[0m | \u001b[95m 0.04997 \u001b[0m | \u001b[95m 12.98   \u001b[0m |\n",
      "| \u001b[0m 17      \u001b[0m | \u001b[0m-0.2618  \u001b[0m | \u001b[0m 31.61   \u001b[0m | \u001b[0m 0.07911 \u001b[0m | \u001b[0m 57.06   \u001b[0m |\n",
      "| \u001b[0m 18      \u001b[0m | \u001b[0m-0.262   \u001b[0m | \u001b[0m 43.92   \u001b[0m | \u001b[0m 0.1978  \u001b[0m | \u001b[0m 10.29   \u001b[0m |\n",
      "| \u001b[0m 19      \u001b[0m | \u001b[0m-0.2618  \u001b[0m | \u001b[0m 20.97   \u001b[0m | \u001b[0m 0.04065 \u001b[0m | \u001b[0m 65.35   \u001b[0m |\n",
      "| \u001b[0m 20      \u001b[0m | \u001b[0m-0.2618  \u001b[0m | \u001b[0m 25.4    \u001b[0m | \u001b[0m 0.0986  \u001b[0m | \u001b[0m 24.52   \u001b[0m |\n",
      "| \u001b[0m 21      \u001b[0m | \u001b[0m-0.2618  \u001b[0m | \u001b[0m 15.98   \u001b[0m | \u001b[0m 0.03097 \u001b[0m | \u001b[0m 65.67   \u001b[0m |\n",
      "| \u001b[0m 22      \u001b[0m | \u001b[0m-0.2618  \u001b[0m | \u001b[0m 13.9    \u001b[0m | \u001b[0m 0.04735 \u001b[0m | \u001b[0m 36.94   \u001b[0m |\n",
      "| \u001b[0m 23      \u001b[0m | \u001b[0m-0.2618  \u001b[0m | \u001b[0m 82.12   \u001b[0m | \u001b[0m 0.02845 \u001b[0m | \u001b[0m 83.81   \u001b[0m |\n",
      "| \u001b[0m 24      \u001b[0m | \u001b[0m-0.262   \u001b[0m | \u001b[0m 9.7     \u001b[0m | \u001b[0m 0.1955  \u001b[0m | \u001b[0m 46.92   \u001b[0m |\n",
      "| \u001b[0m 25      \u001b[0m | \u001b[0m-0.2619  \u001b[0m | \u001b[0m 97.68   \u001b[0m | \u001b[0m 0.1249  \u001b[0m | \u001b[0m 73.95   \u001b[0m |\n",
      "| \u001b[0m 26      \u001b[0m | \u001b[0m-0.2618  \u001b[0m | \u001b[0m 4.015   \u001b[0m | \u001b[0m 0.06373 \u001b[0m | \u001b[0m 12.11   \u001b[0m |\n",
      "| \u001b[0m 27      \u001b[0m | \u001b[0m-0.2618  \u001b[0m | \u001b[0m 29.68   \u001b[0m | \u001b[0m 0.03256 \u001b[0m | \u001b[0m 31.87   \u001b[0m |\n",
      "| \u001b[0m 28      \u001b[0m | \u001b[0m-0.2618  \u001b[0m | \u001b[0m 41.48   \u001b[0m | \u001b[0m 0.02219 \u001b[0m | \u001b[0m 69.28   \u001b[0m |\n",
      "| \u001b[95m 29      \u001b[0m | \u001b[95m-0.2618  \u001b[0m | \u001b[95m 56.7    \u001b[0m | \u001b[95m 0.06042 \u001b[0m | \u001b[95m 52.37   \u001b[0m |\n",
      "| \u001b[0m 30      \u001b[0m | \u001b[0m-0.2619  \u001b[0m | \u001b[0m 9.485   \u001b[0m | \u001b[0m 0.1194  \u001b[0m | \u001b[0m 92.94   \u001b[0m |\n",
      "| \u001b[0m 31      \u001b[0m | \u001b[0m-0.2619  \u001b[0m | \u001b[0m 31.93   \u001b[0m | \u001b[0m 0.1368  \u001b[0m | \u001b[0m 13.27   \u001b[0m |\n",
      "| \u001b[0m 32      \u001b[0m | \u001b[0m-0.2618  \u001b[0m | \u001b[0m 71.66   \u001b[0m | \u001b[0m 0.06499 \u001b[0m | \u001b[0m 18.4    \u001b[0m |\n",
      "| \u001b[0m 33      \u001b[0m | \u001b[0m-0.2618  \u001b[0m | \u001b[0m 58.69   \u001b[0m | \u001b[0m 0.01382 \u001b[0m | \u001b[0m 82.91   \u001b[0m |\n",
      "| \u001b[0m 34      \u001b[0m | \u001b[0m-0.2619  \u001b[0m | \u001b[0m 0.5691  \u001b[0m | \u001b[0m 0.1388  \u001b[0m | \u001b[0m 27.07   \u001b[0m |\n",
      "| \u001b[0m 35      \u001b[0m | \u001b[0m-0.262   \u001b[0m | \u001b[0m 73.55   \u001b[0m | \u001b[0m 0.1928  \u001b[0m | \u001b[0m 24.95   \u001b[0m |\n",
      "| \u001b[0m 36      \u001b[0m | \u001b[0m-0.2619  \u001b[0m | \u001b[0m 57.66   \u001b[0m | \u001b[0m 0.1225  \u001b[0m | \u001b[0m 57.27   \u001b[0m |\n",
      "| \u001b[0m 37      \u001b[0m | \u001b[0m-0.262   \u001b[0m | \u001b[0m 22.39   \u001b[0m | \u001b[0m 0.191   \u001b[0m | \u001b[0m 44.77   \u001b[0m |\n",
      "| \u001b[0m 38      \u001b[0m | \u001b[0m-0.2619  \u001b[0m | \u001b[0m 84.66   \u001b[0m | \u001b[0m 0.1429  \u001b[0m | \u001b[0m 29.81   \u001b[0m |\n",
      "| \u001b[0m 39      \u001b[0m | \u001b[0m-0.2618  \u001b[0m | \u001b[0m 81.4    \u001b[0m | \u001b[0m 0.08534 \u001b[0m | \u001b[0m 88.12   \u001b[0m |\n",
      "| \u001b[0m 40      \u001b[0m | \u001b[0m-0.262   \u001b[0m | \u001b[0m 58.17   \u001b[0m | \u001b[0m 0.1775  \u001b[0m | \u001b[0m 69.28   \u001b[0m |\n",
      "| \u001b[0m 41      \u001b[0m | \u001b[0m-0.2618  \u001b[0m | \u001b[0m 72.55   \u001b[0m | \u001b[0m 0.1053  \u001b[0m | \u001b[0m 95.61   \u001b[0m |\n",
      "| \u001b[0m 42      \u001b[0m | \u001b[0m-0.2618  \u001b[0m | \u001b[0m 64.43   \u001b[0m | \u001b[0m 0.09053 \u001b[0m | \u001b[0m 60.68   \u001b[0m |\n",
      "| \u001b[0m 43      \u001b[0m | \u001b[0m-0.2618  \u001b[0m | \u001b[0m 2.017   \u001b[0m | \u001b[0m 0.0673  \u001b[0m | \u001b[0m 66.05   \u001b[0m |\n",
      "| \u001b[0m 44      \u001b[0m | \u001b[0m-0.2619  \u001b[0m | \u001b[0m 29.08   \u001b[0m | \u001b[0m 0.1274  \u001b[0m | \u001b[0m 42.93   \u001b[0m |\n",
      "| \u001b[0m 45      \u001b[0m | \u001b[0m-0.2618  \u001b[0m | \u001b[0m 13.63   \u001b[0m | \u001b[0m 0.06667 \u001b[0m | \u001b[0m 57.04   \u001b[0m |\n",
      "| \u001b[0m 46      \u001b[0m | \u001b[0m-0.2619  \u001b[0m | \u001b[0m 59.13   \u001b[0m | \u001b[0m 0.1191  \u001b[0m | \u001b[0m 65.35   \u001b[0m |\n",
      "| \u001b[0m 47      \u001b[0m | \u001b[0m-0.2618  \u001b[0m | \u001b[0m 65.25   \u001b[0m | \u001b[0m 0.09197 \u001b[0m | \u001b[0m 89.67   \u001b[0m |\n",
      "| \u001b[0m 48      \u001b[0m | \u001b[0m-0.2618  \u001b[0m | \u001b[0m 36.82   \u001b[0m | \u001b[0m 0.09281 \u001b[0m | \u001b[0m 89.2    \u001b[0m |\n",
      "| \u001b[0m 49      \u001b[0m | \u001b[0m-0.2619  \u001b[0m | \u001b[0m 80.64   \u001b[0m | \u001b[0m 0.1437  \u001b[0m | \u001b[0m 10.11   \u001b[0m |\n",
      "| \u001b[0m 50      \u001b[0m | \u001b[0m-0.2619  \u001b[0m | \u001b[0m 91.96   \u001b[0m | \u001b[0m 0.1457  \u001b[0m | \u001b[0m 99.88   \u001b[0m |\n",
      "| \u001b[0m 51      \u001b[0m | \u001b[0m-0.262   \u001b[0m | \u001b[0m 15.03   \u001b[0m | \u001b[0m 0.1749  \u001b[0m | \u001b[0m 16.33   \u001b[0m |\n",
      "| \u001b[0m 52      \u001b[0m | \u001b[0m-0.2618  \u001b[0m | \u001b[0m 61.59   \u001b[0m | \u001b[0m 0.03353 \u001b[0m | \u001b[0m 84.82   \u001b[0m |\n",
      "| \u001b[0m 53      \u001b[0m | \u001b[0m-0.2619  \u001b[0m | \u001b[0m 80.75   \u001b[0m | \u001b[0m 0.1181  \u001b[0m | \u001b[0m 40.78   \u001b[0m |\n",
      "| \u001b[0m 54      \u001b[0m | \u001b[0m-0.2619  \u001b[0m | \u001b[0m 7.01    \u001b[0m | \u001b[0m 0.1425  \u001b[0m | \u001b[0m 45.41   \u001b[0m |\n",
      "| \u001b[0m 55      \u001b[0m | \u001b[0m-0.262   \u001b[0m | \u001b[0m 72.23   \u001b[0m | \u001b[0m 0.1746  \u001b[0m | \u001b[0m 97.55   \u001b[0m |\n",
      "| \u001b[0m 56      \u001b[0m | \u001b[0m-0.2618  \u001b[0m | \u001b[0m 85.59   \u001b[0m | \u001b[0m 0.01223 \u001b[0m | \u001b[0m 36.06   \u001b[0m |\n",
      "| \u001b[0m 57      \u001b[0m | \u001b[0m-0.2618  \u001b[0m | \u001b[0m 73.03   \u001b[0m | \u001b[0m 0.04261 \u001b[0m | \u001b[0m 52.15   \u001b[0m |\n",
      "| \u001b[95m 58      \u001b[0m | \u001b[95m-0.252   \u001b[0m | \u001b[95m 5.528   \u001b[0m | \u001b[95m 0.048   \u001b[0m | \u001b[95m 1.95    \u001b[0m |\n",
      "| \u001b[0m 59      \u001b[0m | \u001b[0m-0.2618  \u001b[0m | \u001b[0m 79.39   \u001b[0m | \u001b[0m 0.05255 \u001b[0m | \u001b[0m 34.6    \u001b[0m |\n",
      "| \u001b[0m 60      \u001b[0m | \u001b[0m-0.2614  \u001b[0m | \u001b[0m 92.82   \u001b[0m | \u001b[0m 0.1438  \u001b[0m | \u001b[0m 3.281   \u001b[0m |\n",
      "| \u001b[95m 61      \u001b[0m | \u001b[95m-0.2015  \u001b[0m | \u001b[95m 0.1519  \u001b[0m | \u001b[95m 0.1745  \u001b[0m | \u001b[95m 0.4217  \u001b[0m |\n",
      "| \u001b[95m 62      \u001b[0m | \u001b[95m-0.1794  \u001b[0m | \u001b[95m 0.3607  \u001b[0m | \u001b[95m 0.1538  \u001b[0m | \u001b[95m 0.2164  \u001b[0m |\n",
      "| \u001b[0m 63      \u001b[0m | \u001b[0m-0.262   \u001b[0m | \u001b[0m 0.1639  \u001b[0m | \u001b[0m 0.09753 \u001b[0m | \u001b[0m 99.74   \u001b[0m |\n",
      "| \u001b[0m 64      \u001b[0m | \u001b[0m-0.1895  \u001b[0m | \u001b[0m 0.215   \u001b[0m | \u001b[0m 0.05751 \u001b[0m | \u001b[0m 0.2062  \u001b[0m |\n",
      "| \u001b[0m 65      \u001b[0m | \u001b[0m-0.1817  \u001b[0m | \u001b[0m 0.4252  \u001b[0m | \u001b[0m 0.05413 \u001b[0m | \u001b[0m 0.2468  \u001b[0m |\n",
      "| \u001b[0m 66      \u001b[0m | \u001b[0m-0.2618  \u001b[0m | \u001b[0m 100.0   \u001b[0m | \u001b[0m 0.01    \u001b[0m | \u001b[0m 18.5    \u001b[0m |\n",
      "| \u001b[0m 67      \u001b[0m | \u001b[0m-0.194   \u001b[0m | \u001b[0m 39.93   \u001b[0m | \u001b[0m 0.05318 \u001b[0m | \u001b[0m 0.1162  \u001b[0m |\n",
      "| \u001b[0m 68      \u001b[0m | \u001b[0m-0.2618  \u001b[0m | \u001b[0m 25.02   \u001b[0m | \u001b[0m 0.01    \u001b[0m | \u001b[0m 100.0   \u001b[0m |\n",
      "| \u001b[0m 69      \u001b[0m | \u001b[0m-0.1908  \u001b[0m | \u001b[0m 70.87   \u001b[0m | \u001b[0m 0.2     \u001b[0m | \u001b[0m 0.1     \u001b[0m |\n",
      "| \u001b[0m 70      \u001b[0m | \u001b[0m-0.2618  \u001b[0m | \u001b[0m 100.0   \u001b[0m | \u001b[0m 0.01    \u001b[0m | \u001b[0m 58.18   \u001b[0m |\n",
      "| \u001b[0m 71      \u001b[0m | \u001b[0m-0.2619  \u001b[0m | \u001b[0m 50.41   \u001b[0m | \u001b[0m 0.1425  \u001b[0m | \u001b[0m 30.26   \u001b[0m |\n",
      "| \u001b[0m 72      \u001b[0m | \u001b[0m-0.1908  \u001b[0m | \u001b[0m 100.0   \u001b[0m | \u001b[0m 0.2     \u001b[0m | \u001b[0m 0.1     \u001b[0m |\n",
      "| \u001b[0m 73      \u001b[0m | \u001b[0m-0.2618  \u001b[0m | \u001b[0m 100.0   \u001b[0m | \u001b[0m 0.01    \u001b[0m | \u001b[0m 90.78   \u001b[0m |\n",
      "| \u001b[0m 74      \u001b[0m | \u001b[0m-0.2618  \u001b[0m | \u001b[0m 0.1179  \u001b[0m | \u001b[0m 0.1889  \u001b[0m | \u001b[0m 85.0    \u001b[0m |\n",
      "| \u001b[0m 75      \u001b[0m | \u001b[0m-0.262   \u001b[0m | \u001b[0m 7.882   \u001b[0m | \u001b[0m 0.1964  \u001b[0m | \u001b[0m 22.66   \u001b[0m |\n",
      "| \u001b[0m 76      \u001b[0m | \u001b[0m-0.1885  \u001b[0m | \u001b[0m 25.81   \u001b[0m | \u001b[0m 0.1519  \u001b[0m | \u001b[0m 0.1177  \u001b[0m |\n",
      "| \u001b[0m 77      \u001b[0m | \u001b[0m-0.2619  \u001b[0m | \u001b[0m 88.07   \u001b[0m | \u001b[0m 0.1254  \u001b[0m | \u001b[0m 60.74   \u001b[0m |\n",
      "| \u001b[0m 78      \u001b[0m | \u001b[0m-0.2618  \u001b[0m | \u001b[0m 100.0   \u001b[0m | \u001b[0m 0.01    \u001b[0m | \u001b[0m 100.0   \u001b[0m |\n",
      "| \u001b[0m 79      \u001b[0m | \u001b[0m-0.2618  \u001b[0m | \u001b[0m 99.89   \u001b[0m | \u001b[0m 0.05485 \u001b[0m | \u001b[0m 32.44   \u001b[0m |\n"
     ]
    },
    {
     "name": "stdout",
     "output_type": "stream",
     "text": [
      "| \u001b[0m 80      \u001b[0m | \u001b[0m-0.1876  \u001b[0m | \u001b[0m 58.96   \u001b[0m | \u001b[0m 0.1649  \u001b[0m | \u001b[0m 0.1349  \u001b[0m |\n",
      "| \u001b[0m 81      \u001b[0m | \u001b[0m-0.262   \u001b[0m | \u001b[0m 23.79   \u001b[0m | \u001b[0m 0.1881  \u001b[0m | \u001b[0m 82.84   \u001b[0m |\n",
      "| \u001b[0m 82      \u001b[0m | \u001b[0m-0.1916  \u001b[0m | \u001b[0m 80.85   \u001b[0m | \u001b[0m 0.09971 \u001b[0m | \u001b[0m 0.1156  \u001b[0m |\n",
      "| \u001b[0m 83      \u001b[0m | \u001b[0m-0.1966  \u001b[0m | \u001b[0m 50.45   \u001b[0m | \u001b[0m 0.06879 \u001b[0m | \u001b[0m 0.1008  \u001b[0m |\n",
      "| \u001b[0m 84      \u001b[0m | \u001b[0m-0.1856  \u001b[0m | \u001b[0m 32.43   \u001b[0m | \u001b[0m 0.05357 \u001b[0m | \u001b[0m 0.2092  \u001b[0m |\n",
      "| \u001b[0m 85      \u001b[0m | \u001b[0m-0.1895  \u001b[0m | \u001b[0m 4.175   \u001b[0m | \u001b[0m 0.1331  \u001b[0m | \u001b[0m 0.1049  \u001b[0m |\n",
      "| \u001b[0m 86      \u001b[0m | \u001b[0m-0.1891  \u001b[0m | \u001b[0m 65.66   \u001b[0m | \u001b[0m 0.03344 \u001b[0m | \u001b[0m 0.1746  \u001b[0m |\n",
      "| \u001b[0m 87      \u001b[0m | \u001b[0m-0.1903  \u001b[0m | \u001b[0m 74.51   \u001b[0m | \u001b[0m 0.02511 \u001b[0m | \u001b[0m 0.1677  \u001b[0m |\n",
      "| \u001b[0m 88      \u001b[0m | \u001b[0m-0.2013  \u001b[0m | \u001b[0m 30.5    \u001b[0m | \u001b[0m 0.01    \u001b[0m | \u001b[0m 0.1     \u001b[0m |\n",
      "| \u001b[0m 89      \u001b[0m | \u001b[0m-0.1886  \u001b[0m | \u001b[0m 18.65   \u001b[0m | \u001b[0m 0.0555  \u001b[0m | \u001b[0m 0.1549  \u001b[0m |\n",
      "| \u001b[0m 90      \u001b[0m | \u001b[0m-0.2622  \u001b[0m | \u001b[0m 0.1207  \u001b[0m | \u001b[0m 0.07334 \u001b[0m | \u001b[0m 53.75   \u001b[0m |\n",
      "| \u001b[0m 91      \u001b[0m | \u001b[0m-0.262   \u001b[0m | \u001b[0m 44.8    \u001b[0m | \u001b[0m 0.1945  \u001b[0m | \u001b[0m 39.95   \u001b[0m |\n",
      "| \u001b[0m 92      \u001b[0m | \u001b[0m-0.261   \u001b[0m | \u001b[0m 36.3    \u001b[0m | \u001b[0m 0.1923  \u001b[0m | \u001b[0m 2.818   \u001b[0m |\n",
      "| \u001b[0m 93      \u001b[0m | \u001b[0m-0.262   \u001b[0m | \u001b[0m 40.6    \u001b[0m | \u001b[0m 0.194   \u001b[0m | \u001b[0m 22.64   \u001b[0m |\n",
      "| \u001b[0m 94      \u001b[0m | \u001b[0m-0.262   \u001b[0m | \u001b[0m 56.57   \u001b[0m | \u001b[0m 0.1793  \u001b[0m | \u001b[0m 20.36   \u001b[0m |\n",
      "| \u001b[0m 95      \u001b[0m | \u001b[0m-0.2618  \u001b[0m | \u001b[0m 12.73   \u001b[0m | \u001b[0m 0.01    \u001b[0m | \u001b[0m 100.0   \u001b[0m |\n",
      "| \u001b[0m 96      \u001b[0m | \u001b[0m-0.2618  \u001b[0m | \u001b[0m 54.68   \u001b[0m | \u001b[0m 0.01    \u001b[0m | \u001b[0m 100.0   \u001b[0m |\n",
      "| \u001b[0m 97      \u001b[0m | \u001b[0m-0.262   \u001b[0m | \u001b[0m 61.45   \u001b[0m | \u001b[0m 0.1911  \u001b[0m | \u001b[0m 33.18   \u001b[0m |\n",
      "| \u001b[0m 98      \u001b[0m | \u001b[0m-0.2618  \u001b[0m | \u001b[0m 99.96   \u001b[0m | \u001b[0m 0.0354  \u001b[0m | \u001b[0m 6.909   \u001b[0m |\n",
      "| \u001b[0m 99      \u001b[0m | \u001b[0m-0.2618  \u001b[0m | \u001b[0m 36.84   \u001b[0m | \u001b[0m 0.1026  \u001b[0m | \u001b[0m 100.0   \u001b[0m |\n",
      "| \u001b[0m 100     \u001b[0m | \u001b[0m-0.262   \u001b[0m | \u001b[0m 44.48   \u001b[0m | \u001b[0m 0.1885  \u001b[0m | \u001b[0m 80.62   \u001b[0m |\n",
      "| \u001b[0m 101     \u001b[0m | \u001b[0m-0.262   \u001b[0m | \u001b[0m 31.27   \u001b[0m | \u001b[0m 0.1859  \u001b[0m | \u001b[0m 74.86   \u001b[0m |\n",
      "| \u001b[0m 102     \u001b[0m | \u001b[0m-0.1882  \u001b[0m | \u001b[0m 34.91   \u001b[0m | \u001b[0m 0.1728  \u001b[0m | \u001b[0m 0.1295  \u001b[0m |\n",
      "| \u001b[0m 103     \u001b[0m | \u001b[0m-0.262   \u001b[0m | \u001b[0m 0.1461  \u001b[0m | \u001b[0m 0.09023 \u001b[0m | \u001b[0m 38.1    \u001b[0m |\n",
      "| \u001b[0m 104     \u001b[0m | \u001b[0m-0.2618  \u001b[0m | \u001b[0m 100.0   \u001b[0m | \u001b[0m 0.08461 \u001b[0m | \u001b[0m 48.09   \u001b[0m |\n",
      "| \u001b[0m 105     \u001b[0m | \u001b[0m-0.2013  \u001b[0m | \u001b[0m 21.89   \u001b[0m | \u001b[0m 0.01    \u001b[0m | \u001b[0m 0.1     \u001b[0m |\n",
      "| \u001b[0m 106     \u001b[0m | \u001b[0m-0.262   \u001b[0m | \u001b[0m 21.11   \u001b[0m | \u001b[0m 0.1937  \u001b[0m | \u001b[0m 7.775   \u001b[0m |\n",
      "| \u001b[0m 107     \u001b[0m | \u001b[0m-0.2618  \u001b[0m | \u001b[0m 88.23   \u001b[0m | \u001b[0m 0.01    \u001b[0m | \u001b[0m 71.94   \u001b[0m |\n",
      "| \u001b[0m 108     \u001b[0m | \u001b[0m-0.2618  \u001b[0m | \u001b[0m 0.1     \u001b[0m | \u001b[0m 0.2     \u001b[0m | \u001b[0m 75.14   \u001b[0m |\n",
      "| \u001b[0m 109     \u001b[0m | \u001b[0m-0.2621  \u001b[0m | \u001b[0m 93.21   \u001b[0m | \u001b[0m 0.2     \u001b[0m | \u001b[0m 84.23   \u001b[0m |\n",
      "| \u001b[0m 110     \u001b[0m | \u001b[0m-0.2618  \u001b[0m | \u001b[0m 89.44   \u001b[0m | \u001b[0m 0.02804 \u001b[0m | \u001b[0m 50.63   \u001b[0m |\n",
      "| \u001b[0m 111     \u001b[0m | \u001b[0m-0.2618  \u001b[0m | \u001b[0m 89.98   \u001b[0m | \u001b[0m 0.04814 \u001b[0m | \u001b[0m 19.41   \u001b[0m |\n",
      "| \u001b[0m 112     \u001b[0m | \u001b[0m-0.1906  \u001b[0m | \u001b[0m 46.14   \u001b[0m | \u001b[0m 0.1886  \u001b[0m | \u001b[0m 0.1692  \u001b[0m |\n",
      "| \u001b[0m 113     \u001b[0m | \u001b[0m-0.1899  \u001b[0m | \u001b[0m 14.57   \u001b[0m | \u001b[0m 0.1874  \u001b[0m | \u001b[0m 0.1258  \u001b[0m |\n",
      "| \u001b[0m 114     \u001b[0m | \u001b[0m-0.2618  \u001b[0m | \u001b[0m 20.59   \u001b[0m | \u001b[0m 0.02262 \u001b[0m | \u001b[0m 92.24   \u001b[0m |\n",
      "| \u001b[0m 115     \u001b[0m | \u001b[0m-0.1886  \u001b[0m | \u001b[0m 86.87   \u001b[0m | \u001b[0m 0.1626  \u001b[0m | \u001b[0m 0.118   \u001b[0m |\n",
      "| \u001b[0m 116     \u001b[0m | \u001b[0m-0.262   \u001b[0m | \u001b[0m 79.1    \u001b[0m | \u001b[0m 0.1886  \u001b[0m | \u001b[0m 62.77   \u001b[0m |\n",
      "| \u001b[0m 117     \u001b[0m | \u001b[0m-0.1828  \u001b[0m | \u001b[0m 2.162   \u001b[0m | \u001b[0m 0.1336  \u001b[0m | \u001b[0m 0.1303  \u001b[0m |\n",
      "| \u001b[0m 118     \u001b[0m | \u001b[0m-0.1851  \u001b[0m | \u001b[0m 62.43   \u001b[0m | \u001b[0m 0.1177  \u001b[0m | \u001b[0m 0.149   \u001b[0m |\n",
      "| \u001b[0m 119     \u001b[0m | \u001b[0m-0.2013  \u001b[0m | \u001b[0m 85.67   \u001b[0m | \u001b[0m 0.01    \u001b[0m | \u001b[0m 0.1     \u001b[0m |\n",
      "| \u001b[0m 120     \u001b[0m | \u001b[0m-0.1908  \u001b[0m | \u001b[0m 93.43   \u001b[0m | \u001b[0m 0.2     \u001b[0m | \u001b[0m 0.1     \u001b[0m |\n",
      "| \u001b[0m 121     \u001b[0m | \u001b[0m-0.211   \u001b[0m | \u001b[0m 77.55   \u001b[0m | \u001b[0m 0.1837  \u001b[0m | \u001b[0m 0.547   \u001b[0m |\n",
      "| \u001b[0m 122     \u001b[0m | \u001b[0m-0.262   \u001b[0m | \u001b[0m 81.15   \u001b[0m | \u001b[0m 0.1896  \u001b[0m | \u001b[0m 18.71   \u001b[0m |\n",
      "| \u001b[0m 123     \u001b[0m | \u001b[0m-0.262   \u001b[0m | \u001b[0m 55.0    \u001b[0m | \u001b[0m 0.1669  \u001b[0m | \u001b[0m 40.93   \u001b[0m |\n",
      "| \u001b[0m 124     \u001b[0m | \u001b[0m-0.2621  \u001b[0m | \u001b[0m 16.41   \u001b[0m | \u001b[0m 0.1999  \u001b[0m | \u001b[0m 75.98   \u001b[0m |\n",
      "| \u001b[0m 125     \u001b[0m | \u001b[0m-0.262   \u001b[0m | \u001b[0m 69.34   \u001b[0m | \u001b[0m 0.189   \u001b[0m | \u001b[0m 78.4    \u001b[0m |\n",
      "| \u001b[0m 126     \u001b[0m | \u001b[0m-0.2618  \u001b[0m | \u001b[0m 99.98   \u001b[0m | \u001b[0m 0.04718 \u001b[0m | \u001b[0m 81.2    \u001b[0m |\n",
      "| \u001b[0m 127     \u001b[0m | \u001b[0m-0.2618  \u001b[0m | \u001b[0m 48.31   \u001b[0m | \u001b[0m 0.02098 \u001b[0m | \u001b[0m 17.76   \u001b[0m |\n",
      "| \u001b[0m 128     \u001b[0m | \u001b[0m-0.2618  \u001b[0m | \u001b[0m 50.88   \u001b[0m | \u001b[0m 0.02517 \u001b[0m | \u001b[0m 89.81   \u001b[0m |\n",
      "| \u001b[0m 129     \u001b[0m | \u001b[0m-0.1882  \u001b[0m | \u001b[0m 90.85   \u001b[0m | \u001b[0m 0.1649  \u001b[0m | \u001b[0m 0.1233  \u001b[0m |\n",
      "| \u001b[0m 130     \u001b[0m | \u001b[0m-0.1844  \u001b[0m | \u001b[0m 1.182   \u001b[0m | \u001b[0m 0.1962  \u001b[0m | \u001b[0m 0.1156  \u001b[0m |\n",
      "| \u001b[0m 131     \u001b[0m | \u001b[0m-0.2624  \u001b[0m | \u001b[0m 0.1636  \u001b[0m | \u001b[0m 0.04278 \u001b[0m | \u001b[0m 19.14   \u001b[0m |\n",
      "| \u001b[0m 132     \u001b[0m | \u001b[0m-0.1906  \u001b[0m | \u001b[0m 17.35   \u001b[0m | \u001b[0m 0.191   \u001b[0m | \u001b[0m 0.1099  \u001b[0m |\n",
      "| \u001b[0m 133     \u001b[0m | \u001b[0m-0.2013  \u001b[0m | \u001b[0m 56.19   \u001b[0m | \u001b[0m 0.01    \u001b[0m | \u001b[0m 0.1     \u001b[0m |\n",
      "| \u001b[0m 134     \u001b[0m | \u001b[0m-0.1811  \u001b[0m | \u001b[0m 0.6481  \u001b[0m | \u001b[0m 0.01469 \u001b[0m | \u001b[0m 0.1431  \u001b[0m |\n",
      "| \u001b[95m 135     \u001b[0m | \u001b[95m-0.1738  \u001b[0m | \u001b[95m 0.8186  \u001b[0m | \u001b[95m 0.03909 \u001b[0m | \u001b[95m 0.1482  \u001b[0m |\n",
      "| \u001b[0m 136     \u001b[0m | \u001b[0m-0.2013  \u001b[0m | \u001b[0m 61.77   \u001b[0m | \u001b[0m 0.01    \u001b[0m | \u001b[0m 0.1     \u001b[0m |\n",
      "| \u001b[0m 137     \u001b[0m | \u001b[0m-0.262   \u001b[0m | \u001b[0m 94.33   \u001b[0m | \u001b[0m 0.195   \u001b[0m | \u001b[0m 27.49   \u001b[0m |\n",
      "| \u001b[0m 138     \u001b[0m | \u001b[0m-0.2618  \u001b[0m | \u001b[0m 7.893   \u001b[0m | \u001b[0m 0.01308 \u001b[0m | \u001b[0m 72.58   \u001b[0m |\n",
      "| \u001b[0m 139     \u001b[0m | \u001b[0m-0.262   \u001b[0m | \u001b[0m 39.08   \u001b[0m | \u001b[0m 0.192   \u001b[0m | \u001b[0m 32.87   \u001b[0m |\n",
      "| \u001b[0m 140     \u001b[0m | \u001b[0m-0.262   \u001b[0m | \u001b[0m 99.97   \u001b[0m | \u001b[0m 0.1896  \u001b[0m | \u001b[0m 66.52   \u001b[0m |\n",
      "| \u001b[0m 141     \u001b[0m | \u001b[0m-0.2621  \u001b[0m | \u001b[0m 42.24   \u001b[0m | \u001b[0m 0.1996  \u001b[0m | \u001b[0m 60.28   \u001b[0m |\n",
      "| \u001b[0m 142     \u001b[0m | \u001b[0m-0.262   \u001b[0m | \u001b[0m 29.54   \u001b[0m | \u001b[0m 0.18    \u001b[0m | \u001b[0m 93.87   \u001b[0m |\n",
      "| \u001b[0m 143     \u001b[0m | \u001b[0m-0.262   \u001b[0m | \u001b[0m 48.01   \u001b[0m | \u001b[0m 0.1842  \u001b[0m | \u001b[0m 49.72   \u001b[0m |\n",
      "| \u001b[0m 144     \u001b[0m | \u001b[0m-0.1936  \u001b[0m | \u001b[0m 65.83   \u001b[0m | \u001b[0m 0.1937  \u001b[0m | \u001b[0m 0.2185  \u001b[0m |\n",
      "| \u001b[0m 145     \u001b[0m | \u001b[0m-0.2621  \u001b[0m | \u001b[0m 32.55   \u001b[0m | \u001b[0m 0.2     \u001b[0m | \u001b[0m 66.28   \u001b[0m |\n",
      "| \u001b[0m 146     \u001b[0m | \u001b[0m-0.262   \u001b[0m | \u001b[0m 19.6    \u001b[0m | \u001b[0m 0.191   \u001b[0m | \u001b[0m 30.88   \u001b[0m |\n",
      "| \u001b[0m 147     \u001b[0m | \u001b[0m-0.262   \u001b[0m | \u001b[0m 65.01   \u001b[0m | \u001b[0m 0.1967  \u001b[0m | \u001b[0m 24.06   \u001b[0m |\n",
      "| \u001b[0m 148     \u001b[0m | \u001b[0m-0.1906  \u001b[0m | \u001b[0m 32.67   \u001b[0m | \u001b[0m 0.1956  \u001b[0m | \u001b[0m 0.1121  \u001b[0m |\n",
      "| \u001b[0m 149     \u001b[0m | \u001b[0m-0.2618  \u001b[0m | \u001b[0m 88.87   \u001b[0m | \u001b[0m 0.02625 \u001b[0m | \u001b[0m 93.02   \u001b[0m |\n",
      "| \u001b[0m 150     \u001b[0m | \u001b[0m-0.192   \u001b[0m | \u001b[0m 10.97   \u001b[0m | \u001b[0m 0.04484 \u001b[0m | \u001b[0m 0.1312  \u001b[0m |\n",
      "| \u001b[0m 151     \u001b[0m | \u001b[0m-0.2625  \u001b[0m | \u001b[0m 0.1271  \u001b[0m | \u001b[0m 0.05731 \u001b[0m | \u001b[0m 92.93   \u001b[0m |\n",
      "| \u001b[0m 152     \u001b[0m | \u001b[0m-0.2021  \u001b[0m | \u001b[0m 0.1     \u001b[0m | \u001b[0m 0.01    \u001b[0m | \u001b[0m 0.1     \u001b[0m |\n",
      "| \u001b[0m 153     \u001b[0m | \u001b[0m-0.2621  \u001b[0m | \u001b[0m 21.83   \u001b[0m | \u001b[0m 0.2     \u001b[0m | \u001b[0m 55.0    \u001b[0m |\n",
      "| \u001b[0m 154     \u001b[0m | \u001b[0m-0.2621  \u001b[0m | \u001b[0m 81.48   \u001b[0m | \u001b[0m 0.2     \u001b[0m | \u001b[0m 52.92   \u001b[0m |\n",
      "| \u001b[0m 155     \u001b[0m | \u001b[0m-0.2618  \u001b[0m | \u001b[0m 63.74   \u001b[0m | \u001b[0m 0.01    \u001b[0m | \u001b[0m 100.0   \u001b[0m |\n",
      "| \u001b[0m 156     \u001b[0m | \u001b[0m-0.2618  \u001b[0m | \u001b[0m 6.275   \u001b[0m | \u001b[0m 0.04631 \u001b[0m | \u001b[0m 33.28   \u001b[0m |\n",
      "| \u001b[0m 157     \u001b[0m | \u001b[0m-0.262   \u001b[0m | \u001b[0m 69.95   \u001b[0m | \u001b[0m 0.1903  \u001b[0m | \u001b[0m 34.16   \u001b[0m |\n",
      "| \u001b[0m 158     \u001b[0m | \u001b[0m-0.2618  \u001b[0m | \u001b[0m 50.19   \u001b[0m | \u001b[0m 0.01    \u001b[0m | \u001b[0m 74.68   \u001b[0m |\n",
      "| \u001b[0m 159     \u001b[0m | \u001b[0m-0.2621  \u001b[0m | \u001b[0m 5.948   \u001b[0m | \u001b[0m 0.2     \u001b[0m | \u001b[0m 58.79   \u001b[0m |\n",
      "| \u001b[0m 160     \u001b[0m | \u001b[0m-0.2618  \u001b[0m | \u001b[0m 33.85   \u001b[0m | \u001b[0m 0.01    \u001b[0m | \u001b[0m 82.19   \u001b[0m |\n",
      "=============================================================\n"
     ]
    }
   ],
   "source": [
    "# the bayesian optimization does find this setting: \n",
    "# clf = SVR(verbose=True, gamma=0.08, C=1.1, epsilon=0.095)\n",
    "# You find this optimal setting by optimize each parameter from a solution from BO\n",
    "\n",
    "def lgb_eval(gamma, c, epsilon):\n",
    "\n",
    "    clf = SVR(verbose=True, gamma=gamma, C=c, epsilon=epsilon)\n",
    "    clf.fit(x_train, y_train)\n",
    "    y_hat_val = clf.predict(x_val)\n",
    "    rmse = np.sqrt(np.mean((y_hat_val - y_val)**2))\n",
    "    \n",
    "    return -rmse # -gbm.best_score['valid_0']['l1']\n",
    "\n",
    "  \n",
    "# what is the step size \n",
    "lgbBO = BayesianOptimization(lgb_eval, {'gamma': (0.1, 100),\n",
    "                                        'c': (0.1, 100),\n",
    "                                        'epsilon': (0.01, 0.2)}\n",
    "                                        , random_state=1)\n",
    "# optimize\n",
    "lgbBO.maximize(init_points=20, n_iter=150)"
   ]
  },
  {
   "cell_type": "code",
   "execution_count": 20,
   "metadata": {},
   "outputs": [
    {
     "data": {
      "image/png": "[encoded data removed]",
      "text/plain": [
       "<Figure size 432x288 with 1 Axes>"
      ]
     },
     "metadata": {
      "needs_background": "light"
     },
     "output_type": "display_data"
    }
   ],
   "source": [
    "plt.scatter(y_val, y_hat_val)\n",
    "plt.show()"
   ]
  },
  {
   "cell_type": "code",
   "execution_count": null,
   "metadata": {},
   "outputs": [],
   "source": []
  }
 ],
 "metadata": {
  "kernelspec": {
   "display_name": "Python 3",
   "language": "python",
   "name": "python3"
  },
  "language_info": {
   "codemirror_mode": {
    "name": "ipython",
    "version": 3
   },
   "file_extension": ".py",
   "mimetype": "text/x-python",
   "name": "python",
   "nbconvert_exporter": "python",
   "pygments_lexer": "ipython3",
   "version": "3.6.8"
  }
 },
 "nbformat": 4,
 "nbformat_minor": 2
}
